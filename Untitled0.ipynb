{
 "metadata": {
  "name": "",
  "signature": "sha256:0ca75cd3f1910cbd8636135429b01bf7599ba1be780721ddeab68cb467a84804"
 },
 "nbformat": 3,
 "nbformat_minor": 0,
 "worksheets": [
  {
   "cells": [
    {
     "cell_type": "code",
     "collapsed": false,
     "input": [
      "import MySQLdb\n",
      "#ssh -v bast1001.wikimedia.org\n",
      "conn = MySQLdb.connect(host=\"127.0.0.1\", port=8001, read_default_file=\"~/.stat3.cnf\")\n"
     ],
     "language": "python",
     "metadata": {},
     "outputs": [],
     "prompt_number": 12
    },
    {
     "cell_type": "code",
     "collapsed": false,
     "input": [],
     "language": "python",
     "metadata": {},
     "outputs": []
    }
   ],
   "metadata": {}
  }
 ]
}