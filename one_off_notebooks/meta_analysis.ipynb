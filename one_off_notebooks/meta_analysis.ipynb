{
 "metadata": {
  "name": "",
  "signature": "sha256:7c8e81a3fce5287d61f8ebf7a828b9bc1dd73cd9c2f07c1bcd5bc601762f312d"
 },
 "nbformat": 3,
 "nbformat_minor": 0,
 "worksheets": [
  {
   "cells": [
    {
     "cell_type": "code",
     "collapsed": false,
     "input": [
      "import os\n",
      "import pandas as pd\n",
      "%matplotlib inline\n",
      "import matplotlib.pyplot as plt\n",
      "\n",
      "def query_lutetium(query, file_name):\n",
      "        cmd = \"\"\"ssh lutetium \"mysql  --defaults-file=~/.my.cnf -e \\\\\" \"\"\" +query+ \"\"\" \\\\\" --socket  /tmp/mysql.sock\"> \"\"\"+ file_name\n",
      "        os.system(cmd)\n",
      "        d = pd.read_csv(file_name,  sep='\\t')\n",
      "        #os.system('rm ' + file_name)\n",
      "        return d"
     ],
     "language": "python",
     "metadata": {},
     "outputs": [],
     "prompt_number": 1
    },
    {
     "cell_type": "code",
     "collapsed": false,
     "input": [
      "\n",
      "\n",
      "banner_query = \"select \\\n",
      "    sum(count) as impressions, min(timestamp) as start, banner, campaign \\\n",
      "    from pgehres.bannerimpressions \\\n",
      "    group by banner\"\n",
      "\n",
      "d_banner = query_lutetium(banner_query, \"banners.csv\")\n",
      "\n",
      "\n"
     ],
     "language": "python",
     "metadata": {},
     "outputs": [],
     "prompt_number": 2
    },
    {
     "cell_type": "code",
     "collapsed": false,
     "input": [
      "donation_query = \"select\\\n",
      "    count(*) as donations, ct.utm_campaign as campaign, \\\n",
      "    left(substring_index(substring_index(utm_source, '.', 2),'.',1), length(substring_index(substring_index(utm_source, '.', 2),'.',1))) as banner \\\n",
      "    from civicrm.civicrm_contribution co \\\n",
      "    inner join drupal.contribution_tracking ct \\\n",
      "    on co.id = ct.contribution_id \\\n",
      "    group by left(substring_index(substring_index(utm_source, '.', 2),'.',1), length(substring_index(substring_index(utm_source, '.', 2),'.',1)))\" \n",
      "\n",
      "d_donation = query_lutetium(donation_query, \"donations.csv\")"
     ],
     "language": "python",
     "metadata": {},
     "outputs": [],
     "prompt_number": 3
    },
    {
     "cell_type": "code",
     "collapsed": false,
     "input": [
      "d_banner.head()"
     ],
     "language": "python",
     "metadata": {},
     "outputs": [
      {
       "html": [
        "<div style=\"max-height:1000px;max-width:1500px;overflow:auto;\">\n",
        "<table border=\"1\" class=\"dataframe\">\n",
        "  <thead>\n",
        "    <tr style=\"text-align: right;\">\n",
        "      <th></th>\n",
        "      <th>impressions</th>\n",
        "      <th>start</th>\n",
        "      <th>banner</th>\n",
        "    </tr>\n",
        "  </thead>\n",
        "  <tbody>\n",
        "    <tr>\n",
        "      <th>0</th>\n",
        "      <td> 100</td>\n",
        "      <td> 2012-11-02 19:24:00</td>\n",
        "      <td>  B12_FpcwNondDef</td>\n",
        "    </tr>\n",
        "    <tr>\n",
        "      <th>1</th>\n",
        "      <td> 100</td>\n",
        "      <td> 2013-08-05 15:35:00</td>\n",
        "      <td>       (select 1)</td>\n",
        "    </tr>\n",
        "    <tr>\n",
        "      <th>2</th>\n",
        "      <td> 100</td>\n",
        "      <td> 2013-08-26 22:25:00</td>\n",
        "      <td>     (select 1,2)</td>\n",
        "    </tr>\n",
        "    <tr>\n",
        "      <th>3</th>\n",
        "      <td>   1</td>\n",
        "      <td> 2012-02-01 17:31:00</td>\n",
        "      <td>                0</td>\n",
        "    </tr>\n",
        "    <tr>\n",
        "      <th>4</th>\n",
        "      <td> 100</td>\n",
        "      <td> 2014-09-11 09:00:00</td>\n",
        "      <td>         0258pqz&gt;</td>\n",
        "    </tr>\n",
        "  </tbody>\n",
        "</table>\n",
        "</div>"
       ],
       "metadata": {},
       "output_type": "pyout",
       "prompt_number": 92,
       "text": [
        "   impressions                start            banner\n",
        "0          100  2012-11-02 19:24:00   B12_FpcwNondDef\n",
        "1          100  2013-08-05 15:35:00        (select 1)\n",
        "2          100  2013-08-26 22:25:00      (select 1,2)\n",
        "3            1  2012-02-01 17:31:00                 0\n",
        "4          100  2014-09-11 09:00:00          0258pqz>"
       ]
      }
     ],
     "prompt_number": 92
    },
    {
     "cell_type": "code",
     "collapsed": false,
     "input": [],
     "language": "python",
     "metadata": {},
     "outputs": [],
     "prompt_number": 92
    },
    {
     "cell_type": "code",
     "collapsed": false,
     "input": [
      "d = pd.merge(d_banner, d_donation, how='inner', on='banner')"
     ],
     "language": "python",
     "metadata": {},
     "outputs": [],
     "prompt_number": 93
    },
    {
     "cell_type": "code",
     "collapsed": false,
     "input": [
      "d.shape"
     ],
     "language": "python",
     "metadata": {},
     "outputs": [
      {
       "metadata": {},
       "output_type": "pyout",
       "prompt_number": 94,
       "text": [
        "(2027, 4)"
       ]
      }
     ],
     "prompt_number": 94
    },
    {
     "cell_type": "code",
     "collapsed": false,
     "input": [
      "d_clean = d.ix[d['impressions'] > 100000]"
     ],
     "language": "python",
     "metadata": {},
     "outputs": [],
     "prompt_number": 95
    },
    {
     "cell_type": "code",
     "collapsed": false,
     "input": [
      "d_clean['rate'] = d['donations'] / d['impressions']\n",
      "d_clean.index = pd.to_datetime(d_clean['start'])\n"
     ],
     "language": "python",
     "metadata": {},
     "outputs": [],
     "prompt_number": 96
    },
    {
     "cell_type": "code",
     "collapsed": false,
     "input": [
      "d_clean.head()"
     ],
     "language": "python",
     "metadata": {},
     "outputs": [
      {
       "html": [
        "<div style=\"max-height:1000px;max-width:1500px;overflow:auto;\">\n",
        "<table border=\"1\" class=\"dataframe\">\n",
        "  <thead>\n",
        "    <tr style=\"text-align: right;\">\n",
        "      <th></th>\n",
        "      <th>impressions</th>\n",
        "      <th>start</th>\n",
        "      <th>banner</th>\n",
        "      <th>donations</th>\n",
        "      <th>rate</th>\n",
        "    </tr>\n",
        "    <tr>\n",
        "      <th>start</th>\n",
        "      <th></th>\n",
        "      <th></th>\n",
        "      <th></th>\n",
        "      <th></th>\n",
        "      <th></th>\n",
        "    </tr>\n",
        "  </thead>\n",
        "  <tbody>\n",
        "    <tr>\n",
        "      <th>2011-11-03 23:55:00</th>\n",
        "      <td>  720494</td>\n",
        "      <td> 2011-11-03 23:55:00</td>\n",
        "      <td>              B11_1103_CAtest</td>\n",
        "      <td> 151</td>\n",
        "      <td> 0.000210</td>\n",
        "    </tr>\n",
        "    <tr>\n",
        "      <th>2011-11-04 02:48:00</th>\n",
        "      <td> 2430133</td>\n",
        "      <td> 2011-11-04 02:48:00</td>\n",
        "      <td>   B11_1104_Jimmy_DonateTest1</td>\n",
        "      <td> 500</td>\n",
        "      <td> 0.000206</td>\n",
        "    </tr>\n",
        "    <tr>\n",
        "      <th>2011-11-04 21:31:00</th>\n",
        "      <td>  390741</td>\n",
        "      <td> 2011-11-04 21:31:00</td>\n",
        "      <td> B11_1104_Jimmy_DonateTest_AU</td>\n",
        "      <td> 237</td>\n",
        "      <td> 0.000607</td>\n",
        "    </tr>\n",
        "    <tr>\n",
        "      <th>2011-11-04 23:30:00</th>\n",
        "      <td> 1495265</td>\n",
        "      <td> 2011-11-04 23:30:00</td>\n",
        "      <td>    B11_1104_MultilingualTest</td>\n",
        "      <td> 214</td>\n",
        "      <td> 0.000143</td>\n",
        "    </tr>\n",
        "    <tr>\n",
        "      <th>2011-11-04 17:34:00</th>\n",
        "      <td> 1400845</td>\n",
        "      <td> 2011-11-04 17:34:00</td>\n",
        "      <td>   B11_1104_US4_JimmyOriginal</td>\n",
        "      <td> 419</td>\n",
        "      <td> 0.000299</td>\n",
        "    </tr>\n",
        "  </tbody>\n",
        "</table>\n",
        "</div>"
       ],
       "metadata": {},
       "output_type": "pyout",
       "prompt_number": 97,
       "text": [
        "                     impressions                start  \\\n",
        "start                                                   \n",
        "2011-11-03 23:55:00       720494  2011-11-03 23:55:00   \n",
        "2011-11-04 02:48:00      2430133  2011-11-04 02:48:00   \n",
        "2011-11-04 21:31:00       390741  2011-11-04 21:31:00   \n",
        "2011-11-04 23:30:00      1495265  2011-11-04 23:30:00   \n",
        "2011-11-04 17:34:00      1400845  2011-11-04 17:34:00   \n",
        "\n",
        "                                           banner  donations      rate  \n",
        "start                                                                   \n",
        "2011-11-03 23:55:00               B11_1103_CAtest        151  0.000210  \n",
        "2011-11-04 02:48:00    B11_1104_Jimmy_DonateTest1        500  0.000206  \n",
        "2011-11-04 21:31:00  B11_1104_Jimmy_DonateTest_AU        237  0.000607  \n",
        "2011-11-04 23:30:00     B11_1104_MultilingualTest        214  0.000143  \n",
        "2011-11-04 17:34:00    B11_1104_US4_JimmyOriginal        419  0.000299  "
       ]
      }
     ],
     "prompt_number": 97
    },
    {
     "cell_type": "code",
     "collapsed": false,
     "input": [
      "fig = plt.figure(figsize=(10, 6), dpi=80)\n",
      "ax = fig.add_subplot(111)\n",
      "plt.xticks(rotation=70)\n",
      "#formatter = DateFormatter('%Y-%m-%d %H:%M')\n",
      "#plt.gcf().axes[0].xaxis.set_major_formatter(formatter)\n",
      "\n",
      "d_plot = d_clean['2013-2-04 23:30:00':'2014-10-04 23:30:00']\n",
      "d_plot = d_plot.ix[d_plot['banner'].apply(lambda x: 'US' in x and 'mob' not in x)]\n",
      "print d_plot.shape\n",
      "\n",
      "ax.plot(d_plot.index, d_plot['rate'], 'go' )\n",
      "\n",
      "plt.ylabel('rate')\n",
      "plt.show()"
     ],
     "language": "python",
     "metadata": {},
     "outputs": [
      {
       "output_type": "stream",
       "stream": "stdout",
       "text": [
        "(127, 5)\n"
       ]
      },
      {
       "metadata": {},
       "output_type": "display_data",
       "png": "[encoded data removed]",
       "text": [
        "<matplotlib.figure.Figure at 0x10f059590>"
       ]
      }
     ],
     "prompt_number": 106
    }
   ],
   "metadata": {}
  }
 ]
}