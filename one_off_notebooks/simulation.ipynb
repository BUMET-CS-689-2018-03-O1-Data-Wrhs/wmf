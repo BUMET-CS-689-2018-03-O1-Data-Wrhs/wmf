{
 "metadata": {
  "name": "",
  "signature": "sha256:1b921a008979dec9fc2543f46fdc320f98866ff09377f6467aa0660c1e5a1d21"
 },
 "nbformat": 3,
 "nbformat_minor": 0,
 "worksheets": [
  {
   "cells": [
    {
     "cell_type": "code",
     "collapsed": false,
     "input": [
      "import numpy as np\n",
      "import matplotlib.pyplot as plt\n",
      "%matplotlib inline\n",
      "import pandas as pd\n",
      "pd.options.display.mpl_style = 'default'\n",
      "\n",
      "from scipy import stats\n",
      "\n",
      "import numpy as np\n",
      "from stats_utils import *\n",
      "\n",
      "\n",
      "\n"
     ],
     "language": "python",
     "metadata": {},
     "outputs": [],
     "prompt_number": 1
    },
    {
     "cell_type": "markdown",
     "metadata": {},
     "source": [
      "AB tests are rarely run in isolation. Usually, there is a feature of the site that you are continually trying to improve and you do so by running one AB test after another."
     ]
    },
    {
     "cell_type": "code",
     "collapsed": false,
     "input": [
      "We r"
     ],
     "language": "python",
     "metadata": {},
     "outputs": []
    },
    {
     "cell_type": "code",
     "collapsed": false,
     "input": [],
     "language": "python",
     "metadata": {},
     "outputs": []
    },
    {
     "cell_type": "code",
     "collapsed": false,
     "input": [
      "def run_test(mu, sigma, alpha, beta, mde, control_rate, ):\n",
      "    # create treatment banner with a lift drawn from the lift distribution\n",
      "    lift = np.random.normal(mu, sigma)\n",
      "    treatment_rate = control_rate*(1.0+lift/100.0)\n",
      "\n",
      "    # run null hypothesis test with a fixed sample size\n",
      "    N = samples_per_branch_calculator(control_rate, mde=mde, alpha=alpha, power=beta)\n",
      "    n_c = np.random.binomial(N, control_rate);\n",
      "    n_t = np.random.binomial(N, treatment_rate);\n",
      "    p = stats.chi2_contingency(np.array([[N-n_c,n_c], [N-n_t, n_t]]))[1]\n",
      "\n",
      "    # if p < alpha, its a toss up, pick either\n",
      "    if p > alpha:\n",
      "        if np.random.binomial(1, 1.0): \n",
      "            return control_rate\n",
      "        else:\n",
      "            return treatment_rate\n",
      "\n",
      "\n",
      "    # other wise pick the winner\n",
      "    else:\n",
      "        if n_c > n_t:\n",
      "            return control_rate\n",
      "        else:\n",
      "            return treatment_rate\n",
      "    "
     ],
     "language": "python",
     "metadata": {},
     "outputs": [],
     "prompt_number": 74
    },
    {
     "cell_type": "code",
     "collapsed": false,
     "input": [
      "def expected_gain(sigma, alpha, beta, mde, control_rate, num_tests):\n",
      "    \n",
      "    mus = range(-5, 6)\n",
      "    mean_gains\n",
      "\n",
      "    for mu in mus:\n",
      "        gain = []\n",
      "        for i in range(0,num_tests):\n",
      "            new_rate = run_test(mu, sigma, alpha, beta, mde, control_rate)\n",
      "            gain.append((new_rate-control_rate)/control_rate)\n",
      "        gain = np.array(gain)\n",
      "        d.iloc[mu]['mean'] = gain.mean()\n",
      "        d[mu, 'upper'] = gain.mean() +2*gain.std()\n",
      "        d[mu, 'lower'] = gain.mean() -2*gain.std()\n",
      "\n",
      "        \n",
      "    print d.head()\n",
      "    \n",
      "    \n",
      "    plt.plot(mus, d2['mean'], label= 'current rate')\n",
      "    plt.fill_between(mus, d2['lower'], d2['upper'], alpha=0.31, edgecolor='#3F7F4C', facecolor='0.75',linewidth=0)\n",
      "    \n",
      "    plt.xlabel('mu')\n",
      "    plt.ylabel('expected improvement from an AB Test')\n",
      "    "
     ],
     "language": "python",
     "metadata": {},
     "outputs": [],
     "prompt_number": 129
    },
    {
     "cell_type": "code",
     "collapsed": false,
     "input": [
      "fig = plt.figure()\n",
      "expected_gain(4, alpha, beta, mde, base_rate, 10)"
     ],
     "language": "python",
     "metadata": {},
     "outputs": [
      {
       "output_type": "stream",
       "stream": "stdout",
       "text": [
        "   mean upper lower  (-5, upper)  (-5, lower)  (-4, upper)  (-4, lower)  \\\n",
        "-5  NaN   NaN   NaN            0            0            0            0   \n",
        "-4  NaN   NaN   NaN            0            0            0            0   \n",
        "-3  NaN   NaN   NaN            0            0            0            0   \n",
        "-2  NaN   NaN   NaN            0            0            0            0   \n",
        "-1  NaN   NaN   NaN            0            0            0            0   \n",
        "\n",
        "    (-3, upper)  (-3, lower)  (-2, upper)     ...       (1, upper)  \\\n",
        "-5     0.027769    -0.019835            0     ...         0.001223   \n",
        "-4     0.027769    -0.019835            0     ...         0.001223   \n",
        "-3     0.027769    -0.019835            0     ...         0.001223   \n",
        "-2     0.027769    -0.019835            0     ...         0.001223   \n",
        "-1     0.027769    -0.019835            0     ...         0.001223   \n",
        "\n",
        "    (1, lower)  (2, upper)  (2, lower)  (3, upper)  (3, lower)  (4, upper)  \\\n",
        "-5   -0.000873    0.007061   -0.005043    0.045009   -0.032149    0.130841   \n",
        "-4   -0.000873    0.007061   -0.005043    0.045009   -0.032149    0.130841   \n",
        "-3   -0.000873    0.007061   -0.005043    0.045009   -0.032149    0.130841   \n",
        "-2   -0.000873    0.007061   -0.005043    0.045009   -0.032149    0.130841   \n",
        "-1   -0.000873    0.007061   -0.005043    0.045009   -0.032149    0.130841   \n",
        "\n",
        "    (4, lower)  (5, upper)  (5, lower)  \n",
        "-5   -0.046869    0.094096    -0.03702  \n",
        "-4   -0.046869    0.094096    -0.03702  \n",
        "-3   -0.046869    0.094096    -0.03702  \n",
        "-2   -0.046869    0.094096    -0.03702  \n",
        "-1   -0.046869    0.094096    -0.03702  \n",
        "\n",
        "[5 rows x 25 columns]\n"
       ]
      },
      {
       "output_type": "stream",
       "stream": "stderr",
       "text": [
        "-c:12: SettingWithCopyWarning: A value is trying to be set on a copy of a slice from a DataFrame.\n",
        "Try using .loc[row_index,col_indexer] = value instead\n"
       ]
      },
      {
       "ename": "NameError",
       "evalue": "global name 'd2' is not defined",
       "output_type": "pyerr",
       "traceback": [
        "\u001b[0;31m---------------------------------------------------------------------------\u001b[0m\n\u001b[0;31mNameError\u001b[0m                                 Traceback (most recent call last)",
        "\u001b[0;32m<ipython-input-130-15c30334e3b5>\u001b[0m in \u001b[0;36m<module>\u001b[0;34m()\u001b[0m\n\u001b[1;32m      1\u001b[0m \u001b[0mfig\u001b[0m \u001b[0;34m=\u001b[0m \u001b[0mplt\u001b[0m\u001b[0;34m.\u001b[0m\u001b[0mfigure\u001b[0m\u001b[0;34m(\u001b[0m\u001b[0;34m)\u001b[0m\u001b[0;34m\u001b[0m\u001b[0m\n\u001b[0;32m----> 2\u001b[0;31m \u001b[0mexpected_gain\u001b[0m\u001b[0;34m(\u001b[0m\u001b[0;36m4\u001b[0m\u001b[0;34m,\u001b[0m \u001b[0malpha\u001b[0m\u001b[0;34m,\u001b[0m \u001b[0mbeta\u001b[0m\u001b[0;34m,\u001b[0m \u001b[0mmde\u001b[0m\u001b[0;34m,\u001b[0m \u001b[0mbase_rate\u001b[0m\u001b[0;34m,\u001b[0m \u001b[0;36m10\u001b[0m\u001b[0;34m)\u001b[0m\u001b[0;34m\u001b[0m\u001b[0m\n\u001b[0m",
        "\u001b[0;32m<ipython-input-129-a20177874b29>\u001b[0m in \u001b[0;36mexpected_gain\u001b[0;34m(sigma, alpha, beta, mde, control_rate, num_tests)\u001b[0m\n\u001b[1;32m     18\u001b[0m \u001b[0;34m\u001b[0m\u001b[0m\n\u001b[1;32m     19\u001b[0m \u001b[0;34m\u001b[0m\u001b[0m\n\u001b[0;32m---> 20\u001b[0;31m     \u001b[0mplt\u001b[0m\u001b[0;34m.\u001b[0m\u001b[0mplot\u001b[0m\u001b[0;34m(\u001b[0m\u001b[0mmus\u001b[0m\u001b[0;34m,\u001b[0m \u001b[0md2\u001b[0m\u001b[0;34m[\u001b[0m\u001b[0;34m'mean'\u001b[0m\u001b[0;34m]\u001b[0m\u001b[0;34m,\u001b[0m \u001b[0mlabel\u001b[0m\u001b[0;34m=\u001b[0m \u001b[0;34m'current rate'\u001b[0m\u001b[0;34m)\u001b[0m\u001b[0;34m\u001b[0m\u001b[0m\n\u001b[0m\u001b[1;32m     21\u001b[0m     \u001b[0mplt\u001b[0m\u001b[0;34m.\u001b[0m\u001b[0mfill_between\u001b[0m\u001b[0;34m(\u001b[0m\u001b[0mmus\u001b[0m\u001b[0;34m,\u001b[0m \u001b[0md2\u001b[0m\u001b[0;34m[\u001b[0m\u001b[0;34m'lower'\u001b[0m\u001b[0;34m]\u001b[0m\u001b[0;34m,\u001b[0m \u001b[0md2\u001b[0m\u001b[0;34m[\u001b[0m\u001b[0;34m'upper'\u001b[0m\u001b[0;34m]\u001b[0m\u001b[0;34m,\u001b[0m \u001b[0malpha\u001b[0m\u001b[0;34m=\u001b[0m\u001b[0;36m0.31\u001b[0m\u001b[0;34m,\u001b[0m \u001b[0medgecolor\u001b[0m\u001b[0;34m=\u001b[0m\u001b[0;34m'#3F7F4C'\u001b[0m\u001b[0;34m,\u001b[0m \u001b[0mfacecolor\u001b[0m\u001b[0;34m=\u001b[0m\u001b[0;34m'0.75'\u001b[0m\u001b[0;34m,\u001b[0m\u001b[0mlinewidth\u001b[0m\u001b[0;34m=\u001b[0m\u001b[0;36m0\u001b[0m\u001b[0;34m)\u001b[0m\u001b[0;34m\u001b[0m\u001b[0m\n\u001b[1;32m     22\u001b[0m \u001b[0;34m\u001b[0m\u001b[0m\n",
        "\u001b[0;31mNameError\u001b[0m: global name 'd2' is not defined"
       ]
      },
      {
       "metadata": {},
       "output_type": "display_data",
       "text": [
        "<matplotlib.figure.Figure at 0x10c029250>"
       ]
      }
     ],
     "prompt_number": 130
    },
    {
     "cell_type": "code",
     "collapsed": false,
     "input": [
      "expected_gain(4, alpha, beta, mde, base_rate, 500)"
     ],
     "language": "python",
     "metadata": {},
     "outputs": [
      {
       "metadata": {},
       "output_type": "display_data",
       "png": "[encoded data removed]",
       "text": [
        "<matplotlib.figure.Figure at 0x10c2fb410>"
       ]
      }
     ],
     "prompt_number": 92
    },
    {
     "cell_type": "code",
     "collapsed": false,
     "input": [
      "def simulate_campaign(mu, sigma, alpha, beta, mde, base_rate, num_tests):\n",
      "    true_rates = [base_rate, ]\n",
      "    \n",
      "    for i in range(num_tests):\n",
      "        \n",
      "        #the control of the current test is the winner of the last test\n",
      "        control_rate = true_rates[-1]\n",
      "\n",
      "        true_rates.append (run_test(mu, sigma, alpha, beta, mde, control_rate))\n",
      "       \n",
      "    return true_rates\n",
      "        "
     ],
     "language": "python",
     "metadata": {},
     "outputs": [],
     "prompt_number": 67
    },
    {
     "cell_type": "code",
     "collapsed": false,
     "input": [
      "def expected_campaign_results(mu, sigma, alpha, beta, mde, base_rate, num_tests, max_rate, sim_runs):\n",
      "    fig = plt.figure(figsize=(10, 6), dpi=80)\n",
      "    \n",
      "    d = pd.DataFrame()\n",
      "    for i in range(sim_runs):\n",
      "        d[i] = simulate_campaign(mu, sigma, alpha, beta, mde, base_rate, num_tests)\n",
      "        \n",
      "    d2 = pd.DataFrame()\n",
      "    d2['mean'] = d.mean(axis=1)\n",
      "    d2['lower'] = d2['mean'] + 2*d.std(axis=1)\n",
      "    d2['upper'] = d2['mean'] - 2*d.std(axis=1)\n",
      "    \n",
      "    plt.plot(d2.index, d2['mean'], label= 'current rate')\n",
      "    plt.fill_between(d2.index, d2['lower'], d2['upper'], alpha=0.31, edgecolor='#3F7F4C', facecolor='0.75',linewidth=0)\n",
      "    \n",
      "    plt.xlabel('num tests')\n",
      "    plt.ylabel('donation rate')\n",
      "    \n",
      "    plt.plot(d2.index, [base_rate]*(num_tests+1), label = 'start rate')\n",
      "    plt.legend()\n",
      "        \n",
      "    "
     ],
     "language": "python",
     "metadata": {},
     "outputs": [],
     "prompt_number": 49
    },
    {
     "cell_type": "code",
     "collapsed": false,
     "input": [
      "def plot_improvements(mu, sigma):\n",
      "    x = np.arange(-45.0, 45.0, 0.5)\n",
      "    plt.xticks(np.arange(-45.0, 45.0, 5))\n",
      "    plt.plot(x, 1/(sigma * np.sqrt(2 * np.pi)) *np.exp( - (x - mu)**2 / (2 * sigma**2) ))\n"
     ],
     "language": "python",
     "metadata": {},
     "outputs": [],
     "prompt_number": 45
    },
    {
     "cell_type": "code",
     "collapsed": false,
     "input": [
      "#Distribution over % Improvements\n",
      "mu = -5.0\n",
      "sigma = 3\n",
      "\n",
      "plot_improvements(mu, sigma)"
     ],
     "language": "python",
     "metadata": {},
     "outputs": [
      {
       "metadata": {},
       "output_type": "display_data",
       "png": "[encoded data removed]",
       "text": [
        "<matplotlib.figure.Figure at 0x10c069410>"
       ]
      }
     ],
     "prompt_number": 83
    },
    {
     "cell_type": "code",
     "collapsed": false,
     "input": [
      "\n",
      "\n",
      "# hypothesis test params\n",
      "alpha = 0.05\n",
      "beta = 0.8\n",
      "mde = 0.10\n",
      "\n",
      "#camapign params\n",
      "num_tests = 30\n",
      "max_rate = 0.5\n",
      "base_rate = 0.2\n",
      "\n",
      "\n",
      "#number of trials\n",
      "sim_runs = 100"
     ],
     "language": "python",
     "metadata": {},
     "outputs": [],
     "prompt_number": 80
    },
    {
     "cell_type": "code",
     "collapsed": false,
     "input": [
      "expected_campaign_results(mu, sigma, alpha, beta, mde, base_rate, num_tests, max_rate, sim_runs)"
     ],
     "language": "python",
     "metadata": {},
     "outputs": [
      {
       "metadata": {},
       "output_type": "display_data",
       "png": "[encoded data removed]",
       "text": [
        "<matplotlib.figure.Figure at 0x10bbe6a50>"
       ]
      }
     ],
     "prompt_number": 93
    },
    {
     "cell_type": "code",
     "collapsed": false,
     "input": [],
     "language": "python",
     "metadata": {},
     "outputs": []
    }
   ],
   "metadata": {}
  }
 ]
}