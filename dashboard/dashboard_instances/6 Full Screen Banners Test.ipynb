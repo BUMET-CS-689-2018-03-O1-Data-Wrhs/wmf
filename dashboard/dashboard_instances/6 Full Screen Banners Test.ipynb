{
 "metadata": {
  "name": "",
  "signature": "sha256:02d164b9d4d2a33bf0b3801d44b3c631e92540c14db993918f0c6e313c8dfcd8"
 },
 "nbformat": 3,
 "nbformat_minor": 0,
 "worksheets": [
  {
   "cells": [
    {
     "cell_type": "code",
     "collapsed": false,
     "input": [
      "\n",
      "%matplotlib inline\n",
      "%load_ext autoreload\n",
      "%autoreload 2\n",
      "import pandas as pd\n",
      "pd.options.display.mpl_style = 'default'\n",
      "\n",
      "import inspect, os\n",
      "currentdir = os.path.dirname(os.path.abspath(inspect.getfile(inspect.currentframe())))\n",
      "parentdir = os.path.dirname(currentdir)\n",
      "os.sys.path.insert(0,parentdir) \n",
      "from src.dashboard_helpers import Test, custom_amount_stats\n",
      "from src.data_retrieval import *\n",
      "\n"
     ],
     "language": "python",
     "metadata": {},
     "outputs": [],
     "prompt_number": ""
    },
    {
     "cell_type": "code",
     "collapsed": false,
     "input": [
      "a ='B14_1121_fl_bglng_enUS' # (big font, long message)\n",
      "b = 'B14_1121_fl_bgsht_enUS' # (big font, short message)\n",
      "c = 'B14_1121_fs_lgblk_enUS'# (long message, black background)\n",
      "d = 'B14_1121_fs_smlng_enUS'# (small font, long message) \n",
      "e = 'B14_1121_fs_wgbtf_enUS'# (where box graphic, bottom form)\n",
      "f = 'B14_1121_fs_wgsdf_enUS'# (where box graphic, side form) \n"
     ],
     "language": "python",
     "metadata": {},
     "outputs": [],
     "prompt_number": ""
    },
    {
     "cell_type": "markdown",
     "metadata": {},
     "source": [
      "Here 6 different banners were tested simulataneously"
     ]
    },
    {
     "cell_type": "code",
     "collapsed": false,
     "input": [
      "t_lutetium = Test(a, b, b, c, d, e, f, start = '2014-11-22 14:30', stop = '2014-11-22 16:30')"
     ],
     "language": "python",
     "metadata": {},
     "outputs": []
    },
    {
     "cell_type": "markdown",
     "metadata": {},
     "source": [
      "This test object loaded banner impression data from the pgehres tables on lutetium"
     ]
    },
    {
     "cell_type": "code",
     "collapsed": false,
     "input": [
      "t_hive = Test(a, b, b, c, d, e, f, hive = True, start = '2014-11-22 14:30', stop = '2014-11-22 16:30')"
     ],
     "language": "python",
     "metadata": {},
     "outputs": [],
     "prompt_number": ""
    },
    {
     "cell_type": "markdown",
     "metadata": {},
     "source": [
      "This test object loaded impression data from my table in hive"
     ]
    },
    {
     "cell_type": "code",
     "collapsed": false,
     "input": [
      "t_lutetium.ecom()"
     ],
     "language": "python",
     "metadata": {},
     "outputs": [],
     "prompt_number": ""
    },
    {
     "cell_type": "code",
     "collapsed": false,
     "input": [
      "t_hive.ecom()"
     ],
     "language": "python",
     "metadata": {},
     "outputs": [],
     "prompt_number": ""
    },
    {
     "cell_type": "markdown",
     "metadata": {},
     "source": [
      "The traffic column is the total number of RecordImpression requests allocated to each banner. The traffic numbers in t_hive match up nicely with the impression numbers in t_lutetium. A bug? I think so. The recent patch that sends back the banner and campaign values when the reason is hide, may have broken FR-Techs scripts for counting impressions. My hypothesis is they are now counting hiden banners as impressions. Also, look at those amazing donation rates!!!!"
     ]
    },
    {
     "cell_type": "code",
     "collapsed": false,
     "input": [
      "t_hive.get_traffic_stats(a, b, c, d, e, f)"
     ],
     "language": "python",
     "metadata": {},
     "outputs": [],
     "prompt_number": ""
    },
    {
     "cell_type": "markdown",
     "metadata": {},
     "source": [
      "Here I've broken traffic down by the uri_query parameters result and reason and the spider tag from the ua_parser udf in hive"
     ]
    },
    {
     "cell_type": "code",
     "collapsed": false,
     "input": [
      "t_hive.plot_impressions(smooth = 1, stop = '2014-11-22 16:00')"
     ],
     "language": "python",
     "metadata": {},
     "outputs": [],
     "prompt_number": ""
    },
    {
     "cell_type": "markdown",
     "metadata": {},
     "source": [
      "The fact that impressions dip, is totally expected since the banners were all fullscreen banners set to show up once per client"
     ]
    },
    {
     "cell_type": "code",
     "collapsed": false,
     "input": [
      "t_lutetium.plot_impressions(smooth = 1, stop = '2014-11-22 16:00')"
     ],
     "language": "python",
     "metadata": {},
     "outputs": [],
     "prompt_number": ""
    },
    {
     "cell_type": "markdown",
     "metadata": {},
     "source": [
      "Since hive data is unsampled, it looks much cleaner. There is no notivable dip over time."
     ]
    },
    {
     "cell_type": "code",
     "collapsed": false,
     "input": [
      " t_hive.plot_show_hide(a)"
     ],
     "language": "python",
     "metadata": {},
     "outputs": [],
     "prompt_number": ""
    },
    {
     "cell_type": "markdown",
     "metadata": {},
     "source": [
      "Here I've plotted the breakdown of result and reason fields over time. Notice how the number of hidden banners with reason=seen-fullscreen grows over time."
     ]
    },
    {
     "cell_type": "code",
     "collapsed": false,
     "input": [
      "t_hive.rate_stats( a, b,c, d, e, f,  conf = 90, test = 'donations/impressions', plot = True)"
     ],
     "language": "python",
     "metadata": {},
     "outputs": [],
     "prompt_number": ""
    },
    {
     "cell_type": "code",
     "collapsed": false,
     "input": [
      "t_lutetium.rate_stats( a, b,c, d, e, f,  conf = 90, test = 'donations/impressions', plot = True)"
     ],
     "language": "python",
     "metadata": {},
     "outputs": [],
     "prompt_number": ""
    },
    {
     "cell_type": "markdown",
     "metadata": {},
     "source": [
      "Not only does the bug thow off donation rates, it also messes with the stats for determining the winning banner. T_lutetium thinks that two banners are identical, while t_hive thinks there is a clear winner."
     ]
    },
    {
     "cell_type": "markdown",
     "metadata": {},
     "source": [
      "Let's seee if this pattern holds up across more tests"
     ]
    },
    {
     "cell_type": "code",
     "collapsed": false,
     "input": [
      "a = 'B14_1111_enFR_dsk_top_txt_tys_n'\n",
      "b = 'B14_1111_enFR_dsk_top_txt_tys_y'"
     ],
     "language": "python",
     "metadata": {},
     "outputs": [],
     "prompt_number": ""
    },
    {
     "cell_type": "code",
     "collapsed": false,
     "input": [
      "t_hive2 = Test(a, b, hive = True, start = '2014-11-12', stop = '2014-11-17')"
     ],
     "language": "python",
     "metadata": {},
     "outputs": [],
     "prompt_number": ""
    },
    {
     "cell_type": "code",
     "collapsed": false,
     "input": [
      "t_lutetium2 = Test(a, b, start = '2014-11-12', stop = '2014-11-17')"
     ],
     "language": "python",
     "metadata": {},
     "outputs": [],
     "prompt_number": ""
    },
    {
     "cell_type": "code",
     "collapsed": false,
     "input": [
      "t_lutetium2.ecom()"
     ],
     "language": "python",
     "metadata": {},
     "outputs": [],
     "prompt_number": ""
    },
    {
     "cell_type": "code",
     "collapsed": false,
     "input": [
      "t_hive2.ecom()"
     ],
     "language": "python",
     "metadata": {},
     "outputs": [],
     "prompt_number": ""
    },
    {
     "cell_type": "code",
     "collapsed": false,
     "input": [
      "t_lutetium2.plot_impressions()"
     ],
     "language": "python",
     "metadata": {},
     "outputs": [],
     "prompt_number": ""
    },
    {
     "cell_type": "code",
     "collapsed": false,
     "input": [
      "t_hive2.plot_impressions()"
     ],
     "language": "python",
     "metadata": {},
     "outputs": [],
     "prompt_number": ""
    },
    {
     "cell_type": "code",
     "collapsed": false,
     "input": [],
     "language": "python",
     "metadata": {},
     "outputs": []
    }
   ],
   "metadata": {}
  }
 ]
}