{
 "metadata": {
  "name": "",
  "signature": "sha256:b1c35411fb15f116e151d30ec9f7727d5e6afa7b8df063c46866cf11559d628f"
 },
 "nbformat": 3,
 "nbformat_minor": 0,
 "worksheets": [
  {
   "cells": [
    {
     "cell_type": "code",
     "collapsed": false,
     "input": [
      "\n",
      "%matplotlib inline\n",
      "%load_ext autoreload\n",
      "%autoreload 2\n",
      "import pandas as pd\n",
      "pd.options.display.mpl_style = 'default'\n",
      "\n",
      "import inspect, os\n",
      "currentdir = os.path.dirname(os.path.abspath(inspect.getfile(inspect.currentframe())))\n",
      "parentdir = os.path.dirname(currentdir)\n",
      "os.sys.path.insert(0,parentdir) \n",
      "from src.dashboard_helpers import Test, custom_amount_stats\n",
      "from src.data_retrieval import *\n",
      "\n"
     ],
     "language": "python",
     "metadata": {},
     "outputs": [],
     "prompt_number": ""
    },
    {
     "cell_type": "code",
     "collapsed": false,
     "input": [
      "t = Test(\"B14_1027_enUS_mob_hl_ls\", \"B14_1027_enUS_mob_hl_mr\", start = '2014-10-4')"
     ],
     "language": "python",
     "metadata": {},
     "outputs": [],
     "prompt_number": ""
    },
    {
     "cell_type": "code",
     "collapsed": false,
     "input": [
      "t.ecom()"
     ],
     "language": "python",
     "metadata": {},
     "outputs": [],
     "prompt_number": ""
    },
    {
     "cell_type": "code",
     "collapsed": false,
     "input": [
      "t.get_payment_method_details()"
     ],
     "language": "python",
     "metadata": {},
     "outputs": [],
     "prompt_number": ""
    },
    {
     "cell_type": "code",
     "collapsed": false,
     "input": [
      "t.plot_impressions( \"B14_1027_enUS_mob_hl_ls\", \"B14_1027_enUS_mob_hl_mr\", stop = '2014-11-6', smooth = 30)"
     ],
     "language": "python",
     "metadata": {},
     "outputs": [],
     "prompt_number": ""
    },
    {
     "cell_type": "markdown",
     "metadata": {},
     "source": [
      "Looks like  impressions for really start to diverge after the 3rd day, just like in the ipad test, but this time with mr, the other banner lagging! How can this be? Some artifact of central notice? "
     ]
    },
    {
     "cell_type": "code",
     "collapsed": false,
     "input": [
      "t.rate_stats( \"B14_1027_enUS_mob_hl_ls\", \"B14_1027_enUS_mob_hl_mr\", conf = 95, rate = 'donations/impressions')"
     ],
     "language": "python",
     "metadata": {},
     "outputs": [],
     "prompt_number": ""
    },
    {
     "cell_type": "markdown",
     "metadata": {},
     "source": [
      "We don't have enough data to tell which banner is better. Just that the difference is probably less than 5%. I think we should still want to go after 5% gains. Ten 5% gains will give you a bump in donations per impression by a factor of 1.63, which would be amazing."
     ]
    },
    {
     "cell_type": "code",
     "collapsed": false,
     "input": [
      "t.rate_stats( \"B14_1027_enUS_mob_hl_ls\", \"B14_1027_enUS_mob_hl_mr\", conf = 95, rate = 'clicks/impressions')"
     ],
     "language": "python",
     "metadata": {},
     "outputs": [],
     "prompt_number": ""
    },
    {
     "cell_type": "markdown",
     "metadata": {},
     "source": [
      "Same comment as above applies"
     ]
    },
    {
     "cell_type": "code",
     "collapsed": false,
     "input": [
      "t.rate_stats( \"B14_1027_enUS_mob_hl_ls\", \"B14_1027_enUS_mob_hl_mr\", conf = 90, rate = 'donations/clicks')"
     ],
     "language": "python",
     "metadata": {},
     "outputs": [],
     "prompt_number": ""
    },
    {
     "cell_type": "markdown",
     "metadata": {},
     "source": [
      "Same comment as above applies. Good to see the reults are consistent"
     ]
    },
    {
     "cell_type": "code",
     "collapsed": false,
     "input": [
      "t.compare_donation_amounts(\"B14_1027_enUS_mob_hl_ls\", \"B14_1027_enUS_mob_hl_mr\")"
     ],
     "language": "python",
     "metadata": {},
     "outputs": [],
     "prompt_number": ""
    },
    {
     "cell_type": "code",
     "collapsed": false,
     "input": [
      "t.amount_stats( \"B14_1027_enUS_mob_hl_ls\", \"B14_1027_enUS_mob_hl_mr\", conf = 90, test = 'clean_donations/impressions')"
     ],
     "language": "python",
     "metadata": {},
     "outputs": [],
     "prompt_number": ""
    },
    {
     "cell_type": "code",
     "collapsed": false,
     "input": [
      "t.amount_stats( \"B14_1027_enUS_mob_hl_ls\", \"B14_1027_enUS_mob_hl_mr\", conf = 90, test = 'clean_donations/clicks')"
     ],
     "language": "python",
     "metadata": {},
     "outputs": [],
     "prompt_number": ""
    },
    {
     "cell_type": "markdown",
     "metadata": {},
     "source": [
      "Same story as above. We need more data. The test must run longer. What if one banner really did give 2 dollars more per click? That would be great and I think its worth knowing."
     ]
    }
   ],
   "metadata": {}
  }
 ]
}