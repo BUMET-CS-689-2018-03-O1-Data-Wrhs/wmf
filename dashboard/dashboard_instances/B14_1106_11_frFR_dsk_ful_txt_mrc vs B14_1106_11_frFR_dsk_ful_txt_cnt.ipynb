{
 "metadata": {
  "name": "",
  "signature": "sha256:b59423ccf5447cf111a00c4fffa6885daa1c87390efb180b930edc4e8d5dc759"
 },
 "nbformat": 3,
 "nbformat_minor": 0,
 "worksheets": [
  {
   "cells": [
    {
     "cell_type": "code",
     "collapsed": false,
     "input": [
      "\n",
      "%matplotlib inline\n",
      "%load_ext autoreload\n",
      "%autoreload 2\n",
      "import pandas as pd\n",
      "pd.options.display.mpl_style = 'default'\n",
      "\n",
      "import inspect, os\n",
      "\n",
      "currentdir = os.path.dirname(os.path.abspath(inspect.getfile(inspect.currentframe())))\n",
      "parentdir = os.path.dirname(currentdir)\n",
      "os.sys.path.insert(0,parentdir) \n",
      "from src.dashboard_helpers import Test, custom_amount_stats\n",
      "from src.data_retrieval import *\n",
      "\n"
     ],
     "language": "python",
     "metadata": {},
     "outputs": [],
     "prompt_number": ""
    },
    {
     "cell_type": "code",
     "collapsed": false,
     "input": [
      "a = 'B14_1106_11_frFR_dsk_ful_txt_mrc'\n",
      "b = 'B14_1106_11_frFR_dsk_ful_txt_cnt'\n",
      "t = Test(a, hive = True, start = '2014-11-06 13:00', stop = '2014-11-07 19:00')"
     ],
     "language": "python",
     "metadata": {},
     "outputs": [],
     "prompt_number": ""
    },
    {
     "cell_type": "code",
     "collapsed": false,
     "input": [
      "t.ecom()"
     ],
     "language": "python",
     "metadata": {},
     "outputs": [],
     "prompt_number": ""
    },
    {
     "cell_type": "code",
     "collapsed": false,
     "input": [
      "t.data['B14_1106_11_frFR_dsk_ful_txt_mrc']['traffic'].groupby(['result', 'spider']).sum()\n"
     ],
     "language": "python",
     "metadata": {},
     "outputs": [],
     "prompt_number": ""
    },
    {
     "cell_type": "code",
     "collapsed": false,
     "input": [
      "t2 = Test(a, start = '2014-11-06 13:00', stop = '2014-11-07 19:00')\n",
      "t2.ecom()"
     ],
     "language": "python",
     "metadata": {},
     "outputs": [],
     "prompt_number": ""
    },
    {
     "cell_type": "code",
     "collapsed": false,
     "input": [
      "t.get_payment_method_details()"
     ],
     "language": "python",
     "metadata": {},
     "outputs": [],
     "prompt_number": ""
    },
    {
     "cell_type": "code",
     "collapsed": false,
     "input": [
      "t.plot_impressions(a, b, smooth = 10)"
     ],
     "language": "python",
     "metadata": {},
     "outputs": [],
     "prompt_number": ""
    },
    {
     "cell_type": "markdown",
     "metadata": {},
     "source": [
      "Looks like things impressions for mr really start to diverge after the 3rd day"
     ]
    },
    {
     "cell_type": "code",
     "collapsed": false,
     "input": [
      "t.rate_stats( a, b, conf = 99, test = 'donations/impressions', plot = True)"
     ],
     "language": "python",
     "metadata": {},
     "outputs": [],
     "prompt_number": ""
    },
    {
     "cell_type": "markdown",
     "metadata": {},
     "source": [
      "We are pretty confident that MRC is better, but very unsure about how much better it is"
     ]
    },
    {
     "cell_type": "code",
     "collapsed": false,
     "input": [
      "t.amount_stats( a, b, conf = 99, test = 'donations/impressions')"
     ],
     "language": "python",
     "metadata": {},
     "outputs": [],
     "prompt_number": ""
    },
    {
     "cell_type": "markdown",
     "metadata": {},
     "source": [
      "We are pretty sure MRC gives more donations per impressions."
     ]
    },
    {
     "cell_type": "code",
     "collapsed": false,
     "input": [
      "t.amount_stats( a, b, conf = 99, test = 'donations/clicks')"
     ],
     "language": "python",
     "metadata": {},
     "outputs": [],
     "prompt_number": ""
    },
    {
     "cell_type": "markdown",
     "metadata": {},
     "source": [
      "Looks like once people click, there is no difference in the amounts people donate"
     ]
    }
   ],
   "metadata": {}
  }
 ]
}