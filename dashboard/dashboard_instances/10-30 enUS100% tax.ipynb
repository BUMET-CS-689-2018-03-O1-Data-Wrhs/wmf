{
 "metadata": {
  "name": "",
  "signature": "sha256:f6d313d02ccc535d7e30d1fe4278093b024719e7d77a696c302f4935c2c8bfda"
 },
 "nbformat": 3,
 "nbformat_minor": 0,
 "worksheets": [
  {
   "cells": [
    {
     "cell_type": "code",
     "collapsed": false,
     "input": [
      "\n",
      "%matplotlib inline\n",
      "%load_ext autoreload\n",
      "%autoreload 2\n",
      "import pandas as pd\n",
      "pd.options.display.mpl_style = 'default'\n",
      "\n",
      "import inspect, os\n",
      "currentdir = os.path.dirname(os.path.abspath(inspect.getfile(inspect.currentframe())))\n",
      "parentdir = os.path.dirname(currentdir)\n",
      "os.sys.path.insert(0,parentdir) \n",
      "from src.dashboard_helpers import Test, custom_amount_stats\n",
      "from src.data_retrieval import *\n",
      "\n",
      "\n"
     ],
     "language": "python",
     "metadata": {},
     "outputs": [],
     "prompt_number": ""
    },
    {
     "cell_type": "code",
     "collapsed": false,
     "input": [
      "t = Test(\"B14_1030_enUS_dsk_tx_n2\", \"B14_1030_enUS_dsk_tx_y2\")"
     ],
     "language": "python",
     "metadata": {},
     "outputs": [],
     "prompt_number": ""
    },
    {
     "cell_type": "code",
     "collapsed": false,
     "input": [
      "t.samples_per_branch_calculator(0.003)"
     ],
     "language": "python",
     "metadata": {},
     "outputs": [],
     "prompt_number": ""
    },
    {
     "cell_type": "code",
     "collapsed": false,
     "input": [
      "t.ecom()"
     ],
     "language": "python",
     "metadata": {},
     "outputs": [],
     "prompt_number": ""
    },
    {
     "cell_type": "code",
     "collapsed": false,
     "input": [
      "t.compare_donation_amounts(\"B14_1030_enUS_dsk_tx_y2\", \"B14_1030_enUS_dsk_tx_n2\" )"
     ],
     "language": "python",
     "metadata": {},
     "outputs": [],
     "prompt_number": ""
    },
    {
     "cell_type": "markdown",
     "metadata": {},
     "source": [
      "It looks like y2 gets more donations above 6$."
     ]
    },
    {
     "cell_type": "code",
     "collapsed": false,
     "input": [
      "t.get_payment_method_details()"
     ],
     "language": "python",
     "metadata": {},
     "outputs": [],
     "prompt_number": ""
    },
    {
     "cell_type": "markdown",
     "metadata": {},
     "source": [
      "It looks like the average amount for y2 is slightly higher for all non-recurring payment methods. First let's test if y2 gives more dollars per impresssion."
     ]
    },
    {
     "cell_type": "code",
     "collapsed": false,
     "input": [
      "t.rate_stats( \"B14_1030_enUS_dsk_tx_y2\", \"B14_1030_enUS_dsk_tx_n2\", conf = 95, test = 'donations/impressions')"
     ],
     "language": "python",
     "metadata": {},
     "outputs": [],
     "prompt_number": ""
    },
    {
     "cell_type": "markdown",
     "metadata": {},
     "source": [
      "This test would have needed to run longer. We don't know if its better or worse. All we can say is that the difference is likely to be small. Estimating amounts is much harder than estimtating rates so not much hope here."
     ]
    },
    {
     "cell_type": "code",
     "collapsed": false,
     "input": [
      "t.rate_stats( \"B14_1030_enUS_dsk_tx_y2\", \"B14_1030_enUS_dsk_tx_n2\", conf = 90, test = 'clicks/impressions')"
     ],
     "language": "python",
     "metadata": {},
     "outputs": [],
     "prompt_number": ""
    },
    {
     "cell_type": "markdown",
     "metadata": {},
     "source": [
      "Same as above"
     ]
    },
    {
     "cell_type": "code",
     "collapsed": false,
     "input": [
      "t.amount_stats( \"B14_1030_enUS_dsk_tx_y2\", \"B14_1030_enUS_dsk_tx_n2\", conf = 90, test = 'donations/impressions')"
     ],
     "language": "python",
     "metadata": {},
     "outputs": [],
     "prompt_number": ""
    },
    {
     "cell_type": "markdown",
     "metadata": {},
     "source": [
      "The test claims we are 95% confident that y2 gives more money per impression. But, we know y2 got more donations per impression and that this result is not significant. Maybe this diffrence in observed amount per impression is due to the non-significant lift in donations per impression. Lets remove that possible confound by comparing the amount of money given per click. "
     ]
    },
    {
     "cell_type": "code",
     "collapsed": false,
     "input": [
      "t.amount_stats( \"B14_1030_enUS_dsk_tx_y2\", \"B14_1030_enUS_dsk_tx_n2\", conf = 90, test = 'donations/clicks')"
     ],
     "language": "python",
     "metadata": {},
     "outputs": [],
     "prompt_number": ""
    },
    {
     "cell_type": "markdown",
     "metadata": {},
     "source": [
      "Here we tried to answer the question: When people click on a banner, do they give more money for y2 that n2? The 90% confidence interval is quite wide and centered almost around 0, so we can't say what is going on here. The diffference could be large or small, positive or negative. Just for kicks, lets go further by breaking the analysis down by payment method."
     ]
    },
    {
     "cell_type": "code",
     "collapsed": false,
     "input": [
      "\n",
      "def compare_amount_per_click_by_payment_method(t,  method):\n",
      "    a = \"B14_1030_enUS_dsk_tx_y2\"\n",
      "    a_donations = t.data[a]['donations']\n",
      "    a_clicks = t.data[a]['clicks']\n",
      "    a_payapal_donations = a_donations.ix[a_donations['payment_method'] == method]['amount']\n",
      "    a_payapal_clicks = a_clicks.ix[a_clicks['payment_method'] == method].shape[0]\n",
      "\n",
      "    b = \"B14_1030_enUS_dsk_tx_n2\"\n",
      "    b_donations = t.data[b]['donations']\n",
      "    b_clicks = t.data[b]['clicks']\n",
      "    b_payapal_donations = b_donations.ix[b_donations['payment_method'] == method]['amount']\n",
      "    b_payapal_clicks = b_clicks.ix[b_clicks['payment_method'] == method].shape[0]\n",
      "\n",
      "    custom_amount_stats(a_payapal_donations, a_payapal_clicks, b_payapal_donations, b_payapal_clicks, conf = 90 )\n"
     ],
     "language": "python",
     "metadata": {},
     "outputs": [],
     "prompt_number": ""
    },
    {
     "cell_type": "code",
     "collapsed": false,
     "input": [
      "compare_amount_per_click_by_payment_method(t,  'paypal')"
     ],
     "language": "python",
     "metadata": {},
     "outputs": [],
     "prompt_number": ""
    },
    {
     "cell_type": "code",
     "collapsed": false,
     "input": [
      "compare_amount_per_click_by_payment_method(t,  'cc')"
     ],
     "language": "python",
     "metadata": {},
     "outputs": [],
     "prompt_number": ""
    },
    {
     "cell_type": "code",
     "collapsed": false,
     "input": [
      "compare_amount_per_click_by_payment_method(t,  'amazon')"
     ],
     "language": "python",
     "metadata": {},
     "outputs": [],
     "prompt_number": ""
    },
    {
     "cell_type": "markdown",
     "metadata": {},
     "source": [
      "Again, the confidence intervals are are wide and mainly centered around 0. In conclusion, we can't tell what is going on with the amount of data available."
     ]
    },
    {
     "cell_type": "code",
     "collapsed": false,
     "input": [],
     "language": "python",
     "metadata": {},
     "outputs": []
    }
   ],
   "metadata": {}
  }
 ]
}