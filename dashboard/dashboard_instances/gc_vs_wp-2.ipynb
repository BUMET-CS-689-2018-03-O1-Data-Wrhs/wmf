{
 "metadata": {
  "name": "",
  "signature": "sha256:557d193093df3485cb4a5749cc971aeef891d5eb3488daffedc22b9914e3feba"
 },
 "nbformat": 3,
 "nbformat_minor": 0,
 "worksheets": [
  {
   "cells": [
    {
     "cell_type": "code",
     "collapsed": false,
     "input": [
      "%matplotlib inline\n",
      "%load_ext autoreload\n",
      "%autoreload 2\n",
      "import pandas as pd\n",
      "pd.options.display.mpl_style = 'default'\n",
      "\n",
      "\n",
      "import inspect, os\n",
      "currentdir = os.path.dirname(os.path.abspath(inspect.getfile(inspect.currentframe())))\n",
      "parentdir = os.path.dirname(currentdir)\n",
      "os.sys.path.insert(0,parentdir) \n",
      "from src.dashboard_helpers import Test\n",
      "from src.data_retrieval import *\n",
      "\n",
      "\n",
      "\n"
     ],
     "language": "python",
     "metadata": {},
     "outputs": [],
     "prompt_number": ""
    },
    {
     "cell_type": "code",
     "collapsed": false,
     "input": [
      "gc = \"B14_1031_frBE_gtw_gc_2\"\n",
      "wp = \"B14_1031_frBE_gtw_wp_2\"\n",
      "t = Test(gc, wp)"
     ],
     "language": "python",
     "metadata": {},
     "outputs": [],
     "prompt_number": ""
    },
    {
     "cell_type": "code",
     "collapsed": false,
     "input": [
      "t.ecom()"
     ],
     "language": "python",
     "metadata": {},
     "outputs": [],
     "prompt_number": ""
    },
    {
     "cell_type": "code",
     "collapsed": false,
     "input": [
      "t.get_payment_method_details()"
     ],
     "language": "python",
     "metadata": {},
     "outputs": [],
     "prompt_number": ""
    },
    {
     "cell_type": "code",
     "collapsed": false,
     "input": [
      "t.rate_stats( gc, wp, conf = 99, test = 'donations/impressions', plot = True)"
     ],
     "language": "python",
     "metadata": {},
     "outputs": [],
     "prompt_number": ""
    },
    {
     "cell_type": "code",
     "collapsed": false,
     "input": [],
     "language": "python",
     "metadata": {},
     "outputs": []
    },
    {
     "cell_type": "code",
     "collapsed": false,
     "input": [
      "t.rate_stats( gc, wp, conf = 99, test = 'clicks/impressions', plot = True)"
     ],
     "language": "python",
     "metadata": {},
     "outputs": [],
     "prompt_number": ""
    },
    {
     "cell_type": "markdown",
     "metadata": {},
     "source": [
      "Wow! Looks like there is a huge difference? How can this be? Lets set this aside and investigate the question we care most about: Are the two payment processors different? We know the paypal landing pages were the same, so lets look at cc donations per cc clicks."
     ]
    },
    {
     "cell_type": "code",
     "collapsed": false,
     "input": [
      "t.rate_stats( gc, wp, conf = 99, test = 'donations/clicks', plot = True)"
     ],
     "language": "python",
     "metadata": {},
     "outputs": [],
     "prompt_number": ""
    },
    {
     "cell_type": "code",
     "collapsed": false,
     "input": [
      "t.AB_stats( 'B14_1021_frBE_gtw_gc', 'B14_1021_frBE_gtw_wp', conf = 95, event = 'cc')"
     ],
     "language": "python",
     "metadata": {},
     "outputs": [],
     "prompt_number": ""
    },
    {
     "cell_type": "markdown",
     "metadata": {},
     "source": [
      "Huh, no significant difference. Can we trust the results? I would be wary since it looks like something is wrong in our treatment assignemnt. Next steps could be to run the test again and swap which banner is in which bucket or run the same experiment much longer.  "
     ]
    },
    {
     "cell_type": "code",
     "collapsed": false,
     "input": [
      "t.plot_impressions( gc, wp, smooth = 50)"
     ],
     "language": "python",
     "metadata": {},
     "outputs": [],
     "prompt_number": ""
    },
    {
     "cell_type": "markdown",
     "metadata": {},
     "source": [
      "On weekends, traffic is lower!"
     ]
    },
    {
     "cell_type": "code",
     "collapsed": false,
     "input": [
      "t.compare_donation_amounts(gc, wp )"
     ],
     "language": "python",
     "metadata": {},
     "outputs": [],
     "prompt_number": ""
    },
    {
     "cell_type": "code",
     "collapsed": false,
     "input": [
      "t.plot_utm_key(gc, wp, max_key = 5, normalize = True)"
     ],
     "language": "python",
     "metadata": {},
     "outputs": [],
     "prompt_number": ""
    },
    {
     "cell_type": "markdown",
     "metadata": {},
     "source": [
      "Wow! These distributions should be the same!\n"
     ]
    },
    {
     "cell_type": "code",
     "collapsed": false,
     "input": [
      "t.plot_donations_over_time(gc, wp, smooth = 100, amount = False)"
     ],
     "language": "python",
     "metadata": {},
     "outputs": [],
     "prompt_number": ""
    },
    {
     "cell_type": "markdown",
     "metadata": {},
     "source": [
      "Although on weekends, traffic is lower, but people are more willing to donate!"
     ]
    }
   ],
   "metadata": {}
  }
 ]
}