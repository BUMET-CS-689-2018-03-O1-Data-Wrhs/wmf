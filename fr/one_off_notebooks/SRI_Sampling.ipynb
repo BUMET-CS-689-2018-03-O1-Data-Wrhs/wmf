{
 "cells": [
  {
   "cell_type": "markdown",
   "metadata": {},
   "source": [
    "### S:RI Sampling\n",
    "\n",
    "Goal: Count impressions for banner b.\n",
    "\n",
    "I will assume S:RI only gets sent when the banner is shown (for simplicity and to model future (and expected) behavior). Lets define the following variables:\n",
    "\n",
    "- t: some unit of time we are colecting data for\n",
    "- n_b: number of impressions for banner b in time t\n",
    "- n_i: number of impressions of any banner in time t\n",
    "- n: number of requests (with and without SR:I) in time t\n",
    "- r: sampling rate (e.g 0.01)\n",
    "\n",
    "\n"
   ]
  },
  {
   "cell_type": "markdown",
   "metadata": {},
   "source": [
    "### Scenario 1: Filter on SRI, then sample at rate r: (\n",
    "\n",
    "Let's ignore that sampling was done on an ordered stream of events. I will model things as we first collect all n_i S:RI requests in some urn (hint, hint) and then take n_i * r samples from the urn at random and without replacement. We count the number of impression for b in our sample. Our estimate for n_b will be that number divided by the sampling rate. This estimate follows a scaled version of the textbook [hypergeometric](https://en.wikipedia.org/wiki/Hypergeometric_distribution) distribution: $\\frac{1}{r} * hypergeometric(n_b, n_i, n_i*r)$. \n"
   ]
  },
  {
   "cell_type": "code",
   "execution_count": 1,
   "metadata": {
    "collapsed": false
   },
   "outputs": [
    {
     "name": "stderr",
     "output_type": "stream",
     "text": [
      "Vendor:  Continuum Analytics, Inc.\n",
      "Package: mkl\n",
      "Message: trial mode expires in 21 days\n"
     ]
    }
   ],
   "source": [
    "from scipy.stats import hypergeom\n",
    "import numpy as np \n",
    "from scipy.misc import comb as choose\n",
    "import matplotlib.pyplot as plt \n",
    "%matplotlib inline\n",
    "import seaborn as sns\n",
    "from stats_utils import bayesian_ci\n",
    "\n",
    "    \n",
    "def hypergeometric_sample( n_good, n_total, n_draws, n_samples = 100000):\n",
    "    \"\"\"\n",
    "    Returns sample drawn hypergeometric distribution.\n",
    "    \"\"\"\n",
    "    n = n_good\n",
    "    M = n_total\n",
    "    N = n_draws\n",
    "    return hypergeom.rvs(M, n, N, size = n_samples)\n",
    "\n",
    "\n",
    "def plot_sample(sample, theta):\n",
    "    \n",
    "    ci = bayesian_ci(sample, 95)\n",
    "    rel_ci = ((ci[0] -theta )*100 / theta, ( ci[1] - theta)*100 / theta )\n",
    "    plt.hist(sample, bins = 100)\n",
    "    print ('True Value:' , n_b)\n",
    "    print('Confidence Interval: ', ci)\n",
    "    print('Confidence Interval on Relative Error: (%.2f%%, %.2f%%)' % rel_ci)\n",
    "        \n",
    "      \n",
    "def plot_sample_dist_1(n_b, n_i, n, r):\n",
    "    \"\"\"\n",
    "    Plots a sample (e.g approximate pmf) of a hypergeometric for scenario 1\n",
    "    \"\"\"\n",
    "    sample = hypergeometric_sample(n_b, n_i, int(n_i*r))/r\n",
    "    plot_sample(sample, n_b)\n",
    "    \n",
    "    "
   ]
  },
  {
   "cell_type": "markdown",
   "metadata": {},
   "source": [
    "### Scenario 2: Sample at rate r: then filter on SRI\n",
    "\n",
    "Let's again ignore that sampling was done on an ordered stream of events. This time I will model things as if every request is collected in an urn. We take n * r samples from the urn at random and without replacement and count those that correspond to an impression of banner b. As above, our estimate for n_b will that count divided by the sampling rate. The number items corresponding to a banner impression of b follows the distribution: $\\frac{1}{r} *hypergeometric(n_b, n, n*r)$. \n"
   ]
  },
  {
   "cell_type": "code",
   "execution_count": 2,
   "metadata": {
    "collapsed": false
   },
   "outputs": [],
   "source": [
    "def plot_sample_dist_2(n_b, n_i, n, r):    \n",
    "    sample = hypergeometric_sample(n_b, n, int(n*r))/r\n",
    "    plot_sample(sample, n_b)\n",
    "    "
   ]
  },
  {
   "cell_type": "markdown",
   "metadata": {},
   "source": [
    "Now we need to model some realistic testing scenarios:"
   ]
  },
  {
   "cell_type": "markdown",
   "metadata": {},
   "source": [
    "### Short 100% test, CN Running Mainly just for this test"
   ]
  },
  {
   "cell_type": "code",
   "execution_count": 3,
   "metadata": {
    "collapsed": false
   },
   "outputs": [
    {
     "name": "stdout",
     "output_type": "stream",
     "text": [
      "Num Requests: 166666000\n",
      "Num S:RI: 166666\n",
      "Num impressions: 150000\n"
     ]
    }
   ],
   "source": [
    "n_b = 150000\n",
    "\n",
    "p_i = 0.001 # fraction of requests that are S:RI (this is a quess)\n",
    "p_i_b = 0.90 # fraction of impression from this banner\n",
    "\n",
    "n_i = int(n_b / p_i_b)\n",
    "n = int(n_i / p_i)\n",
    "r = 1./100\n",
    "\n",
    "print ('Num Requests: %d' % n)\n",
    "print ('Num S:RI: %d' % n_i)\n",
    "print ('Num impressions: %d' % n_b)"
   ]
  },
  {
   "cell_type": "code",
   "execution_count": 4,
   "metadata": {
    "collapsed": false
   },
   "outputs": [
    {
     "name": "stdout",
     "output_type": "stream",
     "text": [
      "True Value: 150000\n",
      "Confidence Interval:  (147500.0, 152300.0)\n",
      "Confidence Interval on Relative Error: (-1.67%, 1.53%)\n"
     ]
    },
    {
     "data": {
      "image/png": "[encoded data removed]",
      "text/plain": [
       "<matplotlib.figure.Figure at 0x105fa70f0>"
      ]
     },
     "metadata": {},
     "output_type": "display_data"
    }
   ],
   "source": [
    "plot_sample_dist_1(n_b, n_i, n, r)"
   ]
  },
  {
   "cell_type": "code",
   "execution_count": 5,
   "metadata": {
    "collapsed": false
   },
   "outputs": [
    {
     "name": "stdout",
     "output_type": "stream",
     "text": [
      "True Value: 150000\n",
      "Confidence Interval:  (142500.0, 157600.0)\n",
      "Confidence Interval on Relative Error: (-5.00%, 5.07%)\n"
     ]
    },
    {
     "data": {
      "image/png": "[encoded data removed]",
      "text/plain": [
       "<matplotlib.figure.Figure at 0x105fa7198>"
      ]
     },
     "metadata": {},
     "output_type": "display_data"
    }
   ],
   "source": [
    "plot_sample_dist_2(n_b, n_i, n, r)"
   ]
  },
  {
   "cell_type": "markdown",
   "metadata": {},
   "source": [
    "Here method 1 gives significanlty better results. I would say the accuracy of method 2 is unacceptable."
   ]
  },
  {
   "cell_type": "markdown",
   "metadata": {},
   "source": [
    "### Short 100% test, CN running several campaigns"
   ]
  },
  {
   "cell_type": "code",
   "execution_count": 6,
   "metadata": {
    "collapsed": false
   },
   "outputs": [
    {
     "name": "stdout",
     "output_type": "stream",
     "text": [
      "Num Requests: 1500000000\n",
      "Num S:RI: 1500000\n",
      "Num impressions: 150000\n"
     ]
    }
   ],
   "source": [
    "n_b = 150000\n",
    "\n",
    "p_i = 0.001 # fraction of requests that are S:RI (this is a quess)\n",
    "p_i_b = 0.1 # fraction of impression from this banner\n",
    "\n",
    "n_i = int(n_b / p_i_b)\n",
    "n = int(n_i / p_i)\n",
    "r = 1./100\n",
    "\n",
    "print ('Num Requests: %d' % n)\n",
    "print ('Num S:RI: %d' % n_i)\n",
    "print ('Num impressions: %d' % n_b)"
   ]
  },
  {
   "cell_type": "code",
   "execution_count": 7,
   "metadata": {
    "collapsed": false
   },
   "outputs": [
    {
     "name": "stdout",
     "output_type": "stream",
     "text": [
      "True Value: 150000\n",
      "Confidence Interval:  (142900.0, 157300.0)\n",
      "Confidence Interval on Relative Error: (-4.73%, 4.87%)\n"
     ]
    },
    {
     "data": {
      "image/png": "[encoded data removed]",
      "text/plain": [
       "<matplotlib.figure.Figure at 0x11722a3c8>"
      ]
     },
     "metadata": {},
     "output_type": "display_data"
    }
   ],
   "source": [
    "plot_sample_dist_1(n_b, n_i, n, r)"
   ]
  },
  {
   "cell_type": "code",
   "execution_count": 8,
   "metadata": {
    "collapsed": false
   },
   "outputs": [
    {
     "name": "stdout",
     "output_type": "stream",
     "text": [
      "True Value: 150000\n",
      "Confidence Interval:  (142500.0, 157600.0)\n",
      "Confidence Interval on Relative Error: (-5.00%, 5.07%)\n"
     ]
    },
    {
     "data": {
      "image/png": "[encoded data removed]",
      "text/plain": [
       "<matplotlib.figure.Figure at 0x1171559b0>"
      ]
     },
     "metadata": {},
     "output_type": "display_data"
    }
   ],
   "source": [
    "plot_sample_dist_2(n_b, n_i, n, r)"
   ]
  },
  {
   "cell_type": "markdown",
   "metadata": {},
   "source": [
    "Here the 2 methods are comparable and equally unacceptable."
   ]
  },
  {
   "cell_type": "markdown",
   "metadata": {},
   "source": [
    "# What if S:RI takes up a much smaller fraction of all requests"
   ]
  },
  {
   "cell_type": "code",
   "execution_count": 12,
   "metadata": {
    "collapsed": false
   },
   "outputs": [
    {
     "name": "stdout",
     "output_type": "stream",
     "text": [
      "Num Requests: 15000000000\n",
      "Num S:RI: 1500000\n",
      "Num impressions: 150000\n"
     ]
    }
   ],
   "source": [
    "n_b = 150000\n",
    "\n",
    "p_i = 0.0001 # fraction of requests that are S:RI (this is a quess)\n",
    "p_i_b = 0.1 # fraction of impression from this banner\n",
    "\n",
    "n_i = int(n_b / p_i_b)\n",
    "n = int(n_i / p_i)\n",
    "r = 1./100\n",
    "\n",
    "print ('Num Requests: %d' % n)\n",
    "print ('Num S:RI: %d' % n_i)\n",
    "print ('Num impressions: %d' % n_b)"
   ]
  },
  {
   "cell_type": "code",
   "execution_count": 13,
   "metadata": {
    "collapsed": false
   },
   "outputs": [
    {
     "name": "stdout",
     "output_type": "stream",
     "text": [
      "True Value: 150000\n",
      "Confidence Interval:  (142900.0, 157200.0)\n",
      "Confidence Interval on Relative Error: (-4.73%, 4.80%)\n"
     ]
    },
    {
     "data": {
      "image/png": "[encoded data removed]",
      "text/plain": [
       "<matplotlib.figure.Figure at 0x1177247b8>"
      ]
     },
     "metadata": {},
     "output_type": "display_data"
    }
   ],
   "source": [
    "plot_sample_dist_1(n_b, n_i, n, r)"
   ]
  },
  {
   "cell_type": "code",
   "execution_count": 14,
   "metadata": {
    "collapsed": false
   },
   "outputs": [
    {
     "name": "stdout",
     "output_type": "stream",
     "text": [
      "True Value: 150000\n",
      "Confidence Interval:  (142500.0, 157600.0)\n",
      "Confidence Interval on Relative Error: (-5.00%, 5.07%)\n"
     ]
    },
    {
     "data": {
      "image/png": "[encoded data removed]",
      "text/plain": [
       "<matplotlib.figure.Figure at 0x116d66278>"
      ]
     },
     "metadata": {},
     "output_type": "display_data"
    }
   ],
   "source": [
    "plot_sample_dist_2(n_b, n_i, n, r)"
   ]
  },
  {
   "cell_type": "markdown",
   "metadata": {},
   "source": [
    "This change did not make a real difference"
   ]
  },
  {
   "cell_type": "markdown",
   "metadata": {},
   "source": [
    "# What if we sample at a lower rate?"
   ]
  },
  {
   "cell_type": "code",
   "execution_count": 16,
   "metadata": {
    "collapsed": false
   },
   "outputs": [
    {
     "name": "stdout",
     "output_type": "stream",
     "text": [
      "Num Requests: 1500000000\n",
      "Num S:RI: 1500000\n",
      "Num impressions: 150000\n"
     ]
    }
   ],
   "source": [
    "n_b = 150000\n",
    "\n",
    "p_i = 0.001 # fraction of requests that are S:RI (this is a quess)\n",
    "p_i_b = 0.1 # fraction of impression from this banner\n",
    "\n",
    "n_i = int(n_b / p_i_b)\n",
    "n = int(n_i / p_i)\n",
    "r = 1./5\n",
    "\n",
    "print ('Num Requests: %d' % n)\n",
    "print ('Num S:RI: %d' % n_i)\n",
    "print ('Num impressions: %d' % n_b)"
   ]
  },
  {
   "cell_type": "code",
   "execution_count": 17,
   "metadata": {
    "collapsed": false
   },
   "outputs": [
    {
     "name": "stdout",
     "output_type": "stream",
     "text": [
      "True Value: 150000\n",
      "Confidence Interval:  (148560.0, 151445.0)\n",
      "Confidence Interval on Relative Error: (-0.96%, 0.96%)\n"
     ]
    },
    {
     "data": {
      "image/png": "[encoded data removed]",
      "text/plain": [
       "<matplotlib.figure.Figure at 0x116b05940>"
      ]
     },
     "metadata": {},
     "output_type": "display_data"
    }
   ],
   "source": [
    "plot_sample_dist_1(n_b, n_i, n, r)"
   ]
  },
  {
   "cell_type": "code",
   "execution_count": 18,
   "metadata": {
    "collapsed": false
   },
   "outputs": [
    {
     "name": "stdout",
     "output_type": "stream",
     "text": [
      "True Value: 150000\n",
      "Confidence Interval:  (148485.0, 151510.0)\n",
      "Confidence Interval on Relative Error: (-1.01%, 1.01%)\n"
     ]
    },
    {
     "data": {
      "image/png": "[encoded data removed]",
      "text/plain": [
       "<matplotlib.figure.Figure at 0x116b059e8>"
      ]
     },
     "metadata": {},
     "output_type": "display_data"
    }
   ],
   "source": [
    "plot_sample_dist_2(n_b, n_i, n, r)"
   ]
  },
  {
   "cell_type": "markdown",
   "metadata": {},
   "source": [
    "This is looking much better. I recommend going with sampling rate of around 1:5."
   ]
  },
  {
   "cell_type": "markdown",
   "metadata": {},
   "source": [
    "# Scratch Code"
   ]
  },
  {
   "cell_type": "code",
   "execution_count": 104,
   "metadata": {
    "collapsed": true
   },
   "outputs": [],
   "source": [
    "def hypergeometric_pmf( n_good, n_total, n_draws):\n",
    "    \"\"\"\n",
    "    Returns full probability mass function (pmf) of hypergeometric distribution.\n",
    "    \"\"\"\n",
    "    n = n_good\n",
    "    M = n_total\n",
    "    N = n_draws\n",
    "    ks = list(range (max(0, N - (M-n)),  min(n, N)+1))\n",
    "    pmf = [hypergeom.pmf(k, M, n, N) for k in ks]\n",
    "    return ks, pmf\n",
    "\n",
    "def plot_pmf(xs, ys, thresh = 0.0001):\n",
    "    \"\"\"\n",
    "    Plots pmf but only includes reasonable values\n",
    "    \"\"\"\n",
    "    xs_feasible = []\n",
    "    ys_feasible = []\n",
    "    for i, y in enumerate(ys):\n",
    "        if y > thresh:\n",
    "            xs_feasible.append(xs[i])\n",
    "            ys_feasible.append(ys[i])\n",
    "        \n",
    "    plt.plot(xs_feasible, ys_feasible )\n",
    "    \n",
    "    \n",
    "def plot_pmf_dist_1(n_b, n_i, n, r):\n",
    "    \"\"\"\n",
    "    Plot the pmf of a hypergeometric for scenario 1. Is exact, but can be very slow\n",
    "    \"\"\"\n",
    "    xs, ys = hypergeometric_pmf(n_b, n_i, int(n_i*r))\n",
    "    xs = [x/r for x in xs]\n",
    "    plot_pmf(xs, ys)\n",
    "    \n",
    "def plot_pmf_dist_2(n_b, n_i, n, r):\n",
    "    xs, ys = hypergeometric_pmf(n_b, n, int(n*r))\n",
    "    xs = [x/r for x in xs]\n",
    "    plot_pmf(xs, ys)"
   ]
  },
  {
   "cell_type": "code",
   "execution_count": null,
   "metadata": {
    "collapsed": true
   },
   "outputs": [],
   "source": []
  }
 ],
 "metadata": {
  "kernelspec": {
   "display_name": "Python 3",
   "language": "python",
   "name": "python3"
  },
  "language_info": {
   "codemirror_mode": {
    "name": "ipython",
    "version": 3
   },
   "file_extension": ".py",
   "mimetype": "text/x-python",
   "name": "python",
   "nbconvert_exporter": "python",
   "pygments_lexer": "ipython3",
   "version": "3.4.3"
  }
 },
 "nbformat": 4,
 "nbformat_minor": 0
}
