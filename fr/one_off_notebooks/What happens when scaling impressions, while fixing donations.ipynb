{
 "metadata": {
  "name": "",
  "signature": "sha256:7d3c4ceea6c01b47ca227e911b325f69b507553151d2fa0e8ced14133c556f30"
 },
 "nbformat": 3,
 "nbformat_minor": 0,
 "worksheets": [
  {
   "cells": [
    {
     "cell_type": "code",
     "collapsed": false,
     "input": [
      "from scipy.stats import norm\n",
      "import numpy as np\n",
      "c_c = 600.0\n",
      "c_t = 650.0\n",
      "\n",
      "n_c = 1000.0\n",
      "n_t = 1000.0\n",
      "\n",
      "def f(a):\n",
      "    p_c = c_c/(a*n_c)\n",
      "    p_t = c_t/(a*n_t)\n",
      "    \n",
      "    var_c = (p_c*(1-p_c)) / (a*n_c)\n",
      "    var_t = (p_t*(1-p_t)) / (a*n_t)\n",
      "    num =  p_c - p_t\n",
      "    den =  math.sqrt(var_c + var_t)\n",
      "    p = 2*norm.cdf(num/den)\n",
      "    return p\n",
      "\n",
      "\n",
      "#a_s =  [0.95, 0.9, 0.8, 0.7, 0.5, 0.4, 0.3, 0.2, 0.1]\n",
      "a_s = [i for i in np.arange(1, 10, 1)]\n",
      "a_s.sort()\n",
      "ns = [n_c*a for a in a_s]\n",
      "\n",
      "import math\n",
      "import matplotlib.pyplot as plt\n",
      "%matplotlib inline\n",
      "\n",
      "fig = plt.figure(figsize=(10, 6), dpi=80)\n",
      "ax = fig.add_subplot(111)\n",
      "\n",
      "\n",
      "ax.plot(a_s, [ f(a) for a in a_s])\n",
      "plt.show()\n"
     ],
     "language": "python",
     "metadata": {},
     "outputs": [
      {
       "metadata": {},
       "output_type": "display_data",
       "png": "[encoded data removed]",
       "text": [
        "<matplotlib.figure.Figure at 0x10cf78f90>"
       ]
      }
     ],
     "prompt_number": 55
    },
    {
     "cell_type": "code",
     "collapsed": false,
     "input": [],
     "language": "python",
     "metadata": {},
     "outputs": [],
     "prompt_number": 52
    },
    {
     "cell_type": "code",
     "collapsed": false,
     "input": [],
     "language": "python",
     "metadata": {},
     "outputs": []
    }
   ],
   "metadata": {}
  }
 ]
}