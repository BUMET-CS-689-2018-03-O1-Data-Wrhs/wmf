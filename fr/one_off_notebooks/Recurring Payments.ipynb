{
 "cells": [
  {
   "cell_type": "code",
   "execution_count": 1,
   "metadata": {
    "collapsed": false
   },
   "outputs": [
    {
     "name": "stdout",
     "output_type": "stream",
     "text": [
      "Using pure Python version of concordance index. \n",
      "You can speed this up 100x by compiling the Fortran code with:\n",
      ">>> python setup.py build_ext --inplace\n"
     ]
    },
    {
     "name": "stderr",
     "output_type": "stream",
     "text": [
      "Vendor:  Continuum Analytics, Inc.\n",
      "Package: mkl\n",
      "Message: trial mode expires in 30 days\n"
     ]
    }
   ],
   "source": [
    "from db_utils import *\n",
    "%matplotlib inline\n",
    "import matplotlib.pyplot as plt\n",
    "import seaborn as sns\n",
    "import pandas as pd\n",
    "from lifelines import KaplanMeierFitter \n",
    "import numpy as np\n"
   ]
  },
  {
   "cell_type": "code",
   "execution_count": 3,
   "metadata": {
    "collapsed": false
   },
   "outputs": [],
   "source": [
    "query = \"\"\"\n",
    "SELECT start_date, end_date, receive_date, total_amount,source, contribution_recur_id, c.trxn_id\n",
    "FROM civicrm.civicrm_contribution_recur cr JOIN civicrm.civicrm_contribution c ON c.contribution_recur_id = cr.id\n",
    "\"\"\"\n",
    "d = query_lutetium(query, {})"
   ]
  },
  {
   "cell_type": "code",
   "execution_count": 4,
   "metadata": {
    "collapsed": false
   },
   "outputs": [
    {
     "data": {
      "text/html": [
       "<div>\n",
       "<table border=\"1\" class=\"dataframe\">\n",
       "  <thead>\n",
       "    <tr style=\"text-align: right;\">\n",
       "      <th></th>\n",
       "      <th>contribution_recur_id</th>\n",
       "      <th>end_date</th>\n",
       "      <th>receive_date</th>\n",
       "      <th>source</th>\n",
       "      <th>start_date</th>\n",
       "      <th>total_amount</th>\n",
       "      <th>trxn_id</th>\n",
       "    </tr>\n",
       "  </thead>\n",
       "  <tbody>\n",
       "    <tr>\n",
       "      <th>0</th>\n",
       "      <td>5074</td>\n",
       "      <td>2012-05-20 17:28:00</td>\n",
       "      <td>2012-04-20 12:03:15</td>\n",
       "      <td>USD 5.00</td>\n",
       "      <td>2011-05-20 15:59:58</td>\n",
       "      <td>5.00</td>\n",
       "      <td>RECURRING PAYPAL 7W286566M0613580J 1334923467</td>\n",
       "    </tr>\n",
       "    <tr>\n",
       "      <th>1</th>\n",
       "      <td>5075</td>\n",
       "      <td>2012-05-23 18:34:00</td>\n",
       "      <td>2012-04-23 13:15:54</td>\n",
       "      <td>USD 10.00</td>\n",
       "      <td>2011-05-23 04:28:30</td>\n",
       "      <td>10.00</td>\n",
       "      <td>RECURRING PAYPAL 4GR13810KL282700S 1335186985</td>\n",
       "    </tr>\n",
       "    <tr>\n",
       "      <th>2</th>\n",
       "      <td>5076</td>\n",
       "      <td>2012-05-23 18:31:02</td>\n",
       "      <td>2012-04-23 13:05:58</td>\n",
       "      <td>USD 10.00</td>\n",
       "      <td>2011-05-23 13:45:35</td>\n",
       "      <td>10.00</td>\n",
       "      <td>RECURRING PAYPAL 3J8136101V394013U 1335186445</td>\n",
       "    </tr>\n",
       "    <tr>\n",
       "      <th>3</th>\n",
       "      <td>5077</td>\n",
       "      <td>2012-05-23 18:01:01</td>\n",
       "      <td>2012-04-23 11:39:23</td>\n",
       "      <td>USD 5.00</td>\n",
       "      <td>2011-05-23 15:36:26</td>\n",
       "      <td>5.00</td>\n",
       "      <td>RECURRING PAYPAL 0XS07875H2813131D 1335181225</td>\n",
       "    </tr>\n",
       "    <tr>\n",
       "      <th>4</th>\n",
       "      <td>5078</td>\n",
       "      <td>2012-05-23 18:16:00</td>\n",
       "      <td>2012-04-23 12:26:30</td>\n",
       "      <td>USD 25.00</td>\n",
       "      <td>2011-05-23 20:53:39</td>\n",
       "      <td>25.00</td>\n",
       "      <td>RECURRING PAYPAL 54353352C0112190V 1335184107</td>\n",
       "    </tr>\n",
       "  </tbody>\n",
       "</table>\n",
       "</div>"
      ],
      "text/plain": [
       "   contribution_recur_id            end_date        receive_date     source  \\\n",
       "0                   5074 2012-05-20 17:28:00 2012-04-20 12:03:15   USD 5.00   \n",
       "1                   5075 2012-05-23 18:34:00 2012-04-23 13:15:54  USD 10.00   \n",
       "2                   5076 2012-05-23 18:31:02 2012-04-23 13:05:58  USD 10.00   \n",
       "3                   5077 2012-05-23 18:01:01 2012-04-23 11:39:23   USD 5.00   \n",
       "4                   5078 2012-05-23 18:16:00 2012-04-23 12:26:30  USD 25.00   \n",
       "\n",
       "           start_date total_amount  \\\n",
       "0 2011-05-20 15:59:58         5.00   \n",
       "1 2011-05-23 04:28:30        10.00   \n",
       "2 2011-05-23 13:45:35        10.00   \n",
       "3 2011-05-23 15:36:26         5.00   \n",
       "4 2011-05-23 20:53:39        25.00   \n",
       "\n",
       "                                         trxn_id  \n",
       "0  RECURRING PAYPAL 7W286566M0613580J 1334923467  \n",
       "1  RECURRING PAYPAL 4GR13810KL282700S 1335186985  \n",
       "2  RECURRING PAYPAL 3J8136101V394013U 1335186445  \n",
       "3  RECURRING PAYPAL 0XS07875H2813131D 1335181225  \n",
       "4  RECURRING PAYPAL 54353352C0112190V 1335184107  "
      ]
     },
     "execution_count": 4,
     "metadata": {},
     "output_type": "execute_result"
    }
   ],
   "source": [
    "d.head()"
   ]
  },
  {
   "cell_type": "code",
   "execution_count": 5,
   "metadata": {
    "collapsed": false
   },
   "outputs": [],
   "source": [
    "d['processor'] = 'other'"
   ]
  },
  {
   "cell_type": "code",
   "execution_count": 6,
   "metadata": {
    "collapsed": false
   },
   "outputs": [],
   "source": [
    "d.loc[d['trxn_id'].apply(lambda x: 'RECURRING PAYPAL' in x ), 'processor'] = 'paypal'\n",
    "d.loc[d['trxn_id'].apply(lambda x: 'RECURRING AMAZON' in x ), 'processor'] = 'amazon'\n",
    "d.loc[d['trxn_id'].apply(lambda x: 'RECURRING COINBASE' in x ), 'processor'] = 'coinbase'\n",
    "d.loc[d['trxn_id'].apply(lambda x: 'GLOBALCOLLECT' in x ), 'processor'] = 'globalcollect'"
   ]
  },
  {
   "cell_type": "code",
   "execution_count": 7,
   "metadata": {
    "collapsed": false
   },
   "outputs": [
    {
     "data": {
      "text/plain": [
       "set()"
      ]
     },
     "execution_count": 7,
     "metadata": {},
     "output_type": "execute_result"
    }
   ],
   "source": [
    "# lets see what payment processors we missed\n",
    "set(d['trxn_id'][d['processor']=='other'])"
   ]
  },
  {
   "cell_type": "code",
   "execution_count": 8,
   "metadata": {
    "collapsed": false
   },
   "outputs": [
    {
     "data": {
      "text/plain": [
       "processor\n",
       "amazon               57\n",
       "coinbase             93\n",
       "globalcollect    561830\n",
       "paypal           555110\n",
       "dtype: int64"
      ]
     },
     "execution_count": 8,
     "metadata": {},
     "output_type": "execute_result"
    }
   ],
   "source": [
    "# lets count the number of payments from each vendor\n",
    "d.groupby(d['processor']).apply(lambda x: x.shape[0])"
   ]
  },
  {
   "cell_type": "code",
   "execution_count": 9,
   "metadata": {
    "collapsed": false
   },
   "outputs": [],
   "source": [
    "# group individual payments into subscriptions\n",
    "def group(df):\n",
    "    r = df.iloc[0][['contribution_recur_id', 'end_date', 'start_date', 'total_amount', 'processor']]\n",
    "    r['num_payments'] = df.shape[0]\n",
    "    r['min_pay_date'] = str(df['receive_date'].min())\n",
    "    r['max_pay_date'] = str(df['receive_date'].max())\n",
    "    return r\n",
    "\n",
    "ds = d.groupby('contribution_recur_id').apply(group)"
   ]
  },
  {
   "cell_type": "code",
   "execution_count": 10,
   "metadata": {
    "collapsed": false
   },
   "outputs": [],
   "source": [
    "# remove records where the start date is on a day prior to the first payment:\n",
    "correct_start = ds['start_date'].apply(lambda x: str(x)[:10]) == ds['min_pay_date'].apply(lambda x: str(x)[:10])\n",
    "ds = ds[correct_start]"
   ]
  },
  {
   "cell_type": "code",
   "execution_count": 30,
   "metadata": {
    "collapsed": false
   },
   "outputs": [],
   "source": [
    "# If oldest payment is from more than a month ago, declare the recurring payment terminated\n",
    "ds['terminated'] = ds['max_pay_date'] < '2015-08-08 17:36:45'"
   ]
  },
  {
   "cell_type": "code",
   "execution_count": 31,
   "metadata": {
    "collapsed": false
   },
   "outputs": [],
   "source": [
    "def estimate_survival(d, processor=None, plot = True):\n",
    "    if processor:\n",
    "        d = d[d['processor'] == processor]\n",
    "    T = d['num_payments']\n",
    "    E = d['terminated']\n",
    "    kmf = KaplanMeierFitter()\n",
    "    kmf.fit(T, event_observed=E) # more succiently, kmf.fit(T,E)\n",
    "    print(\"Median Number of months before termination: %d\" %kmf.median_)\n",
    "    if plot:\n",
    "        kmf.plot()\n",
    "        plt.title(\"Recurring Payments Survival Function\")\n",
    "        plt.xlabel('number of months')\n",
    "        plt.ylabel('probability of recurring more than t months')"
   ]
  },
  {
   "cell_type": "code",
   "execution_count": 32,
   "metadata": {
    "collapsed": false
   },
   "outputs": [
    {
     "name": "stdout",
     "output_type": "stream",
     "text": [
      "Median Number of months before termination: 14\n"
     ]
    },
    {
     "data": {
      "image/png": "[encoded data removed]",
      "text/plain": [
       "<matplotlib.figure.Figure at 0x12398d550>"
      ]
     },
     "metadata": {},
     "output_type": "display_data"
    }
   ],
   "source": [
    "estimate_survival(ds, processor=None)"
   ]
  },
  {
   "cell_type": "code",
   "execution_count": 33,
   "metadata": {
    "collapsed": false
   },
   "outputs": [
    {
     "name": "stdout",
     "output_type": "stream",
     "text": [
      "Median Number of months before termination: 19\n"
     ]
    },
    {
     "data": {
      "image/png": "[encoded data removed]",
      "text/plain": [
       "<matplotlib.figure.Figure at 0x1204bd278>"
      ]
     },
     "metadata": {},
     "output_type": "display_data"
    }
   ],
   "source": [
    "estimate_survival(ds, processor='paypal')"
   ]
  },
  {
   "cell_type": "code",
   "execution_count": 34,
   "metadata": {
    "collapsed": false
   },
   "outputs": [
    {
     "name": "stdout",
     "output_type": "stream",
     "text": [
      "Median Number of months before termination: 12\n"
     ]
    },
    {
     "data": {
      "image/png": "[encoded data removed]",
      "text/plain": [
       "<matplotlib.figure.Figure at 0x12a6564e0>"
      ]
     },
     "metadata": {},
     "output_type": "display_data"
    }
   ],
   "source": [
    "estimate_survival(ds, processor='globalcollect')"
   ]
  },
  {
   "cell_type": "code",
   "execution_count": 35,
   "metadata": {
    "collapsed": false
   },
   "outputs": [
    {
     "name": "stdout",
     "output_type": "stream",
     "text": [
      "Median Number of months before termination: 1\n"
     ]
    },
    {
     "data": {
      "image/png": "[encoded data removed]",
      "text/plain": [
       "<matplotlib.figure.Figure at 0x15ac34b70>"
      ]
     },
     "metadata": {},
     "output_type": "display_data"
    }
   ],
   "source": [
    "estimate_survival(ds, processor='amazon')"
   ]
  },
  {
   "cell_type": "code",
   "execution_count": 36,
   "metadata": {
    "collapsed": false
   },
   "outputs": [
    {
     "name": "stdout",
     "output_type": "stream",
     "text": [
      "Median Number of months before termination: 2\n"
     ]
    },
    {
     "data": {
      "image/png": "[encoded data removed]",
      "text/plain": [
       "<matplotlib.figure.Figure at 0x1341e3908>"
      ]
     },
     "metadata": {},
     "output_type": "display_data"
    }
   ],
   "source": [
    "estimate_survival(ds, processor='coinbase')"
   ]
  },
  {
   "cell_type": "code",
   "execution_count": 37,
   "metadata": {
    "collapsed": false
   },
   "outputs": [
    {
     "data": {
      "text/plain": [
       "processor\n",
       "amazon              14\n",
       "coinbase            36\n",
       "globalcollect    63584\n",
       "paypal           45854\n",
       "dtype: int64"
      ]
     },
     "execution_count": 37,
     "metadata": {},
     "output_type": "execute_result"
    }
   ],
   "source": [
    "# Number of subscriptions per processor\n",
    "ds.groupby(ds['processor']).apply(lambda x: x.shape[0])"
   ]
  },
  {
   "cell_type": "code",
   "execution_count": 38,
   "metadata": {
    "collapsed": false
   },
   "outputs": [
    {
     "data": {
      "text/plain": [
       "processor\n",
       "amazon           5.00\n",
       "coinbase         5.00\n",
       "globalcollect    5.00\n",
       "paypal           4.43\n",
       "dtype: object"
      ]
     },
     "execution_count": 38,
     "metadata": {},
     "output_type": "execute_result"
    }
   ],
   "source": [
    "# Median recurring amount per processor\n",
    "ds['total_amount'].groupby(ds['processor']).apply(np.median)"
   ]
  },
  {
   "cell_type": "code",
   "execution_count": 39,
   "metadata": {
    "collapsed": false
   },
   "outputs": [
    {
     "data": {
      "text/plain": [
       "processor\n",
       "amazon           9.571429\n",
       "coinbase         7.148056\n",
       "globalcollect    7.475433\n",
       "paypal           5.967777\n",
       "dtype: float64"
      ]
     },
     "execution_count": 39,
     "metadata": {},
     "output_type": "execute_result"
    }
   ],
   "source": [
    "# Average recurring amount per processor\n",
    "ds['total_amount'].groupby(ds['processor']).apply(np.mean)"
   ]
  },
  {
   "cell_type": "code",
   "execution_count": 21,
   "metadata": {
    "collapsed": false
   },
   "outputs": [],
   "source": [
    "query = \"\"\"\n",
    "SELECT sum(total_amount) as amount, contribution_recur_id is not NULL recurring, YEAR(receive_date) as year\n",
    "from civicrm.civicrm_contribution \n",
    "WHERE YEAR(receive_date) <= 2015\n",
    "AND YEAR(receive_date) >= 2011\n",
    "GROUP BY recurring, year;\n",
    "\"\"\"\n",
    "r = query_lutetium(query, {})"
   ]
  },
  {
   "cell_type": "code",
   "execution_count": 22,
   "metadata": {
    "collapsed": false
   },
   "outputs": [],
   "source": [
    "r.index = r.year\n",
    "\n",
    "r1 = r[r['recurring']==1]\n",
    "r2 = r[r['recurring']==0]\n",
    "\n",
    "r3 = r1.merge(r2, left_index=True, right_index=True, suffixes=('_recurring', '_non_recurring'))\n",
    "r3 = r3[['amount_recurring', 'amount_non_recurring']]"
   ]
  },
  {
   "cell_type": "code",
   "execution_count": 23,
   "metadata": {
    "collapsed": false
   },
   "outputs": [
    {
     "data": {
      "text/html": [
       "<div>\n",
       "<table border=\"1\" class=\"dataframe\">\n",
       "  <thead>\n",
       "    <tr style=\"text-align: right;\">\n",
       "      <th></th>\n",
       "      <th>amount_recurring</th>\n",
       "      <th>amount_non_recurring</th>\n",
       "    </tr>\n",
       "    <tr>\n",
       "      <th>year</th>\n",
       "      <th></th>\n",
       "      <th></th>\n",
       "    </tr>\n",
       "  </thead>\n",
       "  <tbody>\n",
       "    <tr>\n",
       "      <th>2011</th>\n",
       "      <td>8411.91</td>\n",
       "      <td>31142451.02</td>\n",
       "    </tr>\n",
       "    <tr>\n",
       "      <th>2012</th>\n",
       "      <td>284105.28</td>\n",
       "      <td>39101674.62</td>\n",
       "    </tr>\n",
       "    <tr>\n",
       "      <th>2013</th>\n",
       "      <td>1176760.04</td>\n",
       "      <td>47456530.29</td>\n",
       "    </tr>\n",
       "    <tr>\n",
       "      <th>2014</th>\n",
       "      <td>2791846.68</td>\n",
       "      <td>71077748.21</td>\n",
       "    </tr>\n",
       "    <tr>\n",
       "      <th>2015</th>\n",
       "      <td>2827560.19</td>\n",
       "      <td>19703831.34</td>\n",
       "    </tr>\n",
       "  </tbody>\n",
       "</table>\n",
       "</div>"
      ],
      "text/plain": [
       "     amount_recurring amount_non_recurring\n",
       "year                                      \n",
       "2011          8411.91          31142451.02\n",
       "2012        284105.28          39101674.62\n",
       "2013       1176760.04          47456530.29\n",
       "2014       2791846.68          71077748.21\n",
       "2015       2827560.19          19703831.34"
      ]
     },
     "execution_count": 23,
     "metadata": {},
     "output_type": "execute_result"
    }
   ],
   "source": [
    "r3"
   ]
  },
  {
   "cell_type": "code",
   "execution_count": 24,
   "metadata": {
    "collapsed": false
   },
   "outputs": [
    {
     "data": {
      "text/plain": [
       "<matplotlib.axes._subplots.AxesSubplot at 0x1261ce588>"
      ]
     },
     "execution_count": 24,
     "metadata": {},
     "output_type": "execute_result"
    },
    {
     "data": {
      "image/png": "[encoded data removed]",
      "text/plain": [
       "<matplotlib.figure.Figure at 0x123c1a8d0>"
      ]
     },
     "metadata": {},
     "output_type": "display_data"
    }
   ],
   "source": [
    "r3.applymap(lambda x : float(x)).plot(kind='bar')"
   ]
  },
  {
   "cell_type": "markdown",
   "metadata": {
    "collapsed": true
   },
   "source": [
    "# Estimate Future Recurring Donation Revenue"
   ]
  },
  {
   "cell_type": "markdown",
   "metadata": {},
   "source": [
    "The maximum revenue we can expect is for every active recurring donor to continue to donate for the next 12 months"
   ]
  },
  {
   "cell_type": "code",
   "execution_count": 40,
   "metadata": {
    "collapsed": false
   },
   "outputs": [
    {
     "name": "stdout",
     "output_type": "stream",
     "text": [
      "Max Possible Recurring Revenue for FS 15-16: 4024776.840000\n"
     ]
    }
   ],
   "source": [
    "d_active = ds[ds['terminated'] == False]\n",
    "max_possible_revenue = float((d_active['total_amount'] * 12).sum())\n",
    "print (\"Max Possible Recurring Revenue for FS 15-16: %f\" % max_possible_revenue)"
   ]
  },
  {
   "cell_type": "markdown",
   "metadata": {},
   "source": [
    "In practice, recurring donors stop donating throughout the year. A simple way to estimate the reduction in revenue due to cancellation is to see what fraction of recurring donors active at the start of last year cancelled their subscription during that year and assume that the timepoint of cancellation is uniformly distributed throughout the year. This means we expect to get a half years value of recurring donations from the donors who cancel within that year."
   ]
  },
  {
   "cell_type": "code",
   "execution_count": 41,
   "metadata": {
    "collapsed": false
   },
   "outputs": [],
   "source": [
    "def canceled_in_fs1415(x): \n",
    "    start =  str(x['start_date'])\n",
    "    end = str(x['end_date'])\n",
    "    \n",
    "    if start > '2014-06-01 00:00:00':\n",
    "        return 0\n",
    "    if end > '2015-06-01 00:00:00':\n",
    "        return 0\n",
    "    if end < '2014-06-01 00:00:00':\n",
    "        return 0\n",
    "    return 1\n",
    "\n",
    "n_cancelled = ds.apply(canceled_in_fs1415, axis=1).sum()"
   ]
  },
  {
   "cell_type": "code",
   "execution_count": 42,
   "metadata": {
    "collapsed": false
   },
   "outputs": [],
   "source": [
    "temp = d[d['receive_date'] > '2014-05-01 00:00:00']\n",
    "temp = temp[temp['receive_date'] < '2014-06-01 00:00:00']\n",
    "n_active = len(set(temp['contribution_recur_id']))"
   ]
  },
  {
   "cell_type": "code",
   "execution_count": 43,
   "metadata": {
    "collapsed": false
   },
   "outputs": [
    {
     "name": "stdout",
     "output_type": "stream",
     "text": [
      "Expected Recurring Revenue for FS 15-16: 3646930.994010\n"
     ]
    }
   ],
   "source": [
    "p_cancel = (float(n_cancelled) / n_active )\n",
    "expected_revenue = max_possible_revenue * (1 - p_cancel ) + max_possible_revenue * 0.5 * p_cancel\n",
    "print (\"Expected Recurring Revenue for FS 15-16: %f\" % expected_revenue)"
   ]
  },
  {
   "cell_type": "code",
   "execution_count": 44,
   "metadata": {
    "collapsed": false
   },
   "outputs": [
    {
     "data": {
      "text/plain": [
       "0.187759898752486"
      ]
     },
     "execution_count": 44,
     "metadata": {},
     "output_type": "execute_result"
    }
   ],
   "source": [
    "p_cancel"
   ]
  },
  {
   "cell_type": "code",
   "execution_count": null,
   "metadata": {
    "collapsed": true
   },
   "outputs": [],
   "source": []
  }
 ],
 "metadata": {
  "kernelspec": {
   "display_name": "Python 3",
   "language": "python",
   "name": "python3"
  },
  "language_info": {
   "codemirror_mode": {
    "name": "ipython",
    "version": 3
   },
   "file_extension": ".py",
   "mimetype": "text/x-python",
   "name": "python",
   "nbconvert_exporter": "python",
   "pygments_lexer": "ipython3",
   "version": "3.4.3"
  }
 },
 "nbformat": 4,
 "nbformat_minor": 0
}
