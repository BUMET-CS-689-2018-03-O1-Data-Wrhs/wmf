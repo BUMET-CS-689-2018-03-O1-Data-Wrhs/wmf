{
 "cells": [
  {
   "cell_type": "code",
   "execution_count": 22,
   "metadata": {
    "collapsed": true
   },
   "outputs": [],
   "source": [
    "from db_utils import *"
   ]
  },
  {
   "cell_type": "code",
   "execution_count": 28,
   "metadata": {
    "collapsed": false
   },
   "outputs": [],
   "source": [
    "query = \"\"\"\n",
    "select * from civicrm.civicrm_contribution_recur limit 1000000\n",
    "\"\"\"\n",
    "\n",
    "d = query_lutetium(query, {})"
   ]
  },
  {
   "cell_type": "code",
   "execution_count": 36,
   "metadata": {
    "collapsed": true
   },
   "outputs": [],
   "source": [
    "query = \"\"\"\n",
    "SELECT start_date, end_date, receive_date, total_amount,source, contribution_recur_id, c.trxn_id\n",
    "FROM civicrm.civicrm_contribution_recur cr JOIN civicrm.civicrm_contribution c ON c.contribution_recur_id = cr.id\n",
    "limit 1000000\n",
    "\"\"\"\n",
    "d = query_lutetium(query, {})"
   ]
  },
  {
   "cell_type": "code",
   "execution_count": 37,
   "metadata": {
    "collapsed": false
   },
   "outputs": [
    {
     "data": {
      "text/plain": [
       "(805670, 7)"
      ]
     },
     "execution_count": 37,
     "metadata": {},
     "output_type": "execute_result"
    }
   ],
   "source": [
    "d.shape"
   ]
  },
  {
   "cell_type": "code",
   "execution_count": null,
   "metadata": {
    "collapsed": true
   },
   "outputs": [],
   "source": []
  },
  {
   "cell_type": "code",
   "execution_count": null,
   "metadata": {
    "collapsed": true
   },
   "outputs": [],
   "source": []
  },
  {
   "cell_type": "code",
   "execution_count": 14,
   "metadata": {
    "collapsed": false
   },
   "outputs": [],
   "source": [
    "conn = pymysql.connect(host='localhost', port=8000, user='ewulczyn', passwd='DFN5b59$kw', db='civicrm')"
   ]
  },
  {
   "cell_type": "code",
   "execution_count": 15,
   "metadata": {
    "collapsed": true
   },
   "outputs": [],
   "source": [
    "cursor = conn.cursor(pymysql.cursors.DictCursor)"
   ]
  },
  {
   "cell_type": "code",
   "execution_count": 16,
   "metadata": {
    "collapsed": false
   },
   "outputs": [
    {
     "data": {
      "text/plain": [
       "10"
      ]
     },
     "execution_count": 16,
     "metadata": {},
     "output_type": "execute_result"
    }
   ],
   "source": [
    "cursor.execute(query, {})"
   ]
  },
  {
   "cell_type": "code",
   "execution_count": 17,
   "metadata": {
    "collapsed": true
   },
   "outputs": [],
   "source": [
    "rows = cursor.fetchall()"
   ]
  },
  {
   "cell_type": "code",
   "execution_count": 18,
   "metadata": {
    "collapsed": false
   },
   "outputs": [
    {
     "data": {
      "text/plain": [
       "[{'amount': Decimal('1.00'),\n",
       "  'auto_renew': 0,\n",
       "  'campaign_id': None,\n",
       "  'cancel_date': datetime.datetime(2010, 12, 9, 21, 22, 31),\n",
       "  'contact_id': 1040099,\n",
       "  'contribution_status_id': 1,\n",
       "  'contribution_type_id': 9,\n",
       "  'create_date': datetime.datetime(2010, 12, 9, 21, 13, 4),\n",
       "  'currency': 'USD',\n",
       "  'cycle_day': 1,\n",
       "  'end_date': datetime.datetime(2011, 1, 21, 7, 41, 39),\n",
       "  'failure_count': 0,\n",
       "  'failure_retry_date': None,\n",
       "  'frequency_interval': 1,\n",
       "  'frequency_unit': 'month',\n",
       "  'id': 1,\n",
       "  'installments': 12,\n",
       "  'invoice_id': None,\n",
       "  'is_email_receipt': None,\n",
       "  'is_test': 0,\n",
       "  'modified_date': None,\n",
       "  'next_sched_contribution': None,\n",
       "  'payment_instrument_id': 6,\n",
       "  'payment_processor_id': None,\n",
       "  'processor_id': None,\n",
       "  'start_date': datetime.datetime(2010, 12, 9, 21, 13, 4),\n",
       "  'trxn_id': 'S-2DF236777S076693F'},\n",
       " {'amount': Decimal('1.00'),\n",
       "  'auto_renew': 0,\n",
       "  'campaign_id': None,\n",
       "  'cancel_date': datetime.datetime(2010, 12, 10, 5, 42, 35),\n",
       "  'contact_id': 1040100,\n",
       "  'contribution_status_id': 1,\n",
       "  'contribution_type_id': 9,\n",
       "  'create_date': datetime.datetime(2010, 12, 9, 21, 46, 7),\n",
       "  'currency': 'USD',\n",
       "  'cycle_day': 1,\n",
       "  'end_date': datetime.datetime(2011, 1, 21, 7, 41, 36),\n",
       "  'failure_count': 0,\n",
       "  'failure_retry_date': None,\n",
       "  'frequency_interval': 1,\n",
       "  'frequency_unit': 'month',\n",
       "  'id': 2,\n",
       "  'installments': 12,\n",
       "  'invoice_id': None,\n",
       "  'is_email_receipt': None,\n",
       "  'is_test': 0,\n",
       "  'modified_date': None,\n",
       "  'next_sched_contribution': None,\n",
       "  'payment_instrument_id': 6,\n",
       "  'payment_processor_id': None,\n",
       "  'processor_id': None,\n",
       "  'start_date': datetime.datetime(2010, 12, 9, 21, 46, 7),\n",
       "  'trxn_id': 'S-10L294256B256282A'},\n",
       " {'amount': Decimal('1.00'),\n",
       "  'auto_renew': 0,\n",
       "  'campaign_id': None,\n",
       "  'cancel_date': datetime.datetime(2010, 12, 10, 5, 24, 36),\n",
       "  'contact_id': 1040101,\n",
       "  'contribution_status_id': 1,\n",
       "  'contribution_type_id': 9,\n",
       "  'create_date': datetime.datetime(2010, 12, 9, 21, 56, 56),\n",
       "  'currency': 'USD',\n",
       "  'cycle_day': 1,\n",
       "  'end_date': datetime.datetime(2011, 1, 21, 7, 41, 42),\n",
       "  'failure_count': 0,\n",
       "  'failure_retry_date': None,\n",
       "  'frequency_interval': 1,\n",
       "  'frequency_unit': 'month',\n",
       "  'id': 3,\n",
       "  'installments': 12,\n",
       "  'invoice_id': None,\n",
       "  'is_email_receipt': None,\n",
       "  'is_test': 0,\n",
       "  'modified_date': None,\n",
       "  'next_sched_contribution': None,\n",
       "  'payment_instrument_id': 6,\n",
       "  'payment_processor_id': None,\n",
       "  'processor_id': None,\n",
       "  'start_date': datetime.datetime(2010, 12, 9, 21, 56, 56),\n",
       "  'trxn_id': 'S-2H527305Y6451022K'},\n",
       " {'amount': Decimal('3.00'),\n",
       "  'auto_renew': 0,\n",
       "  'campaign_id': None,\n",
       "  'cancel_date': None,\n",
       "  'contact_id': 1040102,\n",
       "  'contribution_status_id': 1,\n",
       "  'contribution_type_id': 9,\n",
       "  'create_date': datetime.datetime(2010, 12, 10, 20, 26, 50),\n",
       "  'currency': 'USD',\n",
       "  'cycle_day': 1,\n",
       "  'end_date': datetime.datetime(2011, 12, 10, 12, 11, 40),\n",
       "  'failure_count': 0,\n",
       "  'failure_retry_date': None,\n",
       "  'frequency_interval': 1,\n",
       "  'frequency_unit': 'month',\n",
       "  'id': 4,\n",
       "  'installments': 12,\n",
       "  'invoice_id': None,\n",
       "  'is_email_receipt': None,\n",
       "  'is_test': 0,\n",
       "  'modified_date': None,\n",
       "  'next_sched_contribution': None,\n",
       "  'payment_instrument_id': 6,\n",
       "  'payment_processor_id': None,\n",
       "  'processor_id': None,\n",
       "  'start_date': datetime.datetime(2010, 12, 10, 20, 26, 50),\n",
       "  'trxn_id': 'S-77F56056PH199853C'},\n",
       " {'amount': Decimal('20.00'),\n",
       "  'auto_renew': 0,\n",
       "  'campaign_id': None,\n",
       "  'cancel_date': None,\n",
       "  'contact_id': 1040103,\n",
       "  'contribution_status_id': 1,\n",
       "  'contribution_type_id': 9,\n",
       "  'create_date': datetime.datetime(2010, 12, 10, 21, 17, 52),\n",
       "  'currency': 'USD',\n",
       "  'cycle_day': 1,\n",
       "  'end_date': datetime.datetime(2011, 12, 10, 12, 9, 38),\n",
       "  'failure_count': 0,\n",
       "  'failure_retry_date': None,\n",
       "  'frequency_interval': 1,\n",
       "  'frequency_unit': 'month',\n",
       "  'id': 5,\n",
       "  'installments': 12,\n",
       "  'invoice_id': None,\n",
       "  'is_email_receipt': None,\n",
       "  'is_test': 0,\n",
       "  'modified_date': None,\n",
       "  'next_sched_contribution': None,\n",
       "  'payment_instrument_id': 6,\n",
       "  'payment_processor_id': None,\n",
       "  'processor_id': None,\n",
       "  'start_date': datetime.datetime(2010, 12, 10, 21, 17, 52),\n",
       "  'trxn_id': 'S-3SE31890CN607501X'},\n",
       " {'amount': Decimal('1.00'),\n",
       "  'auto_renew': 0,\n",
       "  'campaign_id': None,\n",
       "  'cancel_date': None,\n",
       "  'contact_id': 1040104,\n",
       "  'contribution_status_id': 1,\n",
       "  'contribution_type_id': 9,\n",
       "  'create_date': datetime.datetime(2010, 12, 10, 23, 31, 36),\n",
       "  'currency': 'USD',\n",
       "  'cycle_day': 1,\n",
       "  'end_date': datetime.datetime(2011, 12, 10, 14, 29, 40),\n",
       "  'failure_count': 0,\n",
       "  'failure_retry_date': None,\n",
       "  'frequency_interval': 1,\n",
       "  'frequency_unit': 'month',\n",
       "  'id': 6,\n",
       "  'installments': 12,\n",
       "  'invoice_id': None,\n",
       "  'is_email_receipt': None,\n",
       "  'is_test': 0,\n",
       "  'modified_date': None,\n",
       "  'next_sched_contribution': None,\n",
       "  'payment_instrument_id': 6,\n",
       "  'payment_processor_id': None,\n",
       "  'processor_id': None,\n",
       "  'start_date': datetime.datetime(2010, 12, 10, 23, 31, 36),\n",
       "  'trxn_id': 'S-65D028770V3442044'},\n",
       " {'amount': Decimal('5.00'),\n",
       "  'auto_renew': 0,\n",
       "  'campaign_id': None,\n",
       "  'cancel_date': None,\n",
       "  'contact_id': 1040105,\n",
       "  'contribution_status_id': 1,\n",
       "  'contribution_type_id': 9,\n",
       "  'create_date': datetime.datetime(2010, 12, 11, 1, 13, 35),\n",
       "  'currency': 'USD',\n",
       "  'cycle_day': 1,\n",
       "  'end_date': datetime.datetime(2011, 12, 10, 12, 9, 38),\n",
       "  'failure_count': 0,\n",
       "  'failure_retry_date': None,\n",
       "  'frequency_interval': 1,\n",
       "  'frequency_unit': 'month',\n",
       "  'id': 7,\n",
       "  'installments': 12,\n",
       "  'invoice_id': None,\n",
       "  'is_email_receipt': None,\n",
       "  'is_test': 0,\n",
       "  'modified_date': None,\n",
       "  'next_sched_contribution': None,\n",
       "  'payment_instrument_id': 6,\n",
       "  'payment_processor_id': None,\n",
       "  'processor_id': None,\n",
       "  'start_date': datetime.datetime(2010, 12, 11, 1, 13, 35),\n",
       "  'trxn_id': 'S-3Y937041K1576031R'},\n",
       " {'amount': Decimal('1.00'),\n",
       "  'auto_renew': 0,\n",
       "  'campaign_id': None,\n",
       "  'cancel_date': datetime.datetime(2011, 9, 18, 9, 58, 29),\n",
       "  'contact_id': 1040106,\n",
       "  'contribution_status_id': 1,\n",
       "  'contribution_type_id': 9,\n",
       "  'create_date': datetime.datetime(2010, 12, 10, 21, 48, 53),\n",
       "  'currency': 'USD',\n",
       "  'cycle_day': 1,\n",
       "  'end_date': datetime.datetime(2011, 9, 18, 13, 6, 6),\n",
       "  'failure_count': 2,\n",
       "  'failure_retry_date': datetime.datetime(2011, 9, 18, 9, 30, 56),\n",
       "  'frequency_interval': 1,\n",
       "  'frequency_unit': 'month',\n",
       "  'id': 8,\n",
       "  'installments': 12,\n",
       "  'invoice_id': None,\n",
       "  'is_email_receipt': None,\n",
       "  'is_test': 0,\n",
       "  'modified_date': None,\n",
       "  'next_sched_contribution': None,\n",
       "  'payment_instrument_id': 6,\n",
       "  'payment_processor_id': None,\n",
       "  'processor_id': None,\n",
       "  'start_date': datetime.datetime(2010, 12, 10, 21, 48, 53),\n",
       "  'trxn_id': 'S-99B63245HS762854T'},\n",
       " {'amount': Decimal('1.00'),\n",
       "  'auto_renew': 0,\n",
       "  'campaign_id': None,\n",
       "  'cancel_date': None,\n",
       "  'contact_id': 1040107,\n",
       "  'contribution_status_id': 1,\n",
       "  'contribution_type_id': 9,\n",
       "  'create_date': datetime.datetime(2010, 12, 10, 22, 47, 43),\n",
       "  'currency': 'USD',\n",
       "  'cycle_day': 1,\n",
       "  'end_date': datetime.datetime(2011, 12, 10, 12, 9, 38),\n",
       "  'failure_count': 0,\n",
       "  'failure_retry_date': None,\n",
       "  'frequency_interval': 1,\n",
       "  'frequency_unit': 'month',\n",
       "  'id': 9,\n",
       "  'installments': 12,\n",
       "  'invoice_id': None,\n",
       "  'is_email_receipt': None,\n",
       "  'is_test': 0,\n",
       "  'modified_date': None,\n",
       "  'next_sched_contribution': None,\n",
       "  'payment_instrument_id': 6,\n",
       "  'payment_processor_id': None,\n",
       "  'processor_id': None,\n",
       "  'start_date': datetime.datetime(2010, 12, 10, 22, 47, 43),\n",
       "  'trxn_id': 'S-3KU339161K982492G'},\n",
       " {'amount': Decimal('1.00'),\n",
       "  'auto_renew': 0,\n",
       "  'campaign_id': None,\n",
       "  'cancel_date': datetime.datetime(2010, 12, 10, 5, 24, 7),\n",
       "  'contact_id': 1040121,\n",
       "  'contribution_status_id': 1,\n",
       "  'contribution_type_id': 9,\n",
       "  'create_date': datetime.datetime(2010, 12, 9, 23, 39, 10),\n",
       "  'currency': 'USD',\n",
       "  'cycle_day': 1,\n",
       "  'end_date': datetime.datetime(2011, 1, 21, 7, 42, 44),\n",
       "  'failure_count': 0,\n",
       "  'failure_retry_date': None,\n",
       "  'frequency_interval': 1,\n",
       "  'frequency_unit': 'month',\n",
       "  'id': 10,\n",
       "  'installments': 12,\n",
       "  'invoice_id': None,\n",
       "  'is_email_receipt': None,\n",
       "  'is_test': 0,\n",
       "  'modified_date': None,\n",
       "  'next_sched_contribution': None,\n",
       "  'payment_instrument_id': 6,\n",
       "  'payment_processor_id': None,\n",
       "  'processor_id': None,\n",
       "  'start_date': datetime.datetime(2010, 12, 9, 23, 39, 10),\n",
       "  'trxn_id': 'S-14K99657GC2051355'}]"
      ]
     },
     "execution_count": 18,
     "metadata": {},
     "output_type": "execute_result"
    }
   ],
   "source": [
    "rows\n"
   ]
  },
  {
   "cell_type": "code",
   "execution_count": null,
   "metadata": {
    "collapsed": true
   },
   "outputs": [],
   "source": []
  }
 ],
 "metadata": {
  "kernelspec": {
   "display_name": "Python 3",
   "language": "python",
   "name": "python3"
  },
  "language_info": {
   "codemirror_mode": {
    "name": "ipython",
    "version": 3
   },
   "file_extension": ".py",
   "mimetype": "text/x-python",
   "name": "python",
   "nbconvert_exporter": "python",
   "pygments_lexer": "ipython3",
   "version": "3.4.3"
  }
 },
 "nbformat": 4,
 "nbformat_minor": 0
}
