{
 "cells": [
  {
   "cell_type": "code",
   "execution_count": null,
   "metadata": {
    "collapsed": true
   },
   "outputs": [],
   "source": [
    "query = \"\"\"\n",
    "SELECT  campaign, result, reason, count(*)*64 as n\n",
    "FROM (\n",
    "SELECT \n",
    "PARSE_URL(CONCAT('http://bla.org/woo/', uri_query), 'QUERY', 'campaign') as campaign,\n",
    "PARSE_URL(CONCAT('http://bla.org/woo/', uri_query), 'QUERY', 'reason') as result,\n",
    "PARSE_URL(CONCAT('http://bla.org/woo/', uri_query), 'QUERY', 'result') as reason\n",
    "FROM wmf.webrequest TABLESAMPLE(BUCKET 1 OUT OF 64 ON rand())\n",
    "WHERE year = 2015\n",
    "      AND month = 6\n",
    "      AND day = 15\n",
    "      AND uri_host = 'meta.wikimedia.org'\n",
    "      AND uri_path = '/w/index.php'\n",
    "      AND PARSE_URL(CONCAT('http://bla.org/woo/', uri_query), 'QUERY', 'title') IS NOT NULL\n",
    "      AND PARSE_URL(CONCAT('http://bla.org/woo/', uri_query), 'QUERY', 'title') =  'Special:RecordImpression'\n",
    "      AND PARSE_URL(CONCAT('http://bla.org/woo/', uri_query), 'QUERY', 'campaign') in ('C15_enWW_dsk_lw_FR', 'C15_mlWW_dsk_lw_FR', 'C15_enWW_mob_lw_FR', 'C15_mlWW_mob_lw_FR', 'C15_enWW_ipd_lw_FR', 'C15_mlWW_ipd_lw_FR')\n",
    ") a\n",
    "GROUP BY campaign, result, reason;\n",
    "\"\"\""
   ]
  },
  {
   "cell_type": "code",
   "execution_count": 16,
   "metadata": {
    "collapsed": false,
    "scrolled": true
   },
   "outputs": [
    {
     "name": "stderr",
     "output_type": "stream",
     "text": [
      "/Users/ellerywulczyn/miniconda3/lib/python3.4/site-packages/pandas/io/parsers.py:644: ParserWarning: Falling back to the 'python' engine because the 'c' engine does not support regex separators; you can avoid this warning by specifying engine='python'.\n",
      "  ParserWarning)\n"
     ]
    }
   ],
   "source": [
    "import pandas as pd\n",
    "d = pd.read_csv('show_hide_june_15.tsv', sep='    ')"
   ]
  },
  {
   "cell_type": "code",
   "execution_count": 28,
   "metadata": {
    "collapsed": false
   },
   "outputs": [
    {
     "name": "stdout",
     "output_type": "stream",
     "text": [
      "C15_enWW_dsk_lw_FR\n",
      "\n",
      "\n",
      "        result reason        n  fraction\n",
      "2       donate   hide    16960  0.007437\n",
      "10    waitimps   hide  1131136  0.495973\n",
      "15       close   hide    91584  0.040157\n",
      "18        NULL   show   107264  0.047032\n",
      "24    waitdate   hide   933696  0.409401\n",
      "\n",
      "\n",
      "\n",
      "\n",
      "C15_enWW_ipd_lw_FR\n",
      "\n",
      "\n",
      "        result reason      n  fraction\n",
      "3     waitimps   hide  77760  0.641838\n",
      "7         NULL   show  34304  0.283148\n",
      "13      donate   hide    448  0.003698\n",
      "26       close   hide   8640  0.071315\n",
      "\n",
      "\n",
      "\n",
      "\n",
      "C15_enWW_mob_lw_FR\n",
      "\n",
      "\n",
      "        result reason       n  fraction\n",
      "4     waitimps   hide  388480  0.555403\n",
      "9         NULL   show  200128  0.286119\n",
      "14      donate   hide     896  0.001281\n",
      "27       close   hide  109952  0.157196\n",
      "\n",
      "\n",
      "\n",
      "\n",
      "C15_mlWW_dsk_lw_FR\n",
      "\n",
      "\n",
      "        result reason        n  fraction\n",
      "5        close   hide   729984  0.042206\n",
      "6       cookie   hide       64  0.000004\n",
      "8     waitimps   hide  8508416  0.491942\n",
      "17        NULL   show   698624  0.040393\n",
      "19      donate   hide    41024  0.002372\n",
      "22    waitdate   hide  7317440  0.423082\n",
      "\n",
      "\n",
      "\n",
      "\n",
      "C15_mlWW_ipd_lw_FR\n",
      "\n",
      "\n",
      "        result reason       n  fraction\n",
      "0         NULL   show   80192  0.197013\n",
      "11      donate   hide     128  0.000314\n",
      "20    waitimps   hide  305216  0.749843\n",
      "23       close   hide   21504  0.052830\n",
      "\n",
      "\n",
      "\n",
      "\n",
      "C15_mlWW_mob_lw_FR\n",
      "\n",
      "\n",
      "        result reason        n  fraction\n",
      "1         NULL   show   950144  0.188157\n",
      "12      donate   hide     1408  0.000279\n",
      "16       empty   hide       64  0.000013\n",
      "21    waitimps   hide  3367936  0.666954\n",
      "25       close   hide   730176  0.144597\n",
      "\n",
      "\n",
      "\n",
      "\n"
     ]
    },
    {
     "name": "stderr",
     "output_type": "stream",
     "text": [
      "/Users/ellerywulczyn/miniconda3/lib/python3.4/site-packages/IPython/kernel/__main__.py:3: SettingWithCopyWarning: \n",
      "A value is trying to be set on a copy of a slice from a DataFrame.\n",
      "Try using .loc[row_indexer,col_indexer] = value instead\n",
      "\n",
      "See the the caveats in the documentation: http://pandas.pydata.org/pandas-docs/stable/indexing.html#indexing-view-versus-copy\n",
      "  app.launch_new_instance()\n"
     ]
    }
   ],
   "source": [
    "for g in d.groupby('campaign'):\n",
    "    c = g[1]\n",
    "    c['fraction'] = c['n'] / c['n'].sum()\n",
    "    print (g[0])\n",
    "    print ('\\n')\n",
    "    del c['campaign']\n",
    "    print (c)\n",
    "    print(\"\\n\\n\\n\")"
   ]
  },
  {
   "cell_type": "code",
   "execution_count": null,
   "metadata": {
    "collapsed": true
   },
   "outputs": [],
   "source": []
  }
 ],
 "metadata": {
  "kernelspec": {
   "display_name": "Python 3",
   "language": "python",
   "name": "python3"
  },
  "language_info": {
   "codemirror_mode": {
    "name": "ipython",
    "version": 3
   },
   "file_extension": ".py",
   "mimetype": "text/x-python",
   "name": "python",
   "nbconvert_exporter": "python",
   "pygments_lexer": "ipython3",
   "version": "3.4.3"
  }
 },
 "nbformat": 4,
 "nbformat_minor": 0
}
