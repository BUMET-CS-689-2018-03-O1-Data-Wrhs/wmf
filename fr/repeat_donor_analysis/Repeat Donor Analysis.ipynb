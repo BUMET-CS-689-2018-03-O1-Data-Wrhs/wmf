{
 "metadata": {
  "name": "",
  "signature": "sha256:11a7d005bfb315ed07b1f9346fc1c1cdf7ac242a703df6e63960d8be6274d370"
 },
 "nbformat": 3,
 "nbformat_minor": 0,
 "worksheets": [
  {
   "cells": [
    {
     "cell_type": "code",
     "collapsed": false,
     "input": [
      "from db_utils import query_lutetium, get_time_limits\n",
      "import pandas as pd\n",
      "import matplotlib.pyplot as plt\n",
      "%matplotlib inline\n",
      "from ggplot import *\n",
      "pd.options.display.mpl_style = 'default'\n",
      "import numpy as np\n",
      "\n"
     ],
     "language": "python",
     "metadata": {},
     "outputs": [],
     "prompt_number": ""
    },
    {
     "cell_type": "markdown",
     "metadata": {},
     "source": [
      "#Data Acquisition"
     ]
    },
    {
     "cell_type": "code",
     "collapsed": false,
     "input": [
      "def get_contacts():\n",
      "\n",
      "\n",
      "    query = \"\"\"\n",
      "    SELECT\n",
      "    civicrm_contribution.total_amount,\n",
      "    civicrm_country.iso_code,\n",
      "    civicrm_contribution.receive_date,\n",
      "    civicrm_email.email,\n",
      "    civicrm_address.street_address,\n",
      "    civicrm_address.postal_code,\n",
      "    civicrm_address.city,\n",
      "    civicrm_contact.first_name,\n",
      "    civicrm_contact.last_name,\n",
      "    contribution_tracking.utm_medium\n",
      "    FROM\n",
      "    civicrm.civicrm_contribution,\n",
      "    civicrm.civicrm_address,\n",
      "    civicrm.civicrm_country,\n",
      "    civicrm.civicrm_email,\n",
      "    civicrm.civicrm_contact,\n",
      "    drupal.contribution_tracking\n",
      "    \n",
      "    WHERE \n",
      "    civicrm_contribution.id = drupal.contribution_tracking.contribution_id\n",
      "    AND civicrm_contribution.contact_id = civicrm_address.contact_id\n",
      "    AND civicrm_address.country_id = civicrm_country.id\n",
      "    AND civicrm_contact.id = civicrm_contribution.contact_id\n",
      "    AND civicrm_contribution.contact_id = civicrm_email.contact_id\n",
      "    AND civicrm_address.is_primary = 1\n",
      "    AND civicrm_country.iso_code = 'US'\n",
      "    ORDER BY civicrm_contact.first_name;\n",
      "    \"\"\"\n",
      "    #fraction_of_first_time_donors\n",
      "    return query_lutetium(query, {})\n",
      "    "
     ],
     "language": "python",
     "metadata": {},
     "outputs": [],
     "prompt_number": ""
    },
    {
     "cell_type": "code",
     "collapsed": false,
     "input": [
      "d_orig = get_contacts()\n"
     ],
     "language": "python",
     "metadata": {},
     "outputs": [],
     "prompt_number": ""
    },
    {
     "cell_type": "code",
     "collapsed": false,
     "input": [
      "d_orig['id'] = d_orig.index\n",
      "print d_orig.shape"
     ],
     "language": "python",
     "metadata": {},
     "outputs": [],
     "prompt_number": ""
    },
    {
     "cell_type": "code",
     "collapsed": false,
     "input": [
      "d = d_orig"
     ],
     "language": "python",
     "metadata": {},
     "outputs": [],
     "prompt_number": ""
    },
    {
     "cell_type": "markdown",
     "metadata": {},
     "source": [
      "###Merging Donors by Email"
     ]
    },
    {
     "cell_type": "code",
     "collapsed": false,
     "input": [
      "# We first merge all contacts with the same email address\n",
      "import numpy as np\n",
      "def merge(d):\n",
      "    d.id = d.id.min()\n",
      "    return d\n",
      "    \n",
      "d = d.groupby('email').apply(merge)"
     ],
     "language": "python",
     "metadata": {},
     "outputs": [],
     "prompt_number": ""
    },
    {
     "cell_type": "code",
     "collapsed": false,
     "input": [
      "print d.shape\n",
      "print len(set(d.id))\n",
      "d = d.fillna('')"
     ],
     "language": "python",
     "metadata": {},
     "outputs": [],
     "prompt_number": ""
    },
    {
     "cell_type": "markdown",
     "metadata": {},
     "source": [
      "###Merging Donors by Address"
     ]
    },
    {
     "cell_type": "code",
     "collapsed": false,
     "input": [
      "def lower(s):\n",
      "    try:\n",
      "        return s.lower()\n",
      "    except:\n",
      "        return s\n",
      "\n",
      "d['city'] = d['city'].apply(lower)\n",
      "d['first_name'] = d['first_name'].apply(lower)\n",
      "d['last_name'] = d['last_name'].apply(lower)\n",
      "d['street_address'] = d['street_address'].apply(lower)\n",
      "\n",
      "\n",
      "def map_street_abbreviations(s):\n",
      "    try:\n",
      "        s = s.replace('  ', ' ')\n",
      "        s = s.replace('.', '')\n",
      "        \n",
      "        s = s.replace(' ct', ' court')\n",
      "        s = s.replace(' street', ' st')\n",
      "        s = s.replace(' str', ' st')\n",
      "        s = s.replace(' boulevard', ' blvd')\n",
      "        s = s.replace(' lane', ' ln')\n",
      "        s = s.replace(' av', ' ave')\n",
      "        s = s.replace(' avenue', ' ave')\n",
      "        s = s.replace(' drive', ' dr')\n",
      "        s = s.replace(' road', ' rd')\n",
      "        return s\n",
      "        \n",
      "    except:\n",
      "        return s\n",
      "    \n",
      "d['street_address'] = d['street_address'].apply(map_street_abbreviations)\n",
      "d = d.groupby(['first_name', 'last_name','street_address', 'city' ]).apply(merge)\n",
      "print d.shape\n",
      "print len(set(d.id))"
     ],
     "language": "python",
     "metadata": {},
     "outputs": [],
     "prompt_number": ""
    },
    {
     "cell_type": "code",
     "collapsed": false,
     "input": [
      "d.index = d.id\n",
      "d['year'] = d['receive_date'].apply(lambda x: x.year)"
     ],
     "language": "python",
     "metadata": {},
     "outputs": []
    },
    {
     "cell_type": "code",
     "collapsed": false,
     "input": [
      "d.to_csv('deduped_donors.csv')\n"
     ],
     "language": "python",
     "metadata": {},
     "outputs": [],
     "prompt_number": ""
    },
    {
     "cell_type": "code",
     "collapsed": false,
     "input": [
      "gbo = d[['year', 'utm_medium']].groupby(['year', 'utm_medium'])\n",
      "#pd.DataFrame(gbo.apply(lambda x: x.shape[0]))"
     ],
     "language": "python",
     "metadata": {},
     "outputs": [],
     "prompt_number": ""
    },
    {
     "cell_type": "code",
     "collapsed": false,
     "input": [
      "d = pd.read_csv('deduped_donors.csv')"
     ],
     "language": "python",
     "metadata": {},
     "outputs": [],
     "prompt_number": ""
    },
    {
     "cell_type": "code",
     "collapsed": false,
     "input": [
      "max_year = 2015\n",
      "min_year = 2008\n",
      "years = np.array(range(min_year, max_year))\n",
      "donor_sets = { y:set(d[d.year == y].id) for y in years}\n",
      "donors_per_year = np.array([float(len(donor_sets[i])) for i in years])\n",
      "\n",
      "df = pd.DataFrame()\n",
      "df['year'] = years\n",
      "df['year'] = df['year'] -2000\n",
      "df.index = df.year\n",
      "df['donors_per_year'] = donors_per_year\n"
     ],
     "language": "python",
     "metadata": {},
     "outputs": [],
     "prompt_number": ""
    },
    {
     "cell_type": "markdown",
     "metadata": {},
     "source": [
      "# First Time vs Repeat Donors"
     ]
    },
    {
     "cell_type": "code",
     "collapsed": false,
     "input": [
      "fraction_of_first_time_donors = [1, ]\n",
      "num_first_time_donors = [len(donor_sets[years[0]])]\n",
      "num_repeat_donors = [0]\n",
      "new_donors_dict = {min_year:donor_sets[min_year]}\n",
      "\n",
      "for y in years[1:]:\n",
      "    this_year = donor_sets[y]\n",
      "    last_years = set(d[d.year < y].id)\n",
      "    new_donors = this_year.difference(last_years)\n",
      "    new_donors_dict[y] = new_donors\n",
      "    repeat_donors = this_year.intersection(last_years)\n",
      "    \n",
      "    fraction_of_first_time_donors.append(len(new_donors)/float(len(this_year)))\n",
      "    num_first_time_donors.append(len(new_donors))\n",
      "    num_repeat_donors.append(len(repeat_donors))"
     ],
     "language": "python",
     "metadata": {},
     "outputs": [],
     "prompt_number": ""
    },
    {
     "cell_type": "code",
     "collapsed": false,
     "input": [
      "df['fraction_of_first_time_donors'] = fraction_of_first_time_donors\n",
      "df['num_first_time_donors'] = num_first_time_donors\n",
      "df['num_repeat_donors'] = num_repeat_donors"
     ],
     "language": "python",
     "metadata": {},
     "outputs": [],
     "prompt_number": ""
    },
    {
     "cell_type": "code",
     "collapsed": false,
     "input": [
      "fig = plt.figure(figsize=(10, 6), dpi=80)\n",
      "plt.plot(years-2000, donors_per_year, label = 'all')\n",
      "plt.plot(years -2000, num_first_time_donors, label = 'First Time')\n",
      "plt.plot(years -2000, num_repeat_donors, label = 'Repeat')\n",
      "plt.legend(loc='center left', bbox_to_anchor=(1, 0.5))\n",
      "plt.xlabel('year')\n",
      "plt.ylabel('num donors')\n"
     ],
     "language": "python",
     "metadata": {},
     "outputs": [],
     "prompt_number": ""
    },
    {
     "cell_type": "markdown",
     "metadata": {},
     "source": [
      "###Explanation:\n",
      "This plot shows the number of donors per year,  broken down by whether they are new donors.\n",
      "\n",
      "###Interpretation:\n",
      "- both populations are growing\n",
      "- the number of repeat donors is growing more quickly\n",
      "- we still have more first time donors than repeat donors (exaggerated by the difficulty of associating 2008 donors with 2014 donors)"
     ]
    },
    {
     "cell_type": "code",
     "collapsed": false,
     "input": [
      "fig = plt.figure(figsize=(10, 6), dpi=80)\n",
      "plt.plot(years -2000, fraction_of_first_time_donors, label = 'First Time')\n",
      "plt.plot(years -2000, 1- np.array(fraction_of_first_time_donors), label = 'Repeat')\n",
      "\n",
      "plt.xlabel('year')\n",
      "plt.ylabel('Fraction of first time donors')\n",
      "plt.legend(loc='center left', bbox_to_anchor=(1, 0.5))"
     ],
     "language": "python",
     "metadata": {},
     "outputs": [],
     "prompt_number": ""
    },
    {
     "cell_type": "markdown",
     "metadata": {},
     "source": [
      "###Explanation\n",
      "This plot shows what fraction of donors are giving for the first time. For example, in 2013, we 65% of donors are new, meaning they did not give from 2008-2012.\n",
      "\n",
      "###Interpetation\n",
      "- this is a result of repeat donor population growing more quickly"
     ]
    },
    {
     "cell_type": "markdown",
     "metadata": {},
     "source": [
      "#Donor Survival"
     ]
    },
    {
     "cell_type": "markdown",
     "metadata": {},
     "source": [
      "In this next section, we will study the set of donors who did not give for the first time in 2014 (i.e. they gave in 2014 and in 2008-2013)"
     ]
    },
    {
     "cell_type": "code",
     "collapsed": false,
     "input": [
      "number_of_donors_giving_again_in_2014 = []\n",
      "number_of_donors_giving_again_in_2014_via_email = []\n",
      "number_of_donors_giving_again_in_2014_via_banner = []\n",
      "number_of_email_donations = []\n",
      "\n",
      "for y in years:\n",
      "    \n",
      "    repeat_donors = donor_sets[y].intersection(donor_sets[years[-1]])\n",
      "    number_of_donors_giving_again_in_2014.append(float(len(repeat_donors)))\n",
      "    \n",
      "    d_repeat_donors = d[d['year'] == y]\n",
      "    number_of_email_donations.append(d_repeat_donors.shape[0])\n",
      "\n",
      "    \n",
      "    d_repeat_donors = d_repeat_donors[d_repeat_donors['id'].isin(repeat_donors)]\n",
      "    \n",
      "    \n",
      "    num_repeat_donors_email = float(len(set(d_repeat_donors[d_repeat_donors['utm_medium'] == 'email']['id'])))\n",
      "    num_repeat_donors_banner = float(len(set(d_repeat_donors[d_repeat_donors['utm_medium'] == 'sitenotice']['id'])))\n",
      "    number_of_donors_giving_again_in_2014_via_email.append(num_repeat_donors_email)\n",
      "    number_of_donors_giving_again_in_2014_via_banner.append(num_repeat_donors_banner)\n",
      "    \n",
      "df['number_of_donors_giving_again_in_2014'] = number_of_donors_giving_again_in_2014\n",
      "df['number_of_donors_giving_again_in_2014_via_email'] = number_of_donors_giving_again_in_2014_via_email\n",
      "df['number_of_donors_giving_again_in_2014_via_banner'] = number_of_donors_giving_again_in_2014_via_banner"
     ],
     "language": "python",
     "metadata": {},
     "outputs": [],
     "prompt_number": ""
    },
    {
     "cell_type": "code",
     "collapsed": false,
     "input": [
      "print number_of_email_donations\n",
      "print np.array(number_of_donors_giving_again_in_2014_via_email).sum()"
     ],
     "language": "python",
     "metadata": {},
     "outputs": [],
     "prompt_number": ""
    },
    {
     "cell_type": "code",
     "collapsed": false,
     "input": [
      "fig = plt.figure(figsize=(10, 6), dpi=80)\n",
      "plt.plot(years[:-1] -2000,  number_of_donors_giving_again_in_2014[:-1] / donors_per_year[:-1])\n",
      "plt.xlabel('year')\n",
      "plt.ylabel('number of uniques')\n",
      "plt.title(\"Fraction of donors giving again in 2014\")"
     ],
     "language": "python",
     "metadata": {},
     "outputs": [],
     "prompt_number": ""
    },
    {
     "cell_type": "markdown",
     "metadata": {},
     "source": [
      "###Explanation\n",
      "For each year, this plot shows the fraction of donors who donated again in 2014. For example, 35% of people who donated in 2008 donated again in 2014. Note: we may have trouble mapping 2008 donors to 2014 donors, which would lead our estimate to be low"
     ]
    },
    {
     "cell_type": "code",
     "collapsed": false,
     "input": [
      "fig = plt.figure(figsize=(10, 6), dpi=80)\n",
      "plt.plot(years[:-1] -2000, number_of_donors_giving_again_in_2014[:-1], label='any medium')\n",
      "plt.plot(years[:-1] -2000, number_of_donors_giving_again_in_2014_via_banner[:-1], label='banner')\n",
      "plt.plot(years[:-1] -2000, number_of_donors_giving_again_in_2014_via_email[:-1], label = 'email')\n",
      "plt.title('Number of donors who donated again in 2014, broken down by medium')\n",
      "plt.xlabel('year')\n",
      "plt.ylabel('number of uniques')\n",
      "plt.legend(loc='center left', bbox_to_anchor=(1, 0.5))"
     ],
     "language": "python",
     "metadata": {},
     "outputs": [],
     "prompt_number": ""
    },
    {
     "cell_type": "markdown",
     "metadata": {},
     "source": [
      "###Explanation\n",
      "This plot shows the number donors for each year who donated again via email, a banner and any medium (including email and banner). Note: A donor who donated in 2009 may donate via email and banner in 2014. As such, adding the number of email and banner donors ( a subset of the media) may give a number that is larger than the number of unique repeat donors for that year."
     ]
    },
    {
     "cell_type": "code",
     "collapsed": false,
     "input": [
      "fig = plt.figure(figsize=(10, 6), dpi=80)\n",
      "number_of_donors_giving_again_in_2014 = np.array(number_of_donors_giving_again_in_2014)\n",
      "plt.plot(years[:-1] -2000, number_of_donors_giving_again_in_2014_via_banner[:-1]/number_of_donors_giving_again_in_2014[:-1], label='banner')\n",
      "plt.plot(years[:-1] -2000, number_of_donors_giving_again_in_2014_via_email[:-1]/number_of_donors_giving_again_in_2014[:-1], label = 'email')\n",
      "plt.legend(loc='center left', bbox_to_anchor=(1, 0.5))\n",
      "plt.xlabel('year')\n",
      "plt.ylabel('fraction of uniques')"
     ],
     "language": "python",
     "metadata": {},
     "outputs": [],
     "prompt_number": ""
    },
    {
     "cell_type": "markdown",
     "metadata": {},
     "source": [
      "###Explanation\n",
      "This plot shows the number donors for each year who donated again via email and banner normalized by the number of repeat donors for the year. It looks like the naming convention for banner donations was different prior to 2010."
     ]
    },
    {
     "cell_type": "markdown",
     "metadata": {},
     "source": [
      "#How many times does a donor give?"
     ]
    },
    {
     "cell_type": "code",
     "collapsed": false,
     "input": [
      "distributions = {}\n",
      "from collections import Counter\n",
      "\n",
      "for start_year in years: \n",
      "    donors = new_donors_dict[start_year]\n",
      "    cntr = Counter(donors)\n",
      "    for year in years:\n",
      "        if year <= start_year:\n",
      "            continue\n",
      "        repeat_donors = donor_sets[year].intersection(donors)\n",
      "        cntr.update(repeat_donors)\n",
      "    distributions[start_year] = Counter(cntr.values())\n",
      "        \n",
      "    \n",
      "    \n",
      "    \n",
      "    "
     ],
     "language": "python",
     "metadata": {},
     "outputs": [],
     "prompt_number": ""
    },
    {
     "cell_type": "code",
     "collapsed": false,
     "input": [
      "distributions[2008]"
     ],
     "language": "python",
     "metadata": {},
     "outputs": [],
     "prompt_number": ""
    },
    {
     "cell_type": "code",
     "collapsed": false,
     "input": [
      "for year in years[:-1]:\n",
      "    plt.figure()\n",
      "    plt.plot(distributions[year].keys(), distributions[year].values())\n",
      "    plt.xlabel('number of donations')\n",
      "    plt.ylabel('number of donors')\n",
      "    plt.title(year)"
     ],
     "language": "python",
     "metadata": {},
     "outputs": [],
     "prompt_number": ""
    }
   ],
   "metadata": {}
  }
 ]
}