{
 "metadata": {
  "name": "",
  "signature": "sha256:c5936389c8bd961a0080b7683be327ab876a5622354de8e77da5ea62e3809a55"
 },
 "nbformat": 3,
 "nbformat_minor": 0,
 "worksheets": [
  {
   "cells": [
    {
     "cell_type": "code",
     "collapsed": false,
     "input": [
      "%matplotlib inline\n",
      "%load_ext autoreload\n",
      "%autoreload 2\n",
      "import pandas as pd\n",
      "pd.options.display.mpl_style = 'default'\n",
      "\n",
      "import inspect, os\n",
      "currentdir = os.path.dirname(os.path.abspath(inspect.getfile(inspect.currentframe())))\n",
      "parentdir = os.path.dirname(currentdir)\n",
      "os.sys.path.insert(0,parentdir) \n",
      "from src.dashboard_helpers import Test\n",
      "from src.data_retrieval import *\n",
      "\n",
      "\n",
      "\n"
     ],
     "language": "python",
     "metadata": {},
     "outputs": [],
     "prompt_number": ""
    },
    {
     "cell_type": "code",
     "collapsed": false,
     "input": [
      "t = Test(\"B14_1021_frBE_gtw_wp\", \"B14_1021_frBE_gtw_gc\")"
     ],
     "language": "python",
     "metadata": {},
     "outputs": [],
     "prompt_number": ""
    },
    {
     "cell_type": "code",
     "collapsed": false,
     "input": [
      "t.combine([\"B14_1021_frBE_gtw_wp\", \"B14_1021_frBE_gtw_gc\"], 'all')"
     ],
     "language": "python",
     "metadata": {},
     "outputs": [],
     "prompt_number": ""
    },
    {
     "cell_type": "code",
     "collapsed": false,
     "input": [
      "t.ecom()"
     ],
     "language": "python",
     "metadata": {},
     "outputs": [],
     "prompt_number": ""
    },
    {
     "cell_type": "code",
     "collapsed": false,
     "input": [
      "t.get_payment_method_details()"
     ],
     "language": "python",
     "metadata": {},
     "outputs": [],
     "prompt_number": ""
    },
    {
     "cell_type": "code",
     "collapsed": false,
     "input": [
      "t.rate_stats( 'B14_1021_frBE_gtw_gc', 'B14_1021_frBE_gtw_wp', conf = 99, test = 'donations/impressions', plot = True)"
     ],
     "language": "python",
     "metadata": {},
     "outputs": [],
     "prompt_number": ""
    },
    {
     "cell_type": "markdown",
     "metadata": {},
     "source": [
      "Ok, looks like GC got more donations per impression than WP. Lets Dig a bit deeper and look at clicks per impression. We expect to find no difference since the banners were the same."
     ]
    },
    {
     "cell_type": "code",
     "collapsed": false,
     "input": [
      "t.rate_stats( 'B14_1021_frBE_gtw_gc', 'B14_1021_frBE_gtw_wp', conf = 99, test = 'clicks/impressions', plot = True)"
     ],
     "language": "python",
     "metadata": {},
     "outputs": [],
     "prompt_number": ""
    },
    {
     "cell_type": "markdown",
     "metadata": {},
     "source": [
      "Wow! Looks like there is a huge difference? How can this be? Lets set this aside and investigate the question we care most about: Are the two payment processors different? We know the paypal landing pages were the same, so lets look at cc donations per cc clicks."
     ]
    },
    {
     "cell_type": "code",
     "collapsed": false,
     "input": [
      "t.rate_stats( 'B14_1021_frBE_gtw_gc', 'B14_1021_frBE_gtw_wp', conf = 99, test = 'donations/clicks', plot = True)"
     ],
     "language": "python",
     "metadata": {},
     "outputs": [],
     "prompt_number": ""
    },
    {
     "cell_type": "code",
     "collapsed": false,
     "input": [
      "t.AB_stats( 'B14_1021_frBE_gtw_gc', 'B14_1021_frBE_gtw_wp', conf = 95, event = 'cc')"
     ],
     "language": "python",
     "metadata": {},
     "outputs": [],
     "prompt_number": ""
    },
    {
     "cell_type": "markdown",
     "metadata": {},
     "source": [
      "Huh, no significant difference. Can we trust the results? I would be wary since it looks like something is wrong in our treatment assignemnt. Next steps could be to run the test again and swap which banner is in which bucket or run the same experiment much longer.  "
     ]
    },
    {
     "cell_type": "code",
     "collapsed": false,
     "input": [
      "t.plot_impressions( 'B14_1021_frBE_gtw_gc', 'B14_1021_frBE_gtw_wp', smooth = 50)"
     ],
     "language": "python",
     "metadata": {},
     "outputs": [],
     "prompt_number": ""
    },
    {
     "cell_type": "markdown",
     "metadata": {},
     "source": [
      "On weekends, traffic is lower!"
     ]
    },
    {
     "cell_type": "code",
     "collapsed": false,
     "input": [
      "t.copare_donations_amounts('B14_1021_frBE_gtw_gc', 'B14_1021_frBE_gtw_wp' )"
     ],
     "language": "python",
     "metadata": {},
     "outputs": [],
     "prompt_number": ""
    },
    {
     "cell_type": "code",
     "collapsed": false,
     "input": [
      "t.plot_utm_key('B14_1021_frBE_gtw_gc', 'B14_1021_frBE_gtw_wp', max_key = 5, normalize = True)"
     ],
     "language": "python",
     "metadata": {},
     "outputs": [],
     "prompt_number": ""
    },
    {
     "cell_type": "markdown",
     "metadata": {},
     "source": [
      "Wow! These distributions should be the same!\n"
     ]
    },
    {
     "cell_type": "code",
     "collapsed": false,
     "input": [
      "t.plot_donations_over_time('B14_1021_frBE_gtw_gc', 'B14_1021_frBE_gtw_wp', smooth = 100, amount = False)"
     ],
     "language": "python",
     "metadata": {},
     "outputs": [],
     "prompt_number": ""
    },
    {
     "cell_type": "markdown",
     "metadata": {},
     "source": [
      "Although on weekends, traffic is lower, but people are more willing to donate!"
     ]
    }
   ],
   "metadata": {}
  }
 ]
}