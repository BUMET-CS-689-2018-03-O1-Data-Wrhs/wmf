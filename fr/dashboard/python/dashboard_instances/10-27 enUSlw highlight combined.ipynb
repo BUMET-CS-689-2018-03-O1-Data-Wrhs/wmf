{
 "metadata": {
  "name": "",
  "signature": "sha256:ceca1dd9492a118c7e6381413d25c69f6cfe4e547d7e1428c87e209c5e8579a9"
 },
 "nbformat": 3,
 "nbformat_minor": 0,
 "worksheets": [
  {
   "cells": [
    {
     "cell_type": "code",
     "collapsed": false,
     "input": [
      "\n",
      "%matplotlib inline\n",
      "%load_ext autoreload\n",
      "%autoreload 2\n",
      "import pandas as pd\n",
      "pd.options.display.mpl_style = 'default'\n",
      "\n",
      "import inspect, os\n",
      "currentdir = os.path.dirname(os.path.abspath(inspect.getfile(inspect.currentframe())))\n",
      "parentdir = os.path.dirname(currentdir)\n",
      "os.sys.path.insert(0,parentdir) \n",
      "from src.dashboard_helpers import Test, custom_amount_stats\n",
      "from src.data_retrieval import *\n",
      "\n"
     ],
     "language": "python",
     "metadata": {},
     "outputs": [],
     "prompt_number": ""
    },
    {
     "cell_type": "code",
     "collapsed": false,
     "input": [
      "t = Test(\"B14_1027_enUS_ipd_hl_ls\", \"B14_1027_enUS_ipd_hl_mr\", \"B14_1027_enUS_mob_hl_ls\", \"B14_1027_enUS_mob_hl_mr\", start = '2014-10-25')"
     ],
     "language": "python",
     "metadata": {},
     "outputs": [],
     "prompt_number": ""
    },
    {
     "cell_type": "code",
     "collapsed": false,
     "input": [
      "t.combine([\"B14_1027_enUS_ipd_hl_ls\", \"B14_1027_enUS_mob_hl_ls\"], \"ls\")\n",
      "t.combine([\"B14_1027_enUS_ipd_hl_mr\", \"B14_1027_enUS_mob_hl_mr\"], \"mr\")"
     ],
     "language": "python",
     "metadata": {},
     "outputs": [],
     "prompt_number": ""
    },
    {
     "cell_type": "code",
     "collapsed": false,
     "input": [
      "t.ecom()"
     ],
     "language": "python",
     "metadata": {},
     "outputs": [],
     "prompt_number": ""
    },
    {
     "cell_type": "code",
     "collapsed": false,
     "input": [
      "t.plot_impressions(\"ls\", \"mr\",  stop = '2014-11-06', smooth = 30)"
     ],
     "language": "python",
     "metadata": {},
     "outputs": [],
     "prompt_number": ""
    },
    {
     "cell_type": "markdown",
     "metadata": {},
     "source": [
      "Looks like ls and mr where served equally. But we know from the individual analysis, that within the device class, the notebooks were shown at very different rates"
     ]
    },
    {
     "cell_type": "code",
     "collapsed": false,
     "input": [
      "t.plot_impressions( \"B14_1027_enUS_ipd_hl_ls\", \"B14_1027_enUS_ipd_hl_mr\", smooth = 30, stop = '2014-11-06')"
     ],
     "language": "python",
     "metadata": {},
     "outputs": [],
     "prompt_number": ""
    },
    {
     "cell_type": "markdown",
     "metadata": {},
     "source": [
      "On the ipad mr was shown more often starting on day 3"
     ]
    },
    {
     "cell_type": "code",
     "collapsed": false,
     "input": [
      "t.plot_impressions( \"B14_1027_enUS_mob_hl_ls\", \"B14_1027_enUS_mob_hl_mr\",stop = '2014-11-06', smooth = 30)"
     ],
     "language": "python",
     "metadata": {},
     "outputs": [],
     "prompt_number": ""
    },
    {
     "cell_type": "markdown",
     "metadata": {},
     "source": [
      "On mobile, ls was shown more often."
     ]
    },
    {
     "cell_type": "markdown",
     "metadata": {},
     "source": [
      "Since we know the distribution over the device class within the combined banner data ls and mr is not the same, and donation rates depend on the device class, we cannot do tests on the aggregate data. As an example, the two banners could be identical, but because one banner was served to more people from a device class that tends to give more donations, it appears better."
     ]
    },
    {
     "cell_type": "code",
     "collapsed": false,
     "input": [],
     "language": "python",
     "metadata": {},
     "outputs": []
    }
   ],
   "metadata": {}
  }
 ]
}