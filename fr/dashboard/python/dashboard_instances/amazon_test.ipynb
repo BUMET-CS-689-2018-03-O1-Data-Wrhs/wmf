{
 "metadata": {
  "name": "",
  "signature": "sha256:4bd8624829931b9ec0e42c0e3f87b217820a570550fc3275aba5a5d452e18e62"
 },
 "nbformat": 3,
 "nbformat_minor": 0,
 "worksheets": [
  {
   "cells": [
    {
     "cell_type": "code",
     "collapsed": false,
     "input": [
      "\n",
      "%matplotlib inline\n",
      "%load_ext autoreload\n",
      "%autoreload 2\n",
      "import pandas as pd\n",
      "pd.options.display.mpl_style = 'default'\n",
      "\n",
      "import inspect, os\n",
      "currentdir = os.path.dirname(os.path.abspath(inspect.getfile(inspect.currentframe())))\n",
      "parentdir = os.path.dirname(currentdir)\n",
      "os.sys.path.insert(0,parentdir) \n",
      "from src.dashboard_helpers import Test, custom_amount_stats\n",
      "from src.data_retrieval import *\n",
      "\n"
     ],
     "language": "python",
     "metadata": {},
     "outputs": [],
     "prompt_number": 2
    },
    {
     "cell_type": "markdown",
     "metadata": {},
     "source": [
      "#Desktop"
     ]
    },
    {
     "cell_type": "code",
     "collapsed": false,
     "input": [
      "a = 'B15_0304_enUS_dsk_tp_amz_n_txt_msn'\n",
      "b = 'B15_0304_enUS_dsk_tp_amz_n_txt_spc'\n",
      "c = 'B15_0304_enUS_dsk_tp_amz_y_txt_msn'\n",
      "d = 'B15_0304_enUS_dsk_tp_amz_y_txt_spc'"
     ],
     "language": "python",
     "metadata": {},
     "outputs": [],
     "prompt_number": 16
    },
    {
     "cell_type": "code",
     "collapsed": false,
     "input": [
      "th = Test(a, b, c, d, hive = True, start = '2015-03-03', stop  = '2015-03-12')"
     ],
     "language": "python",
     "metadata": {},
     "outputs": [
      {
       "output_type": "stream",
       "stream": "stdout",
       "text": [
        "fetching data via ssh\n",
        "fetching data via ssh"
       ]
      },
      {
       "output_type": "stream",
       "stream": "stdout",
       "text": [
        "\n",
        "fetching data via ssh"
       ]
      },
      {
       "output_type": "stream",
       "stream": "stdout",
       "text": [
        "\n",
        "fetching data via ssh"
       ]
      },
      {
       "output_type": "stream",
       "stream": "stdout",
       "text": [
        "\n",
        "fetching data via ssh"
       ]
      },
      {
       "output_type": "stream",
       "stream": "stdout",
       "text": [
        "\n",
        "fetching data via ssh"
       ]
      },
      {
       "output_type": "stream",
       "stream": "stdout",
       "text": [
        "\n",
        "fetching data via ssh"
       ]
      },
      {
       "output_type": "stream",
       "stream": "stdout",
       "text": [
        "\n",
        "fetching data via ssh"
       ]
      },
      {
       "output_type": "stream",
       "stream": "stdout",
       "text": [
        "\n"
       ]
      }
     ],
     "prompt_number": 5
    },
    {
     "cell_type": "code",
     "collapsed": false,
     "input": [
      "th.combine([a, b], 'no_amazon')\n",
      "th.combine([b, c], 'amazon')"
     ],
     "language": "python",
     "metadata": {},
     "outputs": [
      {
       "output_type": "stream",
       "stream": "stdout",
       "text": [
        "The combination_name is already in use\n",
        "The combination_name is already in use\n"
       ]
      }
     ],
     "prompt_number": 19
    },
    {
     "cell_type": "code",
     "collapsed": false,
     "input": [
      "th.ecom('amazon', 'no_amazon')"
     ],
     "language": "python",
     "metadata": {},
     "outputs": [
      {
       "html": [
        "<div style=\"max-height:1000px;max-width:1500px;overflow:auto;\">\n",
        "<table border=\"1\" class=\"dataframe\">\n",
        "  <thead>\n",
        "    <tr style=\"text-align: right;\">\n",
        "      <th></th>\n",
        "      <th>donations</th>\n",
        "      <th>impressions</th>\n",
        "      <th>dons/i</th>\n",
        "      <th>amount</th>\n",
        "      <th>amount/i</th>\n",
        "      <th>clicks</th>\n",
        "      <th>clicks/i</th>\n",
        "      <th>dons/clicks</th>\n",
        "      <th>amount_ro</th>\n",
        "      <th>amount_ro/i</th>\n",
        "      <th>max</th>\n",
        "      <th>median</th>\n",
        "      <th>avg</th>\n",
        "      <th>avg_ro</th>\n",
        "    </tr>\n",
        "  </thead>\n",
        "  <tbody>\n",
        "    <tr>\n",
        "      <th>amazon</th>\n",
        "      <td> 2373</td>\n",
        "      <td> 1721734</td>\n",
        "      <td> 0.001378</td>\n",
        "      <td> 29818.59</td>\n",
        "      <td> 0.017319</td>\n",
        "      <td> 4164</td>\n",
        "      <td> 0.002418</td>\n",
        "      <td> 0.569885</td>\n",
        "      <td> 28818.59</td>\n",
        "      <td> 0.016738</td>\n",
        "      <td> 1000</td>\n",
        "      <td> 5</td>\n",
        "      <td> 12.565777</td>\n",
        "      <td> 12.149490</td>\n",
        "    </tr>\n",
        "    <tr>\n",
        "      <th>no_amazon</th>\n",
        "      <td> 2246</td>\n",
        "      <td> 1702944</td>\n",
        "      <td> 0.001319</td>\n",
        "      <td> 29133.59</td>\n",
        "      <td> 0.017108</td>\n",
        "      <td> 4058</td>\n",
        "      <td> 0.002383</td>\n",
        "      <td> 0.553475</td>\n",
        "      <td> 28133.59</td>\n",
        "      <td> 0.016521</td>\n",
        "      <td> 1000</td>\n",
        "      <td> 5</td>\n",
        "      <td> 12.971322</td>\n",
        "      <td> 12.531666</td>\n",
        "    </tr>\n",
        "  </tbody>\n",
        "</table>\n",
        "</div>"
       ],
       "metadata": {},
       "output_type": "pyout",
       "prompt_number": 21,
       "text": [
        "           donations  impressions    dons/i    amount  amount/i  clicks  \\\n",
        "amazon          2373      1721734  0.001378  29818.59  0.017319    4164   \n",
        "no_amazon       2246      1702944  0.001319  29133.59  0.017108    4058   \n",
        "\n",
        "           clicks/i  dons/clicks  amount_ro  amount_ro/i   max  median  \\\n",
        "amazon     0.002418     0.569885   28818.59     0.016738  1000       5   \n",
        "no_amazon  0.002383     0.553475   28133.59     0.016521  1000       5   \n",
        "\n",
        "                 avg     avg_ro  \n",
        "amazon     12.565777  12.149490  \n",
        "no_amazon  12.971322  12.531666  "
       ]
      }
     ],
     "prompt_number": 21
    },
    {
     "cell_type": "code",
     "collapsed": false,
     "input": [
      "t.get_payment_method_details('amazon', 'no_amazon')"
     ],
     "language": "python",
     "metadata": {},
     "outputs": [
      {
       "html": [
        "<div style=\"max-height:1000px;max-width:1500px;overflow:auto;\">\n",
        "<table border=\"1\" class=\"dataframe\">\n",
        "  <thead>\n",
        "    <tr style=\"text-align: right;\">\n",
        "      <th></th>\n",
        "      <th></th>\n",
        "      <th>donations</th>\n",
        "      <th>clicks</th>\n",
        "      <th>conversion_rate</th>\n",
        "      <th>percent clicked on</th>\n",
        "      <th>percent donated on</th>\n",
        "      <th>total_amount</th>\n",
        "      <th>ave_amount_ro</th>\n",
        "    </tr>\n",
        "  </thead>\n",
        "  <tbody>\n",
        "    <tr>\n",
        "      <th rowspan=\"5\" valign=\"top\">amazon</th>\n",
        "      <th>amazon</th>\n",
        "      <td>  255</td>\n",
        "      <td>  413</td>\n",
        "      <td> 61.743341</td>\n",
        "      <td>  9.918348</td>\n",
        "      <td> 10.750422</td>\n",
        "      <td>  2711.00</td>\n",
        "      <td> 10.631373</td>\n",
        "    </tr>\n",
        "    <tr>\n",
        "      <th>cc</th>\n",
        "      <td>  751</td>\n",
        "      <td> 1656</td>\n",
        "      <td> 45.350242</td>\n",
        "      <td> 39.769452</td>\n",
        "      <td> 31.661046</td>\n",
        "      <td> 12036.62</td>\n",
        "      <td> 16.027457</td>\n",
        "    </tr>\n",
        "    <tr>\n",
        "      <th>paypal</th>\n",
        "      <td> 1315</td>\n",
        "      <td> 1910</td>\n",
        "      <td> 68.848168</td>\n",
        "      <td> 45.869356</td>\n",
        "      <td> 55.438449</td>\n",
        "      <td> 14827.97</td>\n",
        "      <td> 10.523569</td>\n",
        "    </tr>\n",
        "    <tr>\n",
        "      <th>rcc</th>\n",
        "      <td>   34</td>\n",
        "      <td>  109</td>\n",
        "      <td> 31.192661</td>\n",
        "      <td>  2.617675</td>\n",
        "      <td>  1.433390</td>\n",
        "      <td>   174.00</td>\n",
        "      <td>  5.117647</td>\n",
        "    </tr>\n",
        "    <tr>\n",
        "      <th>rpaypal</th>\n",
        "      <td>   17</td>\n",
        "      <td>   76</td>\n",
        "      <td> 22.368421</td>\n",
        "      <td>  1.825168</td>\n",
        "      <td>  0.716695</td>\n",
        "      <td>    64.00</td>\n",
        "      <td>  3.764706</td>\n",
        "    </tr>\n",
        "    <tr>\n",
        "      <th rowspan=\"5\" valign=\"top\">no_amazon</th>\n",
        "      <th>cc</th>\n",
        "      <td>  822</td>\n",
        "      <td> 1809</td>\n",
        "      <td> 45.439469</td>\n",
        "      <td> 44.578610</td>\n",
        "      <td> 36.598397</td>\n",
        "      <td> 13464.59</td>\n",
        "      <td> 16.380280</td>\n",
        "    </tr>\n",
        "    <tr>\n",
        "      <th>paypal</th>\n",
        "      <td> 1382</td>\n",
        "      <td> 2051</td>\n",
        "      <td> 67.381765</td>\n",
        "      <td> 50.542139</td>\n",
        "      <td> 61.531612</td>\n",
        "      <td> 15431.00</td>\n",
        "      <td> 10.449674</td>\n",
        "    </tr>\n",
        "    <tr>\n",
        "      <th>ramazon</th>\n",
        "      <td>  NaN</td>\n",
        "      <td>    1</td>\n",
        "      <td>       NaN</td>\n",
        "      <td>  0.024643</td>\n",
        "      <td>       NaN</td>\n",
        "      <td>      NaN</td>\n",
        "      <td>       NaN</td>\n",
        "    </tr>\n",
        "    <tr>\n",
        "      <th>rcc</th>\n",
        "      <td>   26</td>\n",
        "      <td>  117</td>\n",
        "      <td> 22.222222</td>\n",
        "      <td>  2.883194</td>\n",
        "      <td>  1.157614</td>\n",
        "      <td>   156.00</td>\n",
        "      <td>  6.000000</td>\n",
        "    </tr>\n",
        "    <tr>\n",
        "      <th>rpaypal</th>\n",
        "      <td>   16</td>\n",
        "      <td>   80</td>\n",
        "      <td> 20.000000</td>\n",
        "      <td>  1.971414</td>\n",
        "      <td>  0.712378</td>\n",
        "      <td>    82.00</td>\n",
        "      <td>  5.125000</td>\n",
        "    </tr>\n",
        "  </tbody>\n",
        "</table>\n",
        "</div>"
       ],
       "metadata": {},
       "output_type": "pyout",
       "prompt_number": 8,
       "text": [
        "                   donations  clicks  conversion_rate  percent clicked on  \\\n",
        "amazon    amazon         255     413        61.743341            9.918348   \n",
        "          cc             751    1656        45.350242           39.769452   \n",
        "          paypal        1315    1910        68.848168           45.869356   \n",
        "          rcc             34     109        31.192661            2.617675   \n",
        "          rpaypal         17      76        22.368421            1.825168   \n",
        "no_amazon cc             822    1809        45.439469           44.578610   \n",
        "          paypal        1382    2051        67.381765           50.542139   \n",
        "          ramazon        NaN       1              NaN            0.024643   \n",
        "          rcc             26     117        22.222222            2.883194   \n",
        "          rpaypal         16      80        20.000000            1.971414   \n",
        "\n",
        "                   percent donated on  total_amount  ave_amount_ro  \n",
        "amazon    amazon            10.750422       2711.00      10.631373  \n",
        "          cc                31.661046      12036.62      16.027457  \n",
        "          paypal            55.438449      14827.97      10.523569  \n",
        "          rcc                1.433390        174.00       5.117647  \n",
        "          rpaypal            0.716695         64.00       3.764706  \n",
        "no_amazon cc                36.598397      13464.59      16.380280  \n",
        "          paypal            61.531612      15431.00      10.449674  \n",
        "          ramazon                 NaN           NaN            NaN  \n",
        "          rcc                1.157614        156.00       6.000000  \n",
        "          rpaypal            0.712378         82.00       5.125000  "
       ]
      }
     ],
     "prompt_number": 8
    },
    {
     "cell_type": "markdown",
     "metadata": {},
     "source": [
      "## Rate Comparison"
     ]
    },
    {
     "cell_type": "code",
     "collapsed": false,
     "input": [
      "th.rate_stats( 'amazon', 'no_amazon', conf = 95, rate = 'donations/impressions')"
     ],
     "language": "python",
     "metadata": {},
     "outputs": [
      {
       "html": [
        "<div style=\"max-height:1000px;max-width:1500px;overflow:auto;\">\n",
        "<table border=\"1\" class=\"dataframe\">\n",
        "  <thead>\n",
        "    <tr style=\"text-align: right;\">\n",
        "      <th></th>\n",
        "      <th>P(Winner)</th>\n",
        "      <th>Winners Lift</th>\n",
        "      <th>CI</th>\n",
        "    </tr>\n",
        "  </thead>\n",
        "  <tbody>\n",
        "    <tr>\n",
        "      <th>amazon</th>\n",
        "      <td> 0.93152</td>\n",
        "      <td>   (0.00%, 0.00%)</td>\n",
        "      <td> (0.001324, 0.001435)</td>\n",
        "    </tr>\n",
        "    <tr>\n",
        "      <th>no_amazon</th>\n",
        "      <td> 0.06848</td>\n",
        "      <td> (-1.38%, 10.74%)</td>\n",
        "      <td> (0.001266, 0.001374)</td>\n",
        "    </tr>\n",
        "  </tbody>\n",
        "</table>\n",
        "</div>"
       ],
       "metadata": {},
       "output_type": "pyout",
       "prompt_number": 23,
       "text": [
        "           P(Winner)      Winners Lift                    CI\n",
        "amazon       0.93152    (0.00%, 0.00%)  (0.001324, 0.001435)\n",
        "no_amazon    0.06848  (-1.38%, 10.74%)  (0.001266, 0.001374)"
       ]
      },
      {
       "metadata": {},
       "output_type": "display_data",
       "png": "[encoded data removed]",
       "text": [
        "<matplotlib.figure.Figure at 0x10bc816d0>"
       ]
      }
     ],
     "prompt_number": 23
    },
    {
     "cell_type": "markdown",
     "metadata": {},
     "source": [
      "## Amount Comparison"
     ]
    },
    {
     "cell_type": "code",
     "collapsed": false,
     "input": [
      "th.compare_donation_amounts('amazon', 'no_amazon' )"
     ],
     "language": "python",
     "metadata": {},
     "outputs": [
      {
       "output_type": "stream",
       "stream": "stdout",
       "text": [
        "Counter({3.0: 802, 5.0: 559, 10.0: 404, 20.0: 275, 30.0: 147, 50.0: 93, 100.0: 43, 15.0: 20, 1.0: 11, 25.0: 7, 2.0: 2, 18.0: 2, 6.0: 1, 40.0: 1, 9.0: 1, 12.0: 1, 1000.0: 1, 35.0: 1, 52.0: 1, 36.0: 1})\n"
       ]
      },
      {
       "metadata": {},
       "output_type": "display_data",
       "png": "[encoded data removed]",
       "text": [
        "<matplotlib.figure.Figure at 0x10bc81590>"
       ]
      }
     ],
     "prompt_number": 24
    },
    {
     "cell_type": "code",
     "collapsed": false,
     "input": [
      "values = {\n",
      "'amazon': 7,\n",
      "'no_amazon': 7\n",
      "}\n",
      "\n",
      "th.amount_stats( values, conf = 95, rate = 'donations/impressions')"
     ],
     "language": "python",
     "metadata": {},
     "outputs": [
      {
       "output_type": "stream",
       "stream": "stdout",
       "text": [
        "Values for banner  amazon : [3.0, 5.0, 10.0, 20.0, 30.0, 50.0, 100.0]\n",
        "Values for banner  no_amazon : [3.0, 5.0, 10.0, 20.0, 30.0, 50.0, 100.0]\n"
       ]
      },
      {
       "html": [
        "<div style=\"max-height:1000px;max-width:1500px;overflow:auto;\">\n",
        "<table border=\"1\" class=\"dataframe\">\n",
        "  <thead>\n",
        "    <tr style=\"text-align: right;\">\n",
        "      <th></th>\n",
        "      <th>P(Winner)</th>\n",
        "      <th>Winners Lift</th>\n",
        "      <th>CI</th>\n",
        "    </tr>\n",
        "  </thead>\n",
        "  <tbody>\n",
        "    <tr>\n",
        "      <th>amazon</th>\n",
        "      <td> 0.61022</td>\n",
        "      <td>   (0.00%, 0.00%)</td>\n",
        "      <td> (0.015352, 0.017609)</td>\n",
        "    </tr>\n",
        "    <tr>\n",
        "      <th>no_amazon</th>\n",
        "      <td> 0.38978</td>\n",
        "      <td> (-8.10%, 11.95%)</td>\n",
        "      <td> (0.015089, 0.017413)</td>\n",
        "    </tr>\n",
        "  </tbody>\n",
        "</table>\n",
        "</div>"
       ],
       "metadata": {},
       "output_type": "pyout",
       "prompt_number": 25,
       "text": [
        "           P(Winner)      Winners Lift                    CI\n",
        "amazon       0.61022    (0.00%, 0.00%)  (0.015352, 0.017609)\n",
        "no_amazon    0.38978  (-8.10%, 11.95%)  (0.015089, 0.017413)"
       ]
      },
      {
       "metadata": {},
       "output_type": "display_data",
       "png": "[encoded data removed]",
       "text": [
        "<matplotlib.figure.Figure at 0x10becef90>"
       ]
      }
     ],
     "prompt_number": 25
    },
    {
     "cell_type": "markdown",
     "metadata": {},
     "source": [
      "#Mobile"
     ]
    },
    {
     "cell_type": "code",
     "collapsed": false,
     "input": [
      "ma = 'B15_0304_enUS_mob_lg_amz_n'\n",
      "mb = 'B15_0304_enUS_mob_lg_amz_y'"
     ],
     "language": "python",
     "metadata": {},
     "outputs": [],
     "prompt_number": 36
    },
    {
     "cell_type": "code",
     "collapsed": false,
     "input": [
      "mth = Test(ma, mb, hive = True, start = '2015-03-03', stop  = '2015-03-12')"
     ],
     "language": "python",
     "metadata": {},
     "outputs": [],
     "prompt_number": 41
    },
    {
     "cell_type": "code",
     "collapsed": false,
     "input": [
      "mth.ecom()"
     ],
     "language": "python",
     "metadata": {},
     "outputs": [
      {
       "html": [
        "<div style=\"max-height:1000px;max-width:1500px;overflow:auto;\">\n",
        "<table border=\"1\" class=\"dataframe\">\n",
        "  <thead>\n",
        "    <tr style=\"text-align: right;\">\n",
        "      <th></th>\n",
        "      <th>donations</th>\n",
        "      <th>impressions</th>\n",
        "      <th>dons/i</th>\n",
        "      <th>amount</th>\n",
        "      <th>amount/i</th>\n",
        "      <th>clicks</th>\n",
        "      <th>clicks/i</th>\n",
        "      <th>dons/clicks</th>\n",
        "      <th>amount_ro</th>\n",
        "      <th>amount_ro/i</th>\n",
        "      <th>max</th>\n",
        "      <th>median</th>\n",
        "      <th>avg</th>\n",
        "      <th>avg_ro</th>\n",
        "    </tr>\n",
        "  </thead>\n",
        "  <tbody>\n",
        "    <tr>\n",
        "      <th>B15_0304_enUS_mob_lg_amz_n</th>\n",
        "      <td>  857</td>\n",
        "      <td> 733393</td>\n",
        "      <td> 0.001169</td>\n",
        "      <td> 8158.22</td>\n",
        "      <td> 0.011124</td>\n",
        "      <td> 1952</td>\n",
        "      <td> 0.002662</td>\n",
        "      <td> 0.439037</td>\n",
        "      <td> 7458.22</td>\n",
        "      <td> 0.010169</td>\n",
        "      <td> 500</td>\n",
        "      <td> 3</td>\n",
        "      <td> 9.519510</td>\n",
        "      <td> 8.733279</td>\n",
        "    </tr>\n",
        "    <tr>\n",
        "      <th>B15_0304_enUS_mob_lg_amz_y</th>\n",
        "      <td> 1024</td>\n",
        "      <td> 733426</td>\n",
        "      <td> 0.001396</td>\n",
        "      <td> 8905.00</td>\n",
        "      <td> 0.012142</td>\n",
        "      <td> 2132</td>\n",
        "      <td> 0.002907</td>\n",
        "      <td> 0.480300</td>\n",
        "      <td> 8205.00</td>\n",
        "      <td> 0.011187</td>\n",
        "      <td> 100</td>\n",
        "      <td> 3</td>\n",
        "      <td> 8.696289</td>\n",
        "      <td> 8.067847</td>\n",
        "    </tr>\n",
        "  </tbody>\n",
        "</table>\n",
        "</div>"
       ],
       "metadata": {},
       "output_type": "pyout",
       "prompt_number": 42,
       "text": [
        "                            donations  impressions    dons/i   amount  \\\n",
        "B15_0304_enUS_mob_lg_amz_n        857       733393  0.001169  8158.22   \n",
        "B15_0304_enUS_mob_lg_amz_y       1024       733426  0.001396  8905.00   \n",
        "\n",
        "                            amount/i  clicks  clicks/i  dons/clicks  \\\n",
        "B15_0304_enUS_mob_lg_amz_n  0.011124    1952  0.002662     0.439037   \n",
        "B15_0304_enUS_mob_lg_amz_y  0.012142    2132  0.002907     0.480300   \n",
        "\n",
        "                            amount_ro  amount_ro/i  max  median       avg  \\\n",
        "B15_0304_enUS_mob_lg_amz_n    7458.22     0.010169  500       3  9.519510   \n",
        "B15_0304_enUS_mob_lg_amz_y    8205.00     0.011187  100       3  8.696289   \n",
        "\n",
        "                              avg_ro  \n",
        "B15_0304_enUS_mob_lg_amz_n  8.733279  \n",
        "B15_0304_enUS_mob_lg_amz_y  8.067847  "
       ]
      }
     ],
     "prompt_number": 42
    },
    {
     "cell_type": "code",
     "collapsed": false,
     "input": [
      "mth.get_payment_method_details()"
     ],
     "language": "python",
     "metadata": {},
     "outputs": [
      {
       "html": [
        "<div style=\"max-height:1000px;max-width:1500px;overflow:auto;\">\n",
        "<table border=\"1\" class=\"dataframe\">\n",
        "  <thead>\n",
        "    <tr style=\"text-align: right;\">\n",
        "      <th></th>\n",
        "      <th></th>\n",
        "      <th>donations</th>\n",
        "      <th>clicks</th>\n",
        "      <th>conversion_rate</th>\n",
        "      <th>percent clicked on</th>\n",
        "      <th>percent donated on</th>\n",
        "      <th>total_amount</th>\n",
        "      <th>ave_amount_ro</th>\n",
        "    </tr>\n",
        "  </thead>\n",
        "  <tbody>\n",
        "    <tr>\n",
        "      <th rowspan=\"2\" valign=\"top\">B15_0304_enUS_mob_lg_amz_n</th>\n",
        "      <th>cc</th>\n",
        "      <td> 235</td>\n",
        "      <td>  807</td>\n",
        "      <td> 29.120198</td>\n",
        "      <td> 41.342213</td>\n",
        "      <td> 27.421237</td>\n",
        "      <td> 3068.00</td>\n",
        "      <td> 10.206897</td>\n",
        "    </tr>\n",
        "    <tr>\n",
        "      <th>paypal</th>\n",
        "      <td> 622</td>\n",
        "      <td> 1145</td>\n",
        "      <td> 54.323144</td>\n",
        "      <td> 58.657787</td>\n",
        "      <td> 72.578763</td>\n",
        "      <td> 5090.22</td>\n",
        "      <td>  8.183633</td>\n",
        "    </tr>\n",
        "    <tr>\n",
        "      <th rowspan=\"3\" valign=\"top\">B15_0304_enUS_mob_lg_amz_y</th>\n",
        "      <th>amazon</th>\n",
        "      <td> 285</td>\n",
        "      <td>  457</td>\n",
        "      <td> 62.363239</td>\n",
        "      <td> 21.435272</td>\n",
        "      <td> 27.832031</td>\n",
        "      <td> 2467.00</td>\n",
        "      <td>  7.355872</td>\n",
        "    </tr>\n",
        "    <tr>\n",
        "      <th>cc</th>\n",
        "      <td> 203</td>\n",
        "      <td>  661</td>\n",
        "      <td> 30.711044</td>\n",
        "      <td> 31.003752</td>\n",
        "      <td> 19.824219</td>\n",
        "      <td> 2250.00</td>\n",
        "      <td> 10.643564</td>\n",
        "    </tr>\n",
        "    <tr>\n",
        "      <th>paypal</th>\n",
        "      <td> 536</td>\n",
        "      <td> 1014</td>\n",
        "      <td> 52.859961</td>\n",
        "      <td> 47.560976</td>\n",
        "      <td> 52.343750</td>\n",
        "      <td> 4188.00</td>\n",
        "      <td>  7.468165</td>\n",
        "    </tr>\n",
        "  </tbody>\n",
        "</table>\n",
        "</div>"
       ],
       "metadata": {},
       "output_type": "pyout",
       "prompt_number": 50,
       "text": [
        "                                   donations  clicks  conversion_rate  \\\n",
        "B15_0304_enUS_mob_lg_amz_n cc            235     807        29.120198   \n",
        "                           paypal        622    1145        54.323144   \n",
        "B15_0304_enUS_mob_lg_amz_y amazon        285     457        62.363239   \n",
        "                           cc            203     661        30.711044   \n",
        "                           paypal        536    1014        52.859961   \n",
        "\n",
        "                                   percent clicked on  percent donated on  \\\n",
        "B15_0304_enUS_mob_lg_amz_n cc               41.342213           27.421237   \n",
        "                           paypal           58.657787           72.578763   \n",
        "B15_0304_enUS_mob_lg_amz_y amazon           21.435272           27.832031   \n",
        "                           cc               31.003752           19.824219   \n",
        "                           paypal           47.560976           52.343750   \n",
        "\n",
        "                                   total_amount  ave_amount_ro  \n",
        "B15_0304_enUS_mob_lg_amz_n cc           3068.00      10.206897  \n",
        "                           paypal       5090.22       8.183633  \n",
        "B15_0304_enUS_mob_lg_amz_y amazon       2467.00       7.355872  \n",
        "                           cc           2250.00      10.643564  \n",
        "                           paypal       4188.00       7.468165  "
       ]
      }
     ],
     "prompt_number": 50
    },
    {
     "cell_type": "markdown",
     "metadata": {},
     "source": [
      "##Rate Comparison"
     ]
    },
    {
     "cell_type": "code",
     "collapsed": false,
     "input": [
      "mth.rate_stats( conf = 95, rate = 'donations/impressions')"
     ],
     "language": "python",
     "metadata": {},
     "outputs": [
      {
       "html": [
        "<div style=\"max-height:1000px;max-width:1500px;overflow:auto;\">\n",
        "<table border=\"1\" class=\"dataframe\">\n",
        "  <thead>\n",
        "    <tr style=\"text-align: right;\">\n",
        "      <th></th>\n",
        "      <th>P(Winner)</th>\n",
        "      <th>Winners Lift</th>\n",
        "      <th>CI</th>\n",
        "    </tr>\n",
        "  </thead>\n",
        "  <tbody>\n",
        "    <tr>\n",
        "      <th>B15_0304_enUS_mob_lg_amz_y</th>\n",
        "      <td> 0.99988</td>\n",
        "      <td>  (0.00%, 0.00%)</td>\n",
        "      <td> (0.001314, 0.001484)</td>\n",
        "    </tr>\n",
        "    <tr>\n",
        "      <th>B15_0304_enUS_mob_lg_amz_n</th>\n",
        "      <td> 0.00012</td>\n",
        "      <td> (9.18%, 30.79%)</td>\n",
        "      <td> (0.001093, 0.001249)</td>\n",
        "    </tr>\n",
        "  </tbody>\n",
        "</table>\n",
        "</div>"
       ],
       "metadata": {},
       "output_type": "pyout",
       "prompt_number": 43,
       "text": [
        "                            P(Winner)     Winners Lift                    CI\n",
        "B15_0304_enUS_mob_lg_amz_y    0.99988   (0.00%, 0.00%)  (0.001314, 0.001484)\n",
        "B15_0304_enUS_mob_lg_amz_n    0.00012  (9.18%, 30.79%)  (0.001093, 0.001249)"
       ]
      },
      {
       "metadata": {},
       "output_type": "display_data",
       "png": "[encoded data removed]",
       "text": [
        "<matplotlib.figure.Figure at 0x105557210>"
       ]
      }
     ],
     "prompt_number": 43
    },
    {
     "cell_type": "markdown",
     "metadata": {},
     "source": [
      "## Amount Comparison"
     ]
    },
    {
     "cell_type": "code",
     "collapsed": false,
     "input": [
      "mth.compare_donation_amounts( mb, ma)"
     ],
     "language": "python",
     "metadata": {},
     "outputs": [
      {
       "output_type": "stream",
       "stream": "stdout",
       "text": [
        "Counter({3.0: 636, 15.0: 216, 20.0: 87, 5.0: 25, 10.0: 25, 50.0: 18, 1.0: 7, 100.0: 7, 2.0: 1, 8.0: 1, 25.0: 1})\n"
       ]
      },
      {
       "metadata": {},
       "output_type": "display_data",
       "png": "[encoded data removed]",
       "text": [
        "<matplotlib.figure.Figure at 0x10d1a0bd0>"
       ]
      }
     ],
     "prompt_number": 46
    },
    {
     "cell_type": "code",
     "collapsed": false,
     "input": [
      "values = {\n",
      "ma: 8,\n",
      "mb: 8\n",
      "}\n",
      "\n",
      "th.amount_stats( values, conf = 95, rate = 'donations/impressions')"
     ],
     "language": "python",
     "metadata": {},
     "outputs": [
      {
       "output_type": "stream",
       "stream": "stdout",
       "text": [
        "Values for banner  B15_0304_enUS_mob_lg_amz_y : [3.0, 15.0, 20.0, 10.0, 5.0, 50.0, 100.0, 1.0]\n",
        "Values for banner  B15_0304_enUS_mob_lg_amz_n : [3.0, 15.0, 20.0, 50.0, 10.0, 5.0, 2.0, 100.0]\n"
       ]
      },
      {
       "html": [
        "<div style=\"max-height:1000px;max-width:1500px;overflow:auto;\">\n",
        "<table border=\"1\" class=\"dataframe\">\n",
        "  <thead>\n",
        "    <tr style=\"text-align: right;\">\n",
        "      <th></th>\n",
        "      <th>P(Winner)</th>\n",
        "      <th>Winners Lift</th>\n",
        "      <th>CI</th>\n",
        "    </tr>\n",
        "  </thead>\n",
        "  <tbody>\n",
        "    <tr>\n",
        "      <th>B15_0304_enUS_mob_lg_amz_y</th>\n",
        "      <td> 0.98216</td>\n",
        "      <td>  (0.00%, 0.00%)</td>\n",
        "      <td> (0.011187, 0.013683)</td>\n",
        "    </tr>\n",
        "    <tr>\n",
        "      <th>B15_0304_enUS_mob_lg_amz_n</th>\n",
        "      <td> 0.01784</td>\n",
        "      <td> (1.07%, 34.59%)</td>\n",
        "      <td> (0.009564, 0.011746)</td>\n",
        "    </tr>\n",
        "  </tbody>\n",
        "</table>\n",
        "</div>"
       ],
       "metadata": {},
       "output_type": "pyout",
       "prompt_number": 53,
       "text": [
        "                            P(Winner)     Winners Lift                    CI\n",
        "B15_0304_enUS_mob_lg_amz_y    0.98216   (0.00%, 0.00%)  (0.011187, 0.013683)\n",
        "B15_0304_enUS_mob_lg_amz_n    0.01784  (1.07%, 34.59%)  (0.009564, 0.011746)"
       ]
      },
      {
       "metadata": {},
       "output_type": "display_data",
       "png": "[encoded data removed]",
       "text": [
        "<matplotlib.figure.Figure at 0x10bee8b10>"
       ]
      }
     ],
     "prompt_number": 53
    },
    {
     "cell_type": "code",
     "collapsed": false,
     "input": [],
     "language": "python",
     "metadata": {},
     "outputs": []
    }
   ],
   "metadata": {}
  }
 ]
}