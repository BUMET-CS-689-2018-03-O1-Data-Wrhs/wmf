{
 "metadata": {
  "name": "",
  "signature": "sha256:15e8bb0a39047e0503574acbe552127f23ae618c32dcd45ee9ac88e5b10f375e"
 },
 "nbformat": 3,
 "nbformat_minor": 0,
 "worksheets": [
  {
   "cells": [
    {
     "cell_type": "code",
     "collapsed": false,
     "input": [
      "\n",
      "%matplotlib inline\n",
      "%load_ext autoreload\n",
      "%autoreload 2\n",
      "import pandas as pd\n",
      "pd.options.display.mpl_style = 'default'\n",
      "\n",
      "import inspect, os\n",
      "currentdir = os.path.dirname(os.path.abspath(inspect.getfile(inspect.currentframe())))\n",
      "parentdir = os.path.dirname(currentdir)\n",
      "os.sys.path.insert(0,parentdir) \n",
      "from src.dashboard_helpers import Test, custom_amount_stats\n",
      "from src.data_retrieval import *\n",
      "\n"
     ],
     "language": "python",
     "metadata": {},
     "outputs": [],
     "prompt_number": ""
    },
    {
     "cell_type": "code",
     "collapsed": false,
     "input": [
      "t = Test(\"B14_1027_enUS_ipd_hl_ls\", \"B14_1027_enUS_ipd_hl_mr\", start = '2014-10-25')"
     ],
     "language": "python",
     "metadata": {},
     "outputs": [],
     "prompt_number": ""
    },
    {
     "cell_type": "code",
     "collapsed": false,
     "input": [
      "t.ecom()"
     ],
     "language": "python",
     "metadata": {},
     "outputs": [],
     "prompt_number": ""
    },
    {
     "cell_type": "code",
     "collapsed": false,
     "input": [
      "t.get_payment_method_details()"
     ],
     "language": "python",
     "metadata": {},
     "outputs": [],
     "prompt_number": ""
    },
    {
     "cell_type": "code",
     "collapsed": false,
     "input": [
      "t.plot_impressions( \"B14_1027_enUS_ipd_hl_ls\", \"B14_1027_enUS_ipd_hl_mr\", smooth = 30)"
     ],
     "language": "python",
     "metadata": {},
     "outputs": [],
     "prompt_number": ""
    },
    {
     "cell_type": "markdown",
     "metadata": {},
     "source": [
      "Looks like impressions really start to diverge after the 3rd day. Its ls that seems to be lagging in impressions. "
     ]
    },
    {
     "cell_type": "code",
     "collapsed": false,
     "input": [
      "t.rate_stats( \"B14_1027_enUS_ipd_hl_ls\", \"B14_1027_enUS_ipd_hl_mr\", conf = 95, rate = 'donations/clicks')"
     ],
     "language": "python",
     "metadata": {},
     "outputs": [],
     "prompt_number": ""
    },
    {
     "cell_type": "markdown",
     "metadata": {},
     "source": [
      "These banners had the same landing page, so it seems a little fishy that one gives more donations/clicks. Maybe if the banner is more persuasive, it also firms the resolve to go through the payment process. It would be cool to see if higher clicks/impression conincide with higher donations/clicks in general. "
     ]
    },
    {
     "cell_type": "code",
     "collapsed": false,
     "input": [
      "t.rate_stats( \"B14_1027_enUS_ipd_hl_ls\", \"B14_1027_enUS_ipd_hl_mr\", conf = 95, rate = 'donations/impressions')"
     ],
     "language": "python",
     "metadata": {},
     "outputs": [],
     "prompt_number": ""
    },
    {
     "cell_type": "markdown",
     "metadata": {},
     "source": [
      "I appears as if ls is the clear winner. But what if the ls impression numbers are artificially low (we can see them lagging above). Such an error could account for the difference (getting the unsampled numbers from hive would take 36 hours, and the test is too old to look in my record_impresion table )"
     ]
    },
    {
     "cell_type": "code",
     "collapsed": false,
     "input": [
      "t.rate_stats( \"B14_1027_enUS_ipd_hl_ls\", \"B14_1027_enUS_ipd_hl_mr\", conf = 95, rate = 'clicks/impressions')"
     ],
     "language": "python",
     "metadata": {},
     "outputs": [],
     "prompt_number": ""
    },
    {
     "cell_type": "markdown",
     "metadata": {},
     "source": [
      "Same comment as above applies here"
     ]
    },
    {
     "cell_type": "code",
     "collapsed": false,
     "input": [
      "t.compare_donation_amounts(\"B14_1027_enUS_ipd_hl_ls\", \"B14_1027_enUS_ipd_hl_mr\")"
     ],
     "language": "python",
     "metadata": {},
     "outputs": [],
     "prompt_number": ""
    },
    {
     "cell_type": "markdown",
     "metadata": {},
     "source": [
      "Strange difference in distributions. Also, watch out for outliers (use clean_donations which have outliers removed)"
     ]
    },
    {
     "cell_type": "code",
     "collapsed": false,
     "input": [
      "t.amount_stats( \"B14_1027_enUS_ipd_hl_ls\", \"B14_1027_enUS_ipd_hl_mr\", conf = 90, rate = 'clean_donations/impressions')"
     ],
     "language": "python",
     "metadata": {},
     "outputs": [],
     "prompt_number": ""
    },
    {
     "cell_type": "markdown",
     "metadata": {},
     "source": [
      "We can say with confidence that there is a slight difference per donation amount per impression."
     ]
    },
    {
     "cell_type": "code",
     "collapsed": false,
     "input": [
      "t.amount_stats( \"B14_1027_enUS_ipd_hl_ls\", \"B14_1027_enUS_ipd_hl_mr\", conf = 90, rate = 'clean_donations/clicks')"
     ],
     "language": "python",
     "metadata": {},
     "outputs": [],
     "prompt_number": ""
    },
    {
     "cell_type": "markdown",
     "metadata": {},
     "source": [
      "We can't tell what is going on in terms of donations/clicks, not enough data. There could be big wins in terms of dollars per click!"
     ]
    },
    {
     "cell_type": "code",
     "collapsed": false,
     "input": [],
     "language": "python",
     "metadata": {},
     "outputs": []
    }
   ],
   "metadata": {}
  }
 ]
}