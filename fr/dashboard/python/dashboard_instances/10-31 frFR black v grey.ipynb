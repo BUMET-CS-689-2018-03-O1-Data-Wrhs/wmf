{
 "metadata": {
  "name": "",
  "signature": "sha256:dbe86cefaf695fbcbf554453da8605e2f22cefdc9946773264caf849569c76db"
 },
 "nbformat": 3,
 "nbformat_minor": 0,
 "worksheets": [
  {
   "cells": [
    {
     "cell_type": "code",
     "collapsed": false,
     "input": [
      "%matplotlib inline\n",
      "%load_ext autoreload\n",
      "%autoreload 2\n",
      "import pandas as pd\n",
      "pd.options.display.mpl_style = 'default'\n",
      "\n",
      "import inspect, os\n",
      "currentdir = os.path.dirname(os.path.abspath(inspect.getfile(inspect.currentframe())))\n",
      "parentdir = os.path.dirname(currentdir)\n",
      "os.sys.path.insert(0,parentdir) \n",
      "from src.dashboard_helpers import Test\n",
      "from src.data_retrieval import *\n"
     ],
     "language": "python",
     "metadata": {},
     "outputs": [],
     "prompt_number": ""
    },
    {
     "cell_type": "code",
     "collapsed": false,
     "input": [
      "t = Test(\"B14_1031_frFR_dsk_ful_bl\", \"B14_1031_frFR_dsk_ful_gr\")"
     ],
     "language": "python",
     "metadata": {},
     "outputs": [],
     "prompt_number": ""
    },
    {
     "cell_type": "code",
     "collapsed": false,
     "input": [
      "t.ecom()"
     ],
     "language": "python",
     "metadata": {},
     "outputs": [],
     "prompt_number": ""
    },
    {
     "cell_type": "code",
     "collapsed": false,
     "input": [
      "t.get_payment_method_details()"
     ],
     "language": "python",
     "metadata": {},
     "outputs": [],
     "prompt_number": ""
    },
    {
     "cell_type": "code",
     "collapsed": false,
     "input": [
      "t.rate_stats( \"B14_1031_frFR_dsk_ful_bl\", \"B14_1031_frFR_dsk_ful_gr\")"
     ],
     "language": "python",
     "metadata": {},
     "outputs": [],
     "prompt_number": ""
    },
    {
     "cell_type": "code",
     "collapsed": false,
     "input": [
      "t.amount_stats(\"B14_1031_frFR_dsk_ful_bl\", \"B14_1031_frFR_dsk_ful_gr\", test = 'donations/clicks')"
     ],
     "language": "python",
     "metadata": {},
     "outputs": [],
     "prompt_number": ""
    },
    {
     "cell_type": "code",
     "collapsed": false,
     "input": [
      "t.plot_impressions(   smooth = 20)"
     ],
     "language": "python",
     "metadata": {},
     "outputs": [],
     "prompt_number": ""
    },
    {
     "cell_type": "code",
     "collapsed": false,
     "input": [
      "t.copare_donations_amounts(\"B14_1031_frFR_dsk_ful_bl\", \"B14_1031_frFR_dsk_ful_gr\" )"
     ],
     "language": "python",
     "metadata": {},
     "outputs": [],
     "prompt_number": ""
    },
    {
     "cell_type": "code",
     "collapsed": false,
     "input": [
      "t.plot_utm_key(max_key = 5, normalize = True)"
     ],
     "language": "python",
     "metadata": {},
     "outputs": [],
     "prompt_number": ""
    },
    {
     "cell_type": "markdown",
     "metadata": {},
     "source": [
      "There was a bug in the banner code, so utm key is \"always\" 0."
     ]
    },
    {
     "cell_type": "code",
     "collapsed": false,
     "input": [
      "t.plot_donations_over_time(smooth = 4, amount = False)"
     ],
     "language": "python",
     "metadata": {},
     "outputs": [],
     "prompt_number": ""
    },
    {
     "cell_type": "markdown",
     "metadata": {},
     "source": [
      "We can see that the time of day changes the rate of donations per impression"
     ]
    },
    {
     "cell_type": "code",
     "collapsed": false,
     "input": [],
     "language": "python",
     "metadata": {},
     "outputs": []
    }
   ],
   "metadata": {}
  }
 ]
}