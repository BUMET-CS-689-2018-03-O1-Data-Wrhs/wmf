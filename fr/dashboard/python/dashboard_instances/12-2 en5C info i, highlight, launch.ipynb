{
 "metadata": {
  "name": "",
  "signature": "sha256:3fd6181d571eeebfa238eac6c4748c216dfb16ff758e793b4a94e767059d674d"
 },
 "nbformat": 3,
 "nbformat_minor": 0,
 "worksheets": [
  {
   "cells": [
    {
     "cell_type": "code",
     "collapsed": false,
     "input": [
      "\n",
      "%matplotlib inline\n",
      "%load_ext autoreload\n",
      "%autoreload 2\n",
      "import pandas as pd\n",
      "pd.options.display.mpl_style = 'default'\n",
      "\n",
      "import inspect, os\n",
      "currentdir = os.path.dirname(os.path.abspath(inspect.getfile(inspect.currentframe())))\n",
      "parentdir = os.path.dirname(currentdir)\n",
      "os.sys.path.insert(0,parentdir) \n",
      "from src.dashboard_helpers import Test, custom_amount_stats\n",
      "from src.data_retrieval import *\n",
      "\n"
     ],
     "language": "python",
     "metadata": {},
     "outputs": [],
     "prompt_number": ""
    },
    {
     "cell_type": "code",
     "collapsed": false,
     "input": [
      "a = 'B14_120223_5C_lg_by'\n",
      "b = 'B14_120223_5C_lg_hl'\n",
      "c = 'B14_120223_5C_lg_ii'\n",
      "d = 'B14_120223_5C_lg_lh'\n",
      "\n",
      "\n",
      "\n",
      "t = Test(a, b, c, d, start = '2014-12-02 19:07', stop = '2014-12-03 01:05')"
     ],
     "language": "python",
     "metadata": {},
     "outputs": [],
     "prompt_number": ""
    },
    {
     "cell_type": "code",
     "collapsed": false,
     "input": [
      "t_hive = Test(a, b, c, d, hive = True, start = '2014-12-02 19:07', stop = '2014-12-03 01:05')"
     ],
     "language": "python",
     "metadata": {},
     "outputs": [],
     "prompt_number": ""
    },
    {
     "cell_type": "code",
     "collapsed": false,
     "input": [
      "t.ecom()"
     ],
     "language": "python",
     "metadata": {},
     "outputs": [],
     "prompt_number": ""
    },
    {
     "cell_type": "code",
     "collapsed": false,
     "input": [
      "t_hive.ecom()"
     ],
     "language": "python",
     "metadata": {},
     "outputs": [],
     "prompt_number": ""
    },
    {
     "cell_type": "code",
     "collapsed": false,
     "input": [
      "t_hive.get_traffic_stats(a, b, c, d)"
     ],
     "language": "python",
     "metadata": {},
     "outputs": [],
     "prompt_number": ""
    },
    {
     "cell_type": "code",
     "collapsed": false,
     "input": [
      "t.plot_impressions( smooth = 1, stop = '2014-12-03 01:05')"
     ],
     "language": "python",
     "metadata": {},
     "outputs": [],
     "prompt_number": ""
    },
    {
     "cell_type": "code",
     "collapsed": false,
     "input": [
      "t_hive.plot_impressions(a, b, c, d, smooth = 1)"
     ],
     "language": "python",
     "metadata": {},
     "outputs": [],
     "prompt_number": ""
    },
    {
     "cell_type": "code",
     "collapsed": false,
     "input": [
      "t_hive.plot_show_hide(a, minutes = 5)"
     ],
     "language": "python",
     "metadata": {},
     "outputs": [],
     "prompt_number": ""
    },
    {
     "cell_type": "code",
     "collapsed": false,
     "input": [
      "t_hive.plot_utm_key( max_key=5)"
     ],
     "language": "python",
     "metadata": {},
     "outputs": [],
     "prompt_number": ""
    },
    {
     "cell_type": "code",
     "collapsed": false,
     "input": [
      "t.rate_stats(conf = 99)"
     ],
     "language": "python",
     "metadata": {},
     "outputs": [],
     "prompt_number": ""
    },
    {
     "cell_type": "code",
     "collapsed": false,
     "input": [
      "t_hive.rate_stats(a, b, conf = 99)"
     ],
     "language": "python",
     "metadata": {},
     "outputs": [],
     "prompt_number": ""
    },
    {
     "cell_type": "code",
     "collapsed": false,
     "input": [],
     "language": "python",
     "metadata": {},
     "outputs": []
    }
   ],
   "metadata": {}
  }
 ]
}