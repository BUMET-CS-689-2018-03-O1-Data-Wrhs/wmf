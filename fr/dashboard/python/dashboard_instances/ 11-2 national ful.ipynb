{
 "metadata": {
  "name": "",
  "signature": "sha256:5aeb385e1bb333987399fd887561ae52cc48ce302fd8501346a7fb652251f4e5"
 },
 "nbformat": 3,
 "nbformat_minor": 0,
 "worksheets": [
  {
   "cells": [
    {
     "cell_type": "code",
     "collapsed": false,
     "input": [
      "\n",
      "%matplotlib inline\n",
      "%load_ext autoreload\n",
      "%autoreload 2\n",
      "import pandas as pd\n",
      "pd.options.display.mpl_style = 'default'\n",
      "\n",
      "import inspect, os\n",
      "currentdir = os.path.dirname(os.path.abspath(inspect.getfile(inspect.currentframe())))\n",
      "parentdir = os.path.dirname(currentdir)\n",
      "os.sys.path.insert(0,parentdir) \n",
      "from src.dashboard_helpers import Test, custom_amount_stats\n",
      "from src.data_retrieval import *\n",
      "\n"
     ],
     "language": "python",
     "metadata": {},
     "outputs": [],
     "prompt_number": ""
    },
    {
     "cell_type": "code",
     "collapsed": false,
     "input": [
      "a ='B14_1028_frFR_dsk_ful_ctrl' \n",
      "b = 'B14_1028_frFR_dsk_ful_wydg'\n"
     ],
     "language": "python",
     "metadata": {},
     "outputs": [],
     "prompt_number": ""
    },
    {
     "cell_type": "code",
     "collapsed": false,
     "input": [
      "t_lutetium = Test(a, b, start = '2014-10-31 11:00:00', stop ='2014-10-31 19:00:00')"
     ],
     "language": "python",
     "metadata": {},
     "outputs": [],
     "prompt_number": ""
    },
    {
     "cell_type": "code",
     "collapsed": false,
     "input": [
      "t_hive = Test(a, b, hive = True, start = '2014-10-31 11:00:00', stop ='2014-10-31 19:00:00')"
     ],
     "language": "python",
     "metadata": {},
     "outputs": [],
     "prompt_number": ""
    },
    {
     "cell_type": "code",
     "collapsed": false,
     "input": [
      "t_lutetium.ecom()"
     ],
     "language": "python",
     "metadata": {},
     "outputs": [],
     "prompt_number": ""
    },
    {
     "cell_type": "code",
     "collapsed": false,
     "input": [
      "t_hive.ecom()"
     ],
     "language": "python",
     "metadata": {},
     "outputs": [],
     "prompt_number": ""
    },
    {
     "cell_type": "code",
     "collapsed": false,
     "input": [
      "t_hive.get_traffic_stats(a, b)"
     ],
     "language": "python",
     "metadata": {},
     "outputs": [],
     "prompt_number": ""
    },
    {
     "cell_type": "code",
     "collapsed": false,
     "input": [
      "t_hive.plot_impressions(smooth = 1)"
     ],
     "language": "python",
     "metadata": {},
     "outputs": [],
     "prompt_number": ""
    },
    {
     "cell_type": "markdown",
     "metadata": {},
     "source": [
      "The fact that impressions dip, is totally expected since the banners were all fullscreen banners set to show up once per client"
     ]
    },
    {
     "cell_type": "code",
     "collapsed": false,
     "input": [
      "t_lutetium.plot_impressions(smooth = 10)"
     ],
     "language": "python",
     "metadata": {},
     "outputs": [],
     "prompt_number": ""
    },
    {
     "cell_type": "markdown",
     "metadata": {},
     "source": [
      "Since hive data is unsampled, it looks much cleaner. There is no notivable dip over time."
     ]
    },
    {
     "cell_type": "code",
     "collapsed": false,
     "input": [
      " t_hive.plot_show_hide(a, minutes = 30)"
     ],
     "language": "python",
     "metadata": {},
     "outputs": [],
     "prompt_number": ""
    },
    {
     "cell_type": "markdown",
     "metadata": {},
     "source": [
      "Here I've plotted the breakdown of result and reason fields over time. Notice how the number of hidden banners with reason=seen-fullscreen grows over time."
     ]
    },
    {
     "cell_type": "code",
     "collapsed": false,
     "input": [
      "t_hive.rate_stats( a, b,  conf = 90, test = 'donations/impressions', plot = True)"
     ],
     "language": "python",
     "metadata": {},
     "outputs": [],
     "prompt_number": ""
    },
    {
     "cell_type": "code",
     "collapsed": false,
     "input": [
      "t_lutetium.rate_stats( a, b,  conf = 90, test = 'donations/impressions', plot = True)"
     ],
     "language": "python",
     "metadata": {},
     "outputs": [],
     "prompt_number": ""
    },
    {
     "cell_type": "code",
     "collapsed": false,
     "input": [],
     "language": "python",
     "metadata": {},
     "outputs": []
    }
   ],
   "metadata": {}
  }
 ]
}