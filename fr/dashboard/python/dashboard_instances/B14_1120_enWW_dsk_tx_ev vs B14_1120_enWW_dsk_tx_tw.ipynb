{
 "metadata": {
  "name": "",
  "signature": "sha256:5de7b390fcbd3dd3f45d447d5599a0e65ab952ce34d63ad6030757a0e6858f17"
 },
 "nbformat": 3,
 "nbformat_minor": 0,
 "worksheets": [
  {
   "cells": [
    {
     "cell_type": "code",
     "collapsed": false,
     "input": [
      "%matplotlib inline\n",
      "%load_ext autoreload\n",
      "%autoreload 2\n",
      "import pandas as pd\n",
      "pd.options.display.mpl_style = 'default'\n",
      "\n",
      "import inspect, os\n",
      "currentdir = os.path.dirname(os.path.abspath(inspect.getfile(inspect.currentframe())))\n",
      "parentdir = os.path.dirname(currentdir)\n",
      "os.sys.path.insert(0,parentdir) \n",
      "from src.dashboard_helpers import Test\n",
      "from src.data_retrieval import *\n",
      "\n",
      "\n",
      "\n"
     ],
     "language": "python",
     "metadata": {},
     "outputs": [],
     "prompt_number": ""
    },
    {
     "cell_type": "code",
     "collapsed": false,
     "input": [
      "a = \"B14_1120_enWW_dsk_tx_ev\"\n",
      "b = \"B14_1120_enWW_dsk_tx_tw\"\n",
      "t = Test(a, b, start ='2014-11-20 00:00', stop = '2014-11-25 15:00')"
     ],
     "language": "python",
     "metadata": {},
     "outputs": [],
     "prompt_number": ""
    },
    {
     "cell_type": "code",
     "collapsed": false,
     "input": [
      "t.combine([a,b], 'all')"
     ],
     "language": "python",
     "metadata": {},
     "outputs": [],
     "prompt_number": ""
    },
    {
     "cell_type": "code",
     "collapsed": false,
     "input": [
      "t.ecom()"
     ],
     "language": "python",
     "metadata": {},
     "outputs": [],
     "prompt_number": ""
    },
    {
     "cell_type": "code",
     "collapsed": false,
     "input": [
      "t.get_payment_method_details()"
     ],
     "language": "python",
     "metadata": {},
     "outputs": [],
     "prompt_number": ""
    },
    {
     "cell_type": "code",
     "collapsed": false,
     "input": [
      "t.rate_stats( a,b, conf = 99, test = 'donations/impressions', plot = True)"
     ],
     "language": "python",
     "metadata": {},
     "outputs": [],
     "prompt_number": ""
    },
    {
     "cell_type": "code",
     "collapsed": false,
     "input": [
      "t.rate_stats(a,b, conf = 99, test = 'clicks/impressions', plot = True)"
     ],
     "language": "python",
     "metadata": {},
     "outputs": [],
     "prompt_number": ""
    },
    {
     "cell_type": "code",
     "collapsed": false,
     "input": [
      "t.rate_stats( a,b , conf = 99, test = 'donations/clicks', plot = True)"
     ],
     "language": "python",
     "metadata": {},
     "outputs": [],
     "prompt_number": ""
    },
    {
     "cell_type": "markdown",
     "metadata": {},
     "source": [
      "Huh, no significant difference. Can we trust the results? I would be wary since it looks like something is wrong in our treatment assignemnt. Next steps could be to run the test again and swap which banner is in which bucket or run the same experiment much longer.  "
     ]
    },
    {
     "cell_type": "code",
     "collapsed": false,
     "input": [
      "t.plot_impressions( a,b, smooth = 2)"
     ],
     "language": "python",
     "metadata": {},
     "outputs": [],
     "prompt_number": ""
    },
    {
     "cell_type": "markdown",
     "metadata": {},
     "source": [
      "On weekends, traffic is lower!"
     ]
    },
    {
     "cell_type": "code",
     "collapsed": false,
     "input": [
      "t.copare_donations_amounts('B14_1021_frBE_gtw_gc', 'B14_1021_frBE_gtw_wp' )"
     ],
     "language": "python",
     "metadata": {},
     "outputs": [],
     "prompt_number": ""
    },
    {
     "cell_type": "code",
     "collapsed": false,
     "input": [
      "t.plot_utm_key('B14_1021_frBE_gtw_gc', 'B14_1021_frBE_gtw_wp', max_key = 5, normalize = True)"
     ],
     "language": "python",
     "metadata": {},
     "outputs": [],
     "prompt_number": ""
    },
    {
     "cell_type": "markdown",
     "metadata": {},
     "source": [
      "Wow! These distributions should be the same!\n"
     ]
    },
    {
     "cell_type": "code",
     "collapsed": false,
     "input": [
      "t.plot_donations_over_time('B14_1021_frBE_gtw_gc', 'B14_1021_frBE_gtw_wp', smooth = 100, amount = False)"
     ],
     "language": "python",
     "metadata": {},
     "outputs": [],
     "prompt_number": ""
    },
    {
     "cell_type": "markdown",
     "metadata": {},
     "source": [
      "Although on weekends, traffic is lower, but people are more willing to donate!"
     ]
    },
    {
     "cell_type": "code",
     "collapsed": false,
     "input": [
      "t.data['all']['donations'].tail(30)"
     ],
     "language": "python",
     "metadata": {},
     "outputs": [],
     "prompt_number": ""
    },
    {
     "cell_type": "code",
     "collapsed": false,
     "input": [
      "t.data['all']['impressions'].tail(10)"
     ],
     "language": "python",
     "metadata": {},
     "outputs": [],
     "prompt_number": ""
    },
    {
     "cell_type": "code",
     "collapsed": false,
     "input": [
      "i = t.data[a]['impressions']\n",
      "i.groupby([i.index.day,i.index.hour]).sum()"
     ],
     "language": "python",
     "metadata": {},
     "outputs": [],
     "prompt_number": ""
    },
    {
     "cell_type": "code",
     "collapsed": false,
     "input": [
      "params = {'stop_dt': datetime(2014, 11, 25, 15, 0), 'start_month': 11, 'start_year': 2014, 'stop_day': 25, 'start_ts': '20141120000000', 'stop': '2014-11-25 15:00:00', 'start_day': 20, 'stop_month': 11, 'start': '2014-11-20 00:00:00', 'stop_ts': '20141125150000', 'start_dt': datetime(2014, 11, 20, 0, 0), 'banner': 'B14_1120_enWW_dsk_tx_tw', 'stop_year': 2014}"
     ],
     "language": "python",
     "metadata": {},
     "outputs": [],
     "prompt_number": ""
    },
    {
     "cell_type": "code",
     "collapsed": false,
     "input": [
      "get_donations(params)"
     ],
     "language": "python",
     "metadata": {},
     "outputs": [],
     "prompt_number": ""
    },
    {
     "cell_type": "code",
     "collapsed": false,
     "input": [],
     "language": "python",
     "metadata": {},
     "outputs": []
    }
   ],
   "metadata": {}
  }
 ]
}