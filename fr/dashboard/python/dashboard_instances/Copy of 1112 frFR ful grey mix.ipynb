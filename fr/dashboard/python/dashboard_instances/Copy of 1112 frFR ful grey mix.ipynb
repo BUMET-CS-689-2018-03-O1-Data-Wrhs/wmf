{
 "metadata": {
  "name": "",
  "signature": "sha256:763ad620261c3386ab472fe0ec7323b0064f2f29a10c8640dec7054974c96aa8"
 },
 "nbformat": 3,
 "nbformat_minor": 0,
 "worksheets": [
  {
   "cells": [
    {
     "cell_type": "code",
     "collapsed": false,
     "input": [
      "\n",
      "%matplotlib inline\n",
      "%load_ext autoreload\n",
      "%autoreload 2\n",
      "import pandas as pd\n",
      "pd.options.display.mpl_style = 'default'\n",
      "\n",
      "import inspect, os\n",
      "currentdir = os.path.dirname(os.path.abspath(inspect.getfile(inspect.currentframe())))\n",
      "parentdir = os.path.dirname(currentdir)\n",
      "os.sys.path.insert(0,parentdir) \n",
      "from src.dashboard_helpers import Test, custom_amount_stats\n",
      "from src.data_retrieval import *\n",
      "\n"
     ],
     "language": "python",
     "metadata": {},
     "outputs": [],
     "prompt_number": ""
    },
    {
     "cell_type": "code",
     "collapsed": false,
     "input": [
      "a ='B14_1112_frFR_dsk_ful_dsn_cbold' \n",
      "b = 'B14_1112_frFR_dsk_ful_dsn_ccntl'\n"
     ],
     "language": "python",
     "metadata": {},
     "outputs": [],
     "prompt_number": ""
    },
    {
     "cell_type": "code",
     "collapsed": false,
     "input": [
      "t_lutetium = Test(a, b, start = '2014-11-11 09:00:00', stop ='2014-11-13 17:00:00')"
     ],
     "language": "python",
     "metadata": {},
     "outputs": [],
     "prompt_number": ""
    },
    {
     "cell_type": "markdown",
     "metadata": {},
     "source": [
      "This test object loaded banner impression data from the pgehres tables on lutetium"
     ]
    },
    {
     "cell_type": "code",
     "collapsed": false,
     "input": [
      "t_hive = Test(a, b, hive = True, start = '2014-11-11 09:00:00', stop ='2014-11-13 17:00:00')"
     ],
     "language": "python",
     "metadata": {},
     "outputs": [],
     "prompt_number": ""
    },
    {
     "cell_type": "markdown",
     "metadata": {},
     "source": [
      "This test object loaded impression data from my table in hive"
     ]
    },
    {
     "cell_type": "code",
     "collapsed": false,
     "input": [
      "t_lutetium.ecom()"
     ],
     "language": "python",
     "metadata": {},
     "outputs": [],
     "prompt_number": ""
    },
    {
     "cell_type": "code",
     "collapsed": false,
     "input": [
      "t_hive.ecom()"
     ],
     "language": "python",
     "metadata": {},
     "outputs": [],
     "prompt_number": ""
    },
    {
     "cell_type": "code",
     "collapsed": false,
     "input": [
      "t_hive.get_traffic_stats(a, b)"
     ],
     "language": "python",
     "metadata": {},
     "outputs": [],
     "prompt_number": ""
    },
    {
     "cell_type": "code",
     "collapsed": false,
     "input": [
      "t_hive.plot_impressions(smooth = 1)"
     ],
     "language": "python",
     "metadata": {},
     "outputs": [],
     "prompt_number": ""
    },
    {
     "cell_type": "markdown",
     "metadata": {},
     "source": [
      "The fact that impressions dip, is totally expected since the banners were all fullscreen banners set to show up once per client"
     ]
    },
    {
     "cell_type": "code",
     "collapsed": false,
     "input": [
      "t_lutetium.plot_impressions(smooth = 10)"
     ],
     "language": "python",
     "metadata": {},
     "outputs": [],
     "prompt_number": ""
    },
    {
     "cell_type": "markdown",
     "metadata": {},
     "source": [
      "Since hive data is unsampled, it looks much cleaner. There is no notivable dip over time."
     ]
    },
    {
     "cell_type": "code",
     "collapsed": false,
     "input": [
      " t_hive.plot_show_hide(a, minutes = 30)"
     ],
     "language": "python",
     "metadata": {},
     "outputs": [],
     "prompt_number": ""
    },
    {
     "cell_type": "markdown",
     "metadata": {},
     "source": [
      "Here I've plotted the breakdown of result and reason fields over time. Notice how the number of hidden banners with reason=seen-fullscreen grows over time."
     ]
    },
    {
     "cell_type": "code",
     "collapsed": false,
     "input": [
      "t_hive.rate_stats( a, b,  conf = 90, test = 'donations/impressions', plot = True)"
     ],
     "language": "python",
     "metadata": {},
     "outputs": [],
     "prompt_number": ""
    },
    {
     "cell_type": "code",
     "collapsed": false,
     "input": [
      "t_lutetium.rate_stats( a, b,  conf = 90, test = 'donations/impressions', plot = True)"
     ],
     "language": "python",
     "metadata": {},
     "outputs": [],
     "prompt_number": ""
    },
    {
     "cell_type": "code",
     "collapsed": false,
     "input": [],
     "language": "python",
     "metadata": {},
     "outputs": []
    }
   ],
   "metadata": {}
  }
 ]
}