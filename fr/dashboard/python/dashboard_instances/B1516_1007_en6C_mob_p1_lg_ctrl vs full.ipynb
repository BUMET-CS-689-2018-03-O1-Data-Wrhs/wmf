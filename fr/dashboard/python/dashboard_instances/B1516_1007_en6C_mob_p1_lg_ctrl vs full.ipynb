{
 "cells": [
  {
   "cell_type": "code",
   "execution_count": 2,
   "metadata": {
    "collapsed": false
   },
   "outputs": [
    {
     "name": "stderr",
     "output_type": "stream",
     "text": [
      "Vendor:  Continuum Analytics, Inc.\n",
      "Package: mkl\n",
      "Message: trial mode expires in 30 days\n"
     ]
    }
   ],
   "source": [
    "\n",
    "%matplotlib inline\n",
    "%load_ext autoreload\n",
    "%autoreload 2\n",
    "import pandas as pd\n",
    "pd.options.display.mpl_style = 'default'\n",
    "\n",
    "import inspect, os\n",
    "currentdir = os.path.dirname(os.path.abspath(inspect.getfile(inspect.currentframe())))\n",
    "parentdir = os.path.dirname(currentdir)\n",
    "os.sys.path.insert(0,parentdir) \n",
    "from src.dashboard_helpers import Test, custom_amount_stats\n",
    "from src.data_retrieval import *\n",
    "\n"
   ]
  },
  {
   "cell_type": "code",
   "execution_count": 3,
   "metadata": {
    "collapsed": false
   },
   "outputs": [],
   "source": [
    "a = 'B1516_1007_en6C_mob_p1_lg_ctrl'\n",
    "b = 'B1516_1007_en6C_mob_p1_lg_full'\n",
    "start = '2015-10-07 00'\n",
    "stop = '2015-10-08 00'\n",
    "\n",
    "t = Test(a, b, start = start, stop = stop)"
   ]
  },
  {
   "cell_type": "code",
   "execution_count": 4,
   "metadata": {
    "collapsed": true
   },
   "outputs": [],
   "source": [
    "t_hive = Test(a, b, start = start, stop = stop, hive = True,)"
   ]
  },
  {
   "cell_type": "code",
   "execution_count": 5,
   "metadata": {
    "collapsed": false
   },
   "outputs": [
    {
     "data": {
      "text/html": [
       "<div>\n",
       "<table border=\"1\" class=\"dataframe\">\n",
       "  <thead>\n",
       "    <tr style=\"text-align: right;\">\n",
       "      <th></th>\n",
       "      <th>B1516_1007_en6C_mob_p1_lg_ctrl</th>\n",
       "      <th>B1516_1007_en6C_mob_p1_lg_full</th>\n",
       "    </tr>\n",
       "  </thead>\n",
       "  <tbody>\n",
       "    <tr>\n",
       "      <th>donations</th>\n",
       "      <td>948</td>\n",
       "      <td>978</td>\n",
       "    </tr>\n",
       "    <tr>\n",
       "      <th>recurring donations</th>\n",
       "      <td>0</td>\n",
       "      <td>0</td>\n",
       "    </tr>\n",
       "    <tr>\n",
       "      <th>impressions</th>\n",
       "      <td>299700</td>\n",
       "      <td>278300</td>\n",
       "    </tr>\n",
       "    <tr>\n",
       "      <th>dons/i</th>\n",
       "      <td>0.00316</td>\n",
       "      <td>0.00351</td>\n",
       "    </tr>\n",
       "    <tr>\n",
       "      <th>amount</th>\n",
       "      <td>8047</td>\n",
       "      <td>9308</td>\n",
       "    </tr>\n",
       "    <tr>\n",
       "      <th>amount/i</th>\n",
       "      <td>0.02685</td>\n",
       "      <td>0.03345</td>\n",
       "    </tr>\n",
       "    <tr>\n",
       "      <th>clicks</th>\n",
       "      <td>1490</td>\n",
       "      <td>1645</td>\n",
       "    </tr>\n",
       "    <tr>\n",
       "      <th>clicks/i</th>\n",
       "      <td>0.00497</td>\n",
       "      <td>0.00591</td>\n",
       "    </tr>\n",
       "    <tr>\n",
       "      <th>dons/clicks</th>\n",
       "      <td>0.63624</td>\n",
       "      <td>0.59453</td>\n",
       "    </tr>\n",
       "    <tr>\n",
       "      <th>amount (no outliers)</th>\n",
       "      <td>7072</td>\n",
       "      <td>8308</td>\n",
       "    </tr>\n",
       "    <tr>\n",
       "      <th>amount/i (no outliers)</th>\n",
       "      <td>0.02360</td>\n",
       "      <td>0.02985</td>\n",
       "    </tr>\n",
       "    <tr>\n",
       "      <th>max</th>\n",
       "      <td>100</td>\n",
       "      <td>1000</td>\n",
       "    </tr>\n",
       "    <tr>\n",
       "      <th>median</th>\n",
       "      <td>3.04</td>\n",
       "      <td>3.04</td>\n",
       "    </tr>\n",
       "    <tr>\n",
       "      <th>avg</th>\n",
       "      <td>8.49</td>\n",
       "      <td>9.52</td>\n",
       "    </tr>\n",
       "    <tr>\n",
       "      <th>avg (no outliers)</th>\n",
       "      <td>7.55</td>\n",
       "      <td>8.50</td>\n",
       "    </tr>\n",
       "  </tbody>\n",
       "</table>\n",
       "</div>"
      ],
      "text/plain": [
       "                       B1516_1007_en6C_mob_p1_lg_ctrl  \\\n",
       "donations                                         948   \n",
       "recurring donations                                 0   \n",
       "impressions                                    299700   \n",
       "dons/i                                        0.00316   \n",
       "amount                                           8047   \n",
       "amount/i                                      0.02685   \n",
       "clicks                                           1490   \n",
       "clicks/i                                      0.00497   \n",
       "dons/clicks                                   0.63624   \n",
       "amount (no outliers)                             7072   \n",
       "amount/i (no outliers)                        0.02360   \n",
       "max                                               100   \n",
       "median                                           3.04   \n",
       "avg                                              8.49   \n",
       "avg (no outliers)                                7.55   \n",
       "\n",
       "                       B1516_1007_en6C_mob_p1_lg_full  \n",
       "donations                                         978  \n",
       "recurring donations                                 0  \n",
       "impressions                                    278300  \n",
       "dons/i                                        0.00351  \n",
       "amount                                           9308  \n",
       "amount/i                                      0.03345  \n",
       "clicks                                           1645  \n",
       "clicks/i                                      0.00591  \n",
       "dons/clicks                                   0.59453  \n",
       "amount (no outliers)                             8308  \n",
       "amount/i (no outliers)                        0.02985  \n",
       "max                                              1000  \n",
       "median                                           3.04  \n",
       "avg                                              9.52  \n",
       "avg (no outliers)                                8.50  "
      ]
     },
     "execution_count": 5,
     "metadata": {},
     "output_type": "execute_result"
    }
   ],
   "source": [
    "t.ecom()"
   ]
  },
  {
   "cell_type": "code",
   "execution_count": 6,
   "metadata": {
    "collapsed": false
   },
   "outputs": [
    {
     "data": {
      "text/html": [
       "<div>\n",
       "<table border=\"1\" class=\"dataframe\">\n",
       "  <thead>\n",
       "    <tr style=\"text-align: right;\">\n",
       "      <th></th>\n",
       "      <th>B1516_1007_en6C_mob_p1_lg_ctrl</th>\n",
       "      <th>B1516_1007_en6C_mob_p1_lg_full</th>\n",
       "    </tr>\n",
       "  </thead>\n",
       "  <tbody>\n",
       "    <tr>\n",
       "      <th>donations</th>\n",
       "      <td>948</td>\n",
       "      <td>978</td>\n",
       "    </tr>\n",
       "    <tr>\n",
       "      <th>recurring donations</th>\n",
       "      <td>0</td>\n",
       "      <td>0</td>\n",
       "    </tr>\n",
       "    <tr>\n",
       "      <th>impressions</th>\n",
       "      <td>312856</td>\n",
       "      <td>312183</td>\n",
       "    </tr>\n",
       "    <tr>\n",
       "      <th>dons/i</th>\n",
       "      <td>0.00303</td>\n",
       "      <td>0.00313</td>\n",
       "    </tr>\n",
       "    <tr>\n",
       "      <th>amount</th>\n",
       "      <td>8047</td>\n",
       "      <td>9308</td>\n",
       "    </tr>\n",
       "    <tr>\n",
       "      <th>amount/i</th>\n",
       "      <td>0.02572</td>\n",
       "      <td>0.02982</td>\n",
       "    </tr>\n",
       "    <tr>\n",
       "      <th>clicks</th>\n",
       "      <td>1490</td>\n",
       "      <td>1645</td>\n",
       "    </tr>\n",
       "    <tr>\n",
       "      <th>clicks/i</th>\n",
       "      <td>0.00476</td>\n",
       "      <td>0.00527</td>\n",
       "    </tr>\n",
       "    <tr>\n",
       "      <th>dons/clicks</th>\n",
       "      <td>0.63624</td>\n",
       "      <td>0.59453</td>\n",
       "    </tr>\n",
       "    <tr>\n",
       "      <th>amount (no outliers)</th>\n",
       "      <td>7072</td>\n",
       "      <td>8308</td>\n",
       "    </tr>\n",
       "    <tr>\n",
       "      <th>amount/i (no outliers)</th>\n",
       "      <td>0.02261</td>\n",
       "      <td>0.02661</td>\n",
       "    </tr>\n",
       "    <tr>\n",
       "      <th>max</th>\n",
       "      <td>100</td>\n",
       "      <td>1000</td>\n",
       "    </tr>\n",
       "    <tr>\n",
       "      <th>median</th>\n",
       "      <td>3.04</td>\n",
       "      <td>3.04</td>\n",
       "    </tr>\n",
       "    <tr>\n",
       "      <th>avg</th>\n",
       "      <td>8.49</td>\n",
       "      <td>9.52</td>\n",
       "    </tr>\n",
       "    <tr>\n",
       "      <th>avg (no outliers)</th>\n",
       "      <td>7.55</td>\n",
       "      <td>8.50</td>\n",
       "    </tr>\n",
       "  </tbody>\n",
       "</table>\n",
       "</div>"
      ],
      "text/plain": [
       "                       B1516_1007_en6C_mob_p1_lg_ctrl  \\\n",
       "donations                                         948   \n",
       "recurring donations                                 0   \n",
       "impressions                                    312856   \n",
       "dons/i                                        0.00303   \n",
       "amount                                           8047   \n",
       "amount/i                                      0.02572   \n",
       "clicks                                           1490   \n",
       "clicks/i                                      0.00476   \n",
       "dons/clicks                                   0.63624   \n",
       "amount (no outliers)                             7072   \n",
       "amount/i (no outliers)                        0.02261   \n",
       "max                                               100   \n",
       "median                                           3.04   \n",
       "avg                                              8.49   \n",
       "avg (no outliers)                                7.55   \n",
       "\n",
       "                       B1516_1007_en6C_mob_p1_lg_full  \n",
       "donations                                         978  \n",
       "recurring donations                                 0  \n",
       "impressions                                    312183  \n",
       "dons/i                                        0.00313  \n",
       "amount                                           9308  \n",
       "amount/i                                      0.02982  \n",
       "clicks                                           1645  \n",
       "clicks/i                                      0.00527  \n",
       "dons/clicks                                   0.59453  \n",
       "amount (no outliers)                             8308  \n",
       "amount/i (no outliers)                        0.02661  \n",
       "max                                              1000  \n",
       "median                                           3.04  \n",
       "avg                                              9.52  \n",
       "avg (no outliers)                                8.50  "
      ]
     },
     "execution_count": 6,
     "metadata": {},
     "output_type": "execute_result"
    }
   ],
   "source": [
    "t_hive.ecom()"
   ]
  },
  {
   "cell_type": "code",
   "execution_count": 7,
   "metadata": {
    "collapsed": false
   },
   "outputs": [
    {
     "data": {
      "text/html": [
       "<div>\n",
       "<table border=\"1\" class=\"dataframe\">\n",
       "  <thead>\n",
       "    <tr style=\"text-align: right;\">\n",
       "      <th></th>\n",
       "      <th>P(Winner)</th>\n",
       "      <th>Winners Lift</th>\n",
       "      <th>CI</th>\n",
       "    </tr>\n",
       "  </thead>\n",
       "  <tbody>\n",
       "    <tr>\n",
       "      <th>B1516_1007_en6C_mob_p1_lg_full</th>\n",
       "      <td>0.76858</td>\n",
       "      <td>(0.00%, 0.00%)</td>\n",
       "      <td>(0.002973, 0.003300)</td>\n",
       "    </tr>\n",
       "    <tr>\n",
       "      <th>B1516_1007_en6C_mob_p1_lg_ctrl</th>\n",
       "      <td>0.23142</td>\n",
       "      <td>(-4.03%, 11.39%)</td>\n",
       "      <td>(0.002873, 0.003198)</td>\n",
       "    </tr>\n",
       "  </tbody>\n",
       "</table>\n",
       "</div>"
      ],
      "text/plain": [
       "                                P(Winner)      Winners Lift  \\\n",
       "B1516_1007_en6C_mob_p1_lg_full    0.76858    (0.00%, 0.00%)   \n",
       "B1516_1007_en6C_mob_p1_lg_ctrl    0.23142  (-4.03%, 11.39%)   \n",
       "\n",
       "                                                  CI  \n",
       "B1516_1007_en6C_mob_p1_lg_full  (0.002973, 0.003300)  \n",
       "B1516_1007_en6C_mob_p1_lg_ctrl  (0.002873, 0.003198)  "
      ]
     },
     "execution_count": 7,
     "metadata": {},
     "output_type": "execute_result"
    },
    {
     "data": {
      "image/png": "[encoded data removed]",
      "text/plain": [
       "<matplotlib.figure.Figure at 0x113af3cc0>"
      ]
     },
     "metadata": {},
     "output_type": "display_data"
    }
   ],
   "source": [
    "t_hive.rate_stats( a, b, conf = 90, rate = 'donations/impressions')"
   ]
  }
 ],
 "metadata": {
  "kernelspec": {
   "display_name": "Python 3",
   "language": "python",
   "name": "python3"
  },
  "language_info": {
   "codemirror_mode": {
    "name": "ipython",
    "version": 3
   },
   "file_extension": ".py",
   "mimetype": "text/x-python",
   "name": "python",
   "nbconvert_exporter": "python",
   "pygments_lexer": "ipython3",
   "version": "3.4.3"
  }
 },
 "nbformat": 4,
 "nbformat_minor": 0
}
