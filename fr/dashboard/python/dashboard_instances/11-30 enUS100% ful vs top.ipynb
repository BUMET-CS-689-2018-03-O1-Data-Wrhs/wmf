{
 "metadata": {
  "name": "",
  "signature": "sha256:20d5c8138a1f196c08650a6c8d1a8872c8e6ed42b6b198485e24fbd7eb6cbc40"
 },
 "nbformat": 3,
 "nbformat_minor": 0,
 "worksheets": [
  {
   "cells": [
    {
     "cell_type": "code",
     "collapsed": false,
     "input": [
      "\n",
      "%matplotlib inline\n",
      "%load_ext autoreload\n",
      "%autoreload 2\n",
      "import pandas as pd\n",
      "pd.options.display.mpl_style = 'default'\n",
      "\n",
      "import inspect, os\n",
      "currentdir = os.path.dirname(os.path.abspath(inspect.getfile(inspect.currentframe())))\n",
      "parentdir = os.path.dirname(currentdir)\n",
      "os.sys.path.insert(0,parentdir) \n",
      "from src.dashboard_helpers import Test, custom_amount_stats\n",
      "from src.data_retrieval import *\n",
      "\n"
     ],
     "language": "python",
     "metadata": {},
     "outputs": [],
     "prompt_number": ""
    },
    {
     "cell_type": "code",
     "collapsed": false,
     "input": [
      "full = 'B14_1130_fl_fl_enUS'\n",
      "top = 'B14_1130_fl_tp_enUS'\n",
      "t = Test(top, full)"
     ],
     "language": "python",
     "metadata": {},
     "outputs": [],
     "prompt_number": ""
    },
    {
     "cell_type": "code",
     "collapsed": false,
     "input": [
      "t_hive = Test(top, full, hive = True, start = '2014-11-30')"
     ],
     "language": "python",
     "metadata": {},
     "outputs": [],
     "prompt_number": ""
    },
    {
     "cell_type": "code",
     "collapsed": false,
     "input": [
      "t.ecom()"
     ],
     "language": "python",
     "metadata": {},
     "outputs": [],
     "prompt_number": ""
    },
    {
     "cell_type": "code",
     "collapsed": false,
     "input": [
      "t_hive.ecom()"
     ],
     "language": "python",
     "metadata": {},
     "outputs": [],
     "prompt_number": ""
    },
    {
     "cell_type": "markdown",
     "metadata": {},
     "source": [
      "Hmm, either the patch has not been deployed or the impression numbers from pgeheres are still wrong. Also, why where the banners served differently? Could it be a bug with the banner?"
     ]
    },
    {
     "cell_type": "code",
     "collapsed": false,
     "input": [
      "t_hive.get_traffic_stats(top, full)"
     ],
     "language": "python",
     "metadata": {},
     "outputs": [],
     "prompt_number": ""
    },
    {
     "cell_type": "code",
     "collapsed": false,
     "input": [
      "t.plot_impressions(top, full, smooth = 1, stop = '2014-11-30 17:35')"
     ],
     "language": "python",
     "metadata": {},
     "outputs": [],
     "prompt_number": ""
    },
    {
     "cell_type": "code",
     "collapsed": false,
     "input": [
      "t_hive.plot_impressions(top, full, smooth = 1, stop = '2014-11-30 17:35')"
     ],
     "language": "python",
     "metadata": {},
     "outputs": [],
     "prompt_number": ""
    },
    {
     "cell_type": "code",
     "collapsed": false,
     "input": [
      "t_hive.plot_show_hide(top, stop = '2014-11-30 17:35')"
     ],
     "language": "python",
     "metadata": {},
     "outputs": [],
     "prompt_number": ""
    },
    {
     "cell_type": "code",
     "collapsed": false,
     "input": [
      "t_hive.plot_show_hide(full, stop = '2014-11-30 17:35')"
     ],
     "language": "python",
     "metadata": {},
     "outputs": [],
     "prompt_number": ""
    },
    {
     "cell_type": "markdown",
     "metadata": {},
     "source": [
      "Again there needs to the a result and reason url query paramter in RecordImpresion!! Something is wrong."
     ]
    },
    {
     "cell_type": "code",
     "collapsed": false,
     "input": [
      "t.plot_utm_key(top, full, max_key=5)"
     ],
     "language": "python",
     "metadata": {},
     "outputs": [],
     "prompt_number": ""
    },
    {
     "cell_type": "code",
     "collapsed": false,
     "input": [],
     "language": "python",
     "metadata": {},
     "outputs": []
    }
   ],
   "metadata": {}
  }
 ]
}