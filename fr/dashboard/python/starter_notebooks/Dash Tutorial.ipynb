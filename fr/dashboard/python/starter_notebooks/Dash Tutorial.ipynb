{
 "metadata": {
  "name": "",
  "signature": "sha256:1c94ce81838dd0eccec3704e0f3d9104d44497ad9b9147242deaa83ca4abb653"
 },
 "nbformat": 3,
 "nbformat_minor": 0,
 "worksheets": [
  {
   "cells": [
    {
     "cell_type": "markdown",
     "metadata": {},
     "source": [
      "##Imports\n",
      "To keep things clean, the code to support the notebook is located in seperate files. The cell below makes the functions defined in these files available from the notebook. This cell must be executed whenever the notebook is opened. "
     ]
    },
    {
     "cell_type": "code",
     "collapsed": false,
     "input": [
      "%matplotlib inline\n",
      "%load_ext autoreload\n",
      "%autoreload 2\n",
      "import pandas as pd\n",
      "pd.options.display.mpl_style = 'default'\n",
      "\n",
      "import inspect, os\n",
      "currentdir = os.path.dirname(os.path.abspath(inspect.getfile(inspect.currentframe())))\n",
      "parentdir = os.path.dirname(currentdir)\n",
      "os.sys.path.insert(0,parentdir) \n",
      "from src.dashboard_helpers import Test\n"
     ],
     "language": "python",
     "metadata": {},
     "outputs": [],
     "prompt_number": ""
    },
    {
     "cell_type": "markdown",
     "metadata": {},
     "source": [
      "## Defining a Test Object\n",
      "\n",
      "The Test object is the center piece of the dashboard. On initialization it retrieves all the data from the lutetium mysql databases about specified banners (hence this may take a few minutes). The constructor takes an arbitrary number of banner names as well as the test start and top times.\n",
      "\n",
      "Prototype: Test(B1, B2, ..., BN, start, stop) \n",
      "\n",
      "As an example, lets take a test from October 3 2014, where banners *B14_1003_enUS_dsk_rpt_1* and *B14_1003_enUS_dsk_rpt_2* where tested."
     ]
    },
    {
     "cell_type": "code",
     "collapsed": false,
     "input": [
      "t = Test(\"B14_1003_enUS_dsk_rpt_1\", \"B14_1003_enUS_dsk_rpt_2\", start = '2014-09-3 00:56',  stop ='2014-11-3 15:00')"
     ],
     "language": "python",
     "metadata": {},
     "outputs": [],
     "prompt_number": ""
    },
    {
     "cell_type": "markdown",
     "metadata": {},
     "source": [
      "t is now a test object that contains the data for the two banners. It also knows how to operate on this banner data for the purpose of analysis. You can invoke the analysis function f on Test object t through the syntax:\n",
      "\n",
      "t.f()\n",
      "\n",
      "What follows is a description of all the functions we can invoke on a test object.\n"
     ]
    },
    {
     "cell_type": "markdown",
     "metadata": {},
     "source": [
      "## Combining Banners\n",
      "This will make more sense when you see it in practice, but you might be interested in combining data from different banners into one new synthetic banner. Say you ran a test where people who saw banner B1 on their first impression, saw banner B3 on their next impressions. You might want to combine data from these two banners to do analysis on the aggregate data from B1 and B3.\n",
      "\n",
      "Prototype: t.combine([B1, B2 ..., BN], combination_name)\n",
      "\n",
      "The combine function takes a list of banners used in the initialization of the test object t and combines them under the new name combination_name.\n"
     ]
    },
    {
     "cell_type": "code",
     "collapsed": false,
     "input": [
      "t.combine(['B14_1003_enUS_dsk_rpt_1', 'B14_1003_enUS_dsk_rpt_2'], 'all')"
     ],
     "language": "python",
     "metadata": {},
     "outputs": [],
     "prompt_number": ""
    },
    {
     "cell_type": "markdown",
     "metadata": {},
     "source": [
      "##Ecom Replica"
     ]
    },
    {
     "cell_type": "markdown",
     "metadata": {},
     "source": [
      "The ecom function replicates some of the most useful features of the ecom script.\n",
      "\n",
      "Prototype: t.ecom(B1, B2, ..., BN)\n",
      "    \n",
      "It takes an arbitrary number of banner names specified either when the Test object was initialized or through calls to combine. \n"
     ]
    },
    {
     "cell_type": "code",
     "collapsed": false,
     "input": [
      "t.ecom('B14_1003_enUS_dsk_rpt_1', 'B14_1003_enUS_dsk_rpt_1')"
     ],
     "language": "python",
     "metadata": {},
     "outputs": [],
     "prompt_number": ""
    },
    {
     "cell_type": "markdown",
     "metadata": {},
     "source": [
      "When no banners are specified, it defaults to outputing information from all banners it knows about."
     ]
    },
    {
     "cell_type": "code",
     "collapsed": false,
     "input": [
      "t.ecom()"
     ],
     "language": "python",
     "metadata": {},
     "outputs": [],
     "prompt_number": ""
    },
    {
     "cell_type": "markdown",
     "metadata": {},
     "source": [
      "##Payment Method Details\n",
      "\n",
      "A banner usually gives several payment options for users. To see how many people clicked on each payment method and how many successful donations came from each payment method call:\n",
      "\n",
      "Prototype: t.get_payment_method_details(B1, B2, ..., BN)"
     ]
    },
    {
     "cell_type": "code",
     "collapsed": false,
     "input": [
      "t.get_payment_method_details('B14_1003_enUS_dsk_rpt_1')"
     ],
     "language": "python",
     "metadata": {},
     "outputs": [],
     "prompt_number": ""
    },
    {
     "cell_type": "markdown",
     "metadata": {},
     "source": [
      "Again, if no banners are specified, it outputs imformation about all known banners/combinations"
     ]
    },
    {
     "cell_type": "code",
     "collapsed": false,
     "input": [
      "t.get_payment_method_details()"
     ],
     "language": "python",
     "metadata": {},
     "outputs": [],
     "prompt_number": ""
    },
    {
     "cell_type": "markdown",
     "metadata": {},
     "source": [
      "## Plotting Impressions Over Time\n",
      "\n",
      "Prototype: t.plot_impressions(B1, B2, ..., BN, start = datetime, stop = datetime, smooth = integer)\n",
      "\n",
      "This function signature is a bit more complex than the ones we have seen above. The first set of arguments are a sequence of banner names of arbitrary length. Again, leaving out the banner names is the same as specifying all banners known to the Test object. Then there are three optional keyword parameters. The start and stop parameters take a datetime string of the form \"year-month-day hour:minute' or more specifically \"2014-10-03 15:13\". They limit the data to the specified times, which often makes the plot more interpretable. The smooth parameter specifies how many records are averaged at every point. \n",
      "\n",
      "Lets do an example:\n",
      "\n",
      "\n",
      "\n"
     ]
    },
    {
     "cell_type": "code",
     "collapsed": false,
     "input": [
      "t.plot_impressions()"
     ],
     "language": "python",
     "metadata": {},
     "outputs": [],
     "prompt_number": ""
    },
    {
     "cell_type": "markdown",
     "metadata": {},
     "source": [
      "Here we have tried to plot impressions for all banners and used the default paramters. It looks like there was a time of high activity at the beginning of our time line, so lets set a stop date."
     ]
    },
    {
     "cell_type": "code",
     "collapsed": false,
     "input": [
      "t.plot_impressions(stop = '2014-10-3 16:00')"
     ],
     "language": "python",
     "metadata": {},
     "outputs": [],
     "prompt_number": ""
    },
    {
     "cell_type": "markdown",
     "metadata": {},
     "source": [
      "Much better. Now Lets get a smoother plot and exclude the 'all' banner."
     ]
    },
    {
     "cell_type": "code",
     "collapsed": false,
     "input": [
      "t.plot_impressions('B14_1003_enUS_dsk_rpt_1', 'B14_1003_enUS_dsk_rpt_2', smooth = 7, stop = '2014-10-3 16:00')"
     ],
     "language": "python",
     "metadata": {},
     "outputs": [],
     "prompt_number": ""
    },
    {
     "cell_type": "markdown",
     "metadata": {},
     "source": [
      "## Which impression did people donate on ? \n",
      "\n",
      "The field \"utm_key\" refers to how many impressions people saw before donating.\n",
      "\n",
      "Prototype: t.plot_utm_key(B1, ..., BN, max_key = integer , normalize = boolean)\n",
      "\n",
      "The first set of arguments are as usual a sequence of banner names of arbitrary length. Again, leaving out the banner names is the same as specifying all banners known to the Test object. Then there are two optional keyword parameters. Try playing around with them to see what they do!\n",
      "\n"
     ]
    },
    {
     "cell_type": "code",
     "collapsed": false,
     "input": [
      "t.plot_utm_key(max_key = 5, normalize = False)"
     ],
     "language": "python",
     "metadata": {},
     "outputs": [],
     "prompt_number": ""
    },
    {
     "cell_type": "markdown",
     "metadata": {},
     "source": [
      "Note: to get a sense of how long the tail of the distribution is, I include a point that shows how many people saw more than max_key impressions before donating."
     ]
    },
    {
     "cell_type": "markdown",
     "metadata": {},
     "source": [
      "## Does the donation rate vary over time?\n",
      "\n",
      "Prototype: t.plot_donations_over_time(B1, B2, ..., BN, start = datetime, stop = datetime, smooth = integer, amount = boolean)\n",
      "\n",
      "Key Word Parameters:\n",
      "\n",
      "start: only include data after this datetime \n",
      "\n",
      "end: only inlclude data befroe this datetime\n",
      "\n",
      "smooth: the number of records to avergae at each point\n",
      "\n",
      "amount: if True, shows donation amounts. if False, shows donation rate"
     ]
    },
    {
     "cell_type": "code",
     "collapsed": false,
     "input": [
      "t.plot_donations_over_time('all', smooth = 7, amount = False, stop = '2014-10-03 15:00')"
     ],
     "language": "python",
     "metadata": {},
     "outputs": [],
     "prompt_number": ""
    },
    {
     "cell_type": "markdown",
     "metadata": {},
     "source": [
      "##Compare Donation Amount Histigrams\n",
      "\n",
      "Prototype: t.copare_donations_amounts(B1, B2)\n",
      "\n",
      "This function is still in progress and breaks the mold of the other prototypes. You can only look at two banners at a time."
     ]
    },
    {
     "cell_type": "code",
     "collapsed": false,
     "input": [
      "t.compare_donation_amounts('B14_1003_enUS_dsk_rpt_1', 'B14_1003_enUS_dsk_rpt_2' )"
     ],
     "language": "python",
     "metadata": {},
     "outputs": [],
     "prompt_number": ""
    },
    {
     "cell_type": "markdown",
     "metadata": {},
     "source": [
      "##Comparing Different Rates\n",
      "\n",
      "usage: t.rate_stats(B1, B2, ...BN, conf = 90, rate = 'donations/impressions', plot = True)\n",
      "\n",
      "Args:\n",
      "Bi: string name of the ith banner\n",
      "- conf: confidence level in [0, 100] for the confidence intervals.\n",
      "- rate: there are three kinds of rates this function can handle:\n",
      "  - 'donations/impressions': donations per impression\n",
      "  - 'clicks/impressions': clicks per impression\n",
      "  - 'donations/clicks': donations per click\n",
      "- plot: whether to plot the distributions over the CTRs\n",
      "\n",
      "\n",
      "This function computes:\n",
      "- P(Bi is Best): probability that banner Bi gives more donations per impression than all other banners\n",
      "\n",
      "- Winers Lift: a 'conf' percent confidence interval on the percent lift in rate the winning banenr  has over the others\n",
      "- CI: a 'conf' percent confidence interval for the rate of Bi"
     ]
    },
    {
     "cell_type": "code",
     "collapsed": false,
     "input": [
      "t.rate_stats('B14_1003_enUS_dsk_rpt_1', 'B14_1003_enUS_dsk_rpt_2', plot = True )"
     ],
     "language": "python",
     "metadata": {},
     "outputs": [],
     "prompt_number": ""
    },
    {
     "cell_type": "markdown",
     "metadata": {},
     "source": [
      "Here we got results for donations per impression at 90% confidence"
     ]
    },
    {
     "cell_type": "code",
     "collapsed": false,
     "input": [
      "t.rate_stats('B14_1003_enUS_dsk_rpt_1', 'B14_1003_enUS_dsk_rpt_2', conf = 99)"
     ],
     "language": "python",
     "metadata": {},
     "outputs": [],
     "prompt_number": ""
    },
    {
     "cell_type": "markdown",
     "metadata": {},
     "source": [
      "Here we got results for donations per impression at 99% confidence. Notice how the confidence intervals expand"
     ]
    },
    {
     "cell_type": "code",
     "collapsed": false,
     "input": [
      "t.rate_stats('B14_1003_enUS_dsk_rpt_1', 'B14_1003_enUS_dsk_rpt_2', conf = 99, rate = 'donations/clicks' )"
     ],
     "language": "python",
     "metadata": {},
     "outputs": [],
     "prompt_number": ""
    },
    {
     "cell_type": "markdown",
     "metadata": {},
     "source": [
      "Here we got results for donations per click at 99% confidence."
     ]
    },
    {
     "cell_type": "markdown",
     "metadata": {},
     "source": [
      "##Comparing Donation Amounts?\n",
      "\n",
      "Gives a confidence for difference in the dollars per 1000 impressions between banners a, b \n",
      "Prototype: t.amount_stats(a_name, b_name, conf = 90, rate = 'donations/impressions')\n",
      "- a: string name of the A banner\n",
      "- b: string name of the B banner\n",
      "- conf: confidence level in [0, 100] for the confidence intervals.\n",
      "- rate: there are two kinds of rates this function can handle:\n",
      "   - 'donations/impressions': \n",
      "   - 'donations/clicks': donations per click\n",
      "- remove_outliers: remove donations exceeding 3 standard deviations from the mean\n",
      "\n",
      "\n",
      "\n"
     ]
    },
    {
     "cell_type": "code",
     "collapsed": false,
     "input": [
      "t.amount_stats('B14_1003_enUS_dsk_rpt_1', 'B14_1003_enUS_dsk_rpt_2', conf = 90, rate = 'donations/clicks' )"
     ],
     "language": "python",
     "metadata": {},
     "outputs": [],
     "prompt_number": ""
    },
    {
     "cell_type": "code",
     "collapsed": false,
     "input": [
      "t.amount_stats('B14_1003_enUS_dsk_rpt_1', 'B14_1003_enUS_dsk_rpt_2', conf = 99, rate = 'donations/impressions' )"
     ],
     "language": "python",
     "metadata": {},
     "outputs": [],
     "prompt_number": ""
    },
    {
     "cell_type": "code",
     "collapsed": false,
     "input": [
      "t.amount_stats('B14_1003_enUS_dsk_rpt_1', 'B14_1003_enUS_dsk_rpt_2', conf = 99, rate = 'donations/impressions',remove_outliers =False)"
     ],
     "language": "python",
     "metadata": {},
     "outputs": [],
     "prompt_number": ""
    },
    {
     "cell_type": "code",
     "collapsed": false,
     "input": [],
     "language": "python",
     "metadata": {},
     "outputs": []
    }
   ],
   "metadata": {}
  }
 ]
}