{
 "metadata": {
  "name": "",
  "signature": "sha256:79aee46ea75e1c8470bb26e00dbac1f4ac5f2d86e4e496d46fc79164ccac98b8"
 },
 "nbformat": 3,
 "nbformat_minor": 0,
 "worksheets": [
  {
   "cells": [
    {
     "cell_type": "code",
     "collapsed": false,
     "input": [
      "\n",
      "%matplotlib inline\n",
      "%load_ext autoreload\n",
      "%autoreload 2\n",
      "import pandas as pd\n",
      "pd.options.display.mpl_style = 'default'\n",
      "\n",
      "import inspect, os\n",
      "currentdir = os.path.dirname(os.path.abspath(inspect.getfile(inspect.currentframe())))\n",
      "parentdir = os.path.dirname(currentdir)\n",
      "print parentdir\n",
      "\n",
      "os.sys.path.insert(0,parentdir) \n",
      "from src.dashboard_helpers import Test\n",
      "\n"
     ],
     "language": "python",
     "metadata": {},
     "outputs": [],
     "prompt_number": ""
    },
    {
     "cell_type": "code",
     "collapsed": false,
     "input": [
      "t = Test(\"B14_1015_enBE_dsk_full_nn\", \"B14_1015_enBE_dsk_full_y1\", \"B14_1015_enBE_dsk_full_y2\", start = '2014-10-10')"
     ],
     "language": "python",
     "metadata": {},
     "outputs": [],
     "prompt_number": ""
    },
    {
     "cell_type": "code",
     "collapsed": false,
     "input": [
      "t.combine([\"B14_1015_enBE_dsk_full_y1\", \"B14_1015_enBE_dsk_full_y2\"], 'B14_1015_enBE_dsk_full_y')\n",
      "t.combine([\"B14_1015_enBE_dsk_full_nn\", \"B14_1015_enBE_dsk_full_y1\", \"B14_1015_enBE_dsk_full_y2\"], 'all')\n"
     ],
     "language": "python",
     "metadata": {},
     "outputs": [],
     "prompt_number": ""
    },
    {
     "cell_type": "code",
     "collapsed": false,
     "input": [
      "t.ecom(\"B14_1015_enBE_dsk_full_nn\", \"B14_1015_enBE_dsk_full_y\")\n"
     ],
     "language": "python",
     "metadata": {},
     "outputs": [],
     "prompt_number": ""
    },
    {
     "cell_type": "code",
     "collapsed": false,
     "input": [
      "t.get_payment_method_details()"
     ],
     "language": "python",
     "metadata": {},
     "outputs": [],
     "prompt_number": ""
    },
    {
     "cell_type": "code",
     "collapsed": false,
     "input": [
      "t.rate_stats( \"B14_1015_enBE_dsk_full_nn\", \"B14_1015_enBE_dsk_full_y1\", \"B14_1015_enBE_dsk_full_y2\", plot = True)"
     ],
     "language": "python",
     "metadata": {},
     "outputs": [],
     "prompt_number": ""
    },
    {
     "cell_type": "code",
     "collapsed": false,
     "input": [
      "t.amount_stats('B14_1015_enBE_dsk_full_y', 'B14_1015_enBE_dsk_full_nn')"
     ],
     "language": "python",
     "metadata": {},
     "outputs": [],
     "prompt_number": ""
    },
    {
     "cell_type": "code",
     "collapsed": false,
     "input": [
      "t.plot_impressions( stop = '2014-10-16 04:00',  smooth = 20)"
     ],
     "language": "python",
     "metadata": {},
     "outputs": [],
     "prompt_number": ""
    },
    {
     "cell_type": "code",
     "collapsed": false,
     "input": [
      "t.compare_donation_amounts('B14_1015_enBE_dsk_full_y', 'B14_1015_enBE_dsk_full_nn' )"
     ],
     "language": "python",
     "metadata": {},
     "outputs": [],
     "prompt_number": ""
    },
    {
     "cell_type": "code",
     "collapsed": false,
     "input": [
      "t.plot_utm_key(max_key = 5, normalize = True)"
     ],
     "language": "python",
     "metadata": {},
     "outputs": [],
     "prompt_number": ""
    },
    {
     "cell_type": "markdown",
     "metadata": {},
     "source": [
      "There was a bug in the banner code, so utm key is \"always\" 0."
     ]
    },
    {
     "cell_type": "code",
     "collapsed": false,
     "input": [
      "t.plot_donations_over_time(smooth = 100, amount = False, stop = '2014-10-17 04:00')"
     ],
     "language": "python",
     "metadata": {},
     "outputs": [],
     "prompt_number": ""
    },
    {
     "cell_type": "markdown",
     "metadata": {},
     "source": [
      "We can see that the time of day changes the rate of donations per impression"
     ]
    }
   ],
   "metadata": {}
  }
 ]
}