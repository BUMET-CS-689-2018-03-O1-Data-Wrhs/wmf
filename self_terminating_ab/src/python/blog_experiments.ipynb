{
 "metadata": {
  "name": "",
  "signature": "sha256:6ea432de6a916303e8d9b45806137927c30bbb7f286ecd7374e181c947e84d92"
 },
 "nbformat": 3,
 "nbformat_minor": 0,
 "worksheets": [
  {
   "cells": [
    {
     "cell_type": "code",
     "collapsed": false,
     "input": [
      "%matplotlib inline\n",
      "%load_ext autoreload\n",
      "%autoreload 2\n",
      "import pandas as pd\n",
      "pd.options.display.mpl_style = 'default'\n",
      "import numpy as np\n",
      "from abtest_util import SimStream, DonationProb, EmpiricalDonationProb\n",
      "from bayesian_abtest import CostABTest\n",
      "from nh_abtest import NHABTest, samples_per_branch_calculator\n",
      "from abstract_abtest import expected_results, expected_results_by_lift"
     ],
     "language": "python",
     "metadata": {},
     "outputs": [],
     "prompt_number": ""
    },
    {
     "cell_type": "code",
     "collapsed": false,
     "input": [
      "#Define Ground Truth Click Through Rates\n",
      "# DonationProb class\n",
      "p_B = DonationProb(0.19)\n",
      "p_A = DonationProb(0.20)\n",
      "\n",
      "# Estimate Control CTR From Historical Data\n",
      "n = 10000\n",
      "hist_data_B = SimStream(p_B).get_next_records(n)\n",
      "p_hat = EmpiricalDonationProb(hist_data_B, p_B.values)\n",
      "ci =  p_hat.p_donate_ci()\n",
      "print \"CI over control:\",  ci\n",
      "interval = round(1.0/ci[0])*50\n",
      "print \"Evalaution Interval\", interval\n",
      "\n",
      "#interest in lift vlaues:\n",
      "lifts = [-0.20, -0.10, -0.05, -0.025, -0.015, 0.015, 0.025, 0.05, 0.10, 0.20]\n"
     ],
     "language": "python",
     "metadata": {},
     "outputs": [],
     "prompt_number": ""
    },
    {
     "cell_type": "code",
     "collapsed": false,
     "input": [
      "# Set Up Cost  AB Test\n",
      "\n",
      "cost = 0.001\n",
      "max_run = float('inf')  #this one is so clean it doesnt need a max_run arg\n",
      "iters = 200\n",
      "\n",
      "expected_results_by_lift(CostABTest,[None, None, interval, max_run, cost], iters, p_hat, lifts)\n"
     ],
     "language": "python",
     "metadata": {},
     "outputs": []
    },
    {
     "cell_type": "code",
     "collapsed": false,
     "input": [
      "# Set Up NH  AB Test\n",
      "mde = 0.05\n",
      "alpha = 0.05\n",
      "power = 0.95\n",
      "max_run = samples_per_branch_calculator(p_hat, mde, alpha, power)\n",
      "print max_run\n",
      "\n",
      "iters = 20\n",
      "expected_results_by_lift(NHABTest,[None, None, interval, max_run, alpha], iters, p_hat, lifts)"
     ],
     "language": "python",
     "metadata": {},
     "outputs": [],
     "prompt_number": ""
    }
   ],
   "metadata": {}
  }
 ]
}