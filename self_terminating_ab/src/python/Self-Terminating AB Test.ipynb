{
 "metadata": {
  "name": "",
  "signature": "sha256:6892abab63c25deaf3c766de8e7ec993278d237828425618625aef4ca53e860c"
 },
 "nbformat": 3,
 "nbformat_minor": 0,
 "worksheets": [
  {
   "cells": [
    {
     "cell_type": "code",
     "collapsed": false,
     "input": [
      "%matplotlib inline\n",
      "%load_ext autoreload\n",
      "%autoreload 2\n",
      "import pandas as pd\n",
      "pd.options.display.mpl_style = 'default'\n",
      "import numpy as np\n",
      "from abtest_util import SimStream, DonationProb, EmpiricalDonationProb\n",
      "from bayesian_abtest import CredibilityABTest, CostABTest\n",
      "from nh_abtest import NHABTest, samples_per_branch_calculator\n",
      "from abstract_abtest import expected_results, expected_results_by_lift"
     ],
     "language": "python",
     "metadata": {},
     "outputs": [],
     "prompt_number": ""
    },
    {
     "cell_type": "code",
     "collapsed": false,
     "input": [
      "#Ground Truth Click Through Rates\n",
      "p_B = DonationProb(0.0019, [1,], [1.0,])\n",
      "p_A = DonationProb(0.0020, [1,], [1.0,])\n",
      "\n",
      "# Estimate Control CTR From Historical Data\n",
      "n = 100000\n",
      "hist_data_B = SimStream(p_B).get_next_records(n)\n",
      "p_hat = EmpiricalDonationProb(hist_data_B, p_B.values)\n",
      "ci =  p_hat.p_donate_ci()\n",
      "print \"CI over control:\",  ci\n",
      "interval = round(1.0/ci[0])*50\n",
      "print \"Evalaution Interval\", interval\n",
      "\n",
      "#interest in lift vlaues:\n",
      "lifts = [-0.20, -0.10, -0.05, -0.025, -0.015, 0.015, 0.025, 0.05, 0.10, 0.20]\n"
     ],
     "language": "python",
     "metadata": {},
     "outputs": [],
     "prompt_number": ""
    },
    {
     "cell_type": "code",
     "collapsed": false,
     "input": [
      "# Set Up Credible  AB Test\n",
      "\n",
      "conf = 0.95\n",
      "\n",
      "#in this case we need to estimate the max run time\n",
      "mde = 0.05 \n",
      "iters = 100\n",
      "p_better, p_same, times = expected_results(CredibilityABTest,[SimStream(p_B.lift(mde)), SimStream(p_B), interval, float('inf'), conf], iters)\n",
      "print \"P(Choose A):\",  p_better\n",
      "print \"Mean Run time: \", np.mean(times)\n",
      "print \"STD run Time: \", np.std(times)\n",
      "max_run = np.percentile(times, 95)\n",
      "print \"Max Run Time: \", max_run\n",
      "\n",
      "iters = 200\n",
      "expected_results_by_lift(CredibilityABTest,[SimStream(p_A), SimStream(p_B), interval, max_run, conf], iters, p_hat, lifts)"
     ],
     "language": "python",
     "metadata": {},
     "outputs": [],
     "prompt_number": ""
    },
    {
     "cell_type": "code",
     "collapsed": false,
     "input": [
      "# Set Up Cost  AB Test\n",
      "\n",
      "cost = 0.001\n",
      "max_run = float('inf')  #this one is so clean it doesnt need a max_run arg\n",
      "\n",
      "iters = 200\n",
      "expected_results_by_lift(CostABTest,[SimStream(p_A), SimStream(p_B), interval, max_run, cost], iters, p_hat, lifts)\n"
     ],
     "language": "python",
     "metadata": {},
     "outputs": [],
     "prompt_number": ""
    },
    {
     "cell_type": "code",
     "collapsed": false,
     "input": [
      "# Set Up NH  AB Test\n",
      "mde = 0.05\n",
      "alpha = 0.05\n",
      "power = 0.95\n",
      "max_run = samples_per_branch_calculator(p_hat, mde, alpha, power)\n",
      "print max_run\n",
      "\n",
      "iters = 200\n",
      "expected_results_by_lift(NHABTest,[SimStream(p_A), SimStream(p_B), interval, max_run, alpha], iters, p_hat, lifts)"
     ],
     "language": "python",
     "metadata": {},
     "outputs": [],
     "prompt_number": ""
    },
    {
     "cell_type": "code",
     "collapsed": false,
     "input": [],
     "language": "python",
     "metadata": {},
     "outputs": []
    },
    {
     "cell_type": "code",
     "collapsed": false,
     "input": [],
     "language": "python",
     "metadata": {},
     "outputs": []
    },
    {
     "cell_type": "code",
     "collapsed": false,
     "input": [],
     "language": "python",
     "metadata": {},
     "outputs": []
    },
    {
     "cell_type": "code",
     "collapsed": false,
     "input": [],
     "language": "python",
     "metadata": {},
     "outputs": []
    },
    {
     "cell_type": "code",
     "collapsed": false,
     "input": [
      "from numpy.random import binomial, multinomial, beta, dirichlet\n",
      "import matplotlib.pyplot as plt\n",
      "a_dist =  beta(7500,  378250, 1000000)\n",
      "b_dist =  beta(7500,  378250, 1000000)\n",
      "\n",
      "#print (a_dist - b_dist)/b_dist\n",
      "#pd.Series((a_dist - b_dist)/b_dist).apply(lambda x: max(x, 0) )"
     ],
     "language": "python",
     "metadata": {},
     "outputs": [],
     "prompt_number": ""
    },
    {
     "cell_type": "code",
     "collapsed": false,
     "input": [
      "lift_d = (a_dist - b_dist)/b_dist\n",
      "plt.hist((a_dist - b_dist)/b_dist, bins = 100)\n",
      "cost_d = pd.Series((a_dist - b_dist)/b_dist).apply(lambda x: max(x, 0) )\n",
      "plt.hist(cost_d, bins = 100)\n",
      "print \"Cost of Choosing B:\", cost_d.mean()\n",
      "print \"A_mean \", a_dist.mean()\n",
      "print \"B_mean:\", b_dist.mean()\n",
      "print \"P(B_Better):\", (b_dist>a_dist).mean()"
     ],
     "language": "python",
     "metadata": {},
     "outputs": [],
     "prompt_number": ""
    },
    {
     "cell_type": "code",
     "collapsed": false,
     "input": [
      "from numpy import *\n",
      "from matplotlib import use\n",
      "\n",
      "from pylab import *\n",
      "from scipy.stats import beta, norm, uniform\n",
      "from random import random\n",
      "from numpy import *\n",
      "import numpy as np\n",
      "import os"
     ],
     "language": "python",
     "metadata": {},
     "outputs": [],
     "prompt_number": ""
    },
    {
     "cell_type": "code",
     "collapsed": false,
     "input": [
      "mgrid[0:10, 0:10]/10.0"
     ],
     "language": "python",
     "metadata": {},
     "outputs": [],
     "prompt_number": ""
    },
    {
     "cell_type": "code",
     "collapsed": false,
     "input": [
      "prior_params = [ (1, 1), (1,1) ]\n",
      "threshold_of_caring = 0.0001\n",
      "\n",
      "N = array([ 100,  100 ])\n",
      "s = array([  50,  55 ])"
     ],
     "language": "python",
     "metadata": {},
     "outputs": [],
     "prompt_number": ""
    },
    {
     "cell_type": "code",
     "collapsed": false,
     "input": [
      "degrees_of_freedom = len(prior_params)\n",
      "posteriors = []\n",
      "for i in range(degrees_of_freedom):\n",
      "    posteriors.append( beta(prior_params[i][0] + s[i] - 1, prior_params[i][1] + N[i] - s[i] - 1) )\n"
     ],
     "language": "python",
     "metadata": {},
     "outputs": [],
     "prompt_number": ""
    },
    {
     "cell_type": "code",
     "collapsed": false,
     "input": [
      "xgrid_size = 10\n",
      "\n",
      "x = mgrid[0:xgrid_size,0:xgrid_size] / float(xgrid_size)\n",
      "x[0]"
     ],
     "language": "python",
     "metadata": {},
     "outputs": [],
     "prompt_number": ""
    },
    {
     "cell_type": "code",
     "collapsed": false,
     "input": [
      "x[1]\n"
     ],
     "language": "python",
     "metadata": {},
     "outputs": [],
     "prompt_number": ""
    },
    {
     "cell_type": "code",
     "collapsed": false,
     "input": [
      "posteriors[0].pdf(x[1])"
     ],
     "language": "python",
     "metadata": {},
     "outputs": [],
     "prompt_number": ""
    },
    {
     "cell_type": "code",
     "collapsed": false,
     "input": [
      "pdf_arr = posteriors[0].pdf(x[1]) * posteriors[1].pdf(x[0])\n",
      "pdf_arr /= pdf_arr.sum() # normalization\n"
     ],
     "language": "python",
     "metadata": {},
     "outputs": [],
     "prompt_number": ""
    },
    {
     "cell_type": "code",
     "collapsed": false,
     "input": [
      "pdf_arr.shape"
     ],
     "language": "python",
     "metadata": {},
     "outputs": [],
     "prompt_number": ""
    },
    {
     "cell_type": "code",
     "collapsed": false,
     "input": [],
     "language": "python",
     "metadata": {},
     "outputs": []
    }
   ],
   "metadata": {}
  }
 ]
}